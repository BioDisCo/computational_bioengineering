{
 "cells": [
  {
   "cell_type": "markdown",
   "metadata": {},
   "source": [
    "# Problem 1: Negative autoregulation\n",
    "\n",
    "<hr>\n"
   ]
  },
  {
   "cell_type": "markdown",
   "metadata": {},
   "source": [
    "Consider the two simple circuits shown below (adapted from [Del Vecchio and Murray, *Biomolecular Feedback Systems*](http://www.cds.caltech.edu/~murray/BFSwiki/index.php/Main_Page), Figure 2.7), where A is an arbitrary repressor (it could be, e.g., LacI).\n",
    "\n",
    "<figure style=\"width: 600px; margin: auto; padding: 20px;\">\n",
    "  <img src=\"autoreg.png\" alt=\"autoregulation\">\n",
    "</figure>\n",
    "\n",
    "We parametrize the dynamics as follows.  Let $\\beta_m$ be the unregulated mRNA production rate, $\\gamma_m$ be the mRNA degradation rate constant, $\\beta_p$ be the protein production rate constant, and $\\gamma_p$ be the protein degradation rate constant.\n",
    "\n",
    "**a)** Assuming mass action kinetics, write down mathematical expressions in the form of a system of coupled ODEs for the left figure (unregulated expression). Assume that this system exhibits no leakiness.\n",
    "    \n",
    "**b)** Find the steady state mRNA concentration, $m_0$, and the steady state protein concentration, $p_0$, in terms of the given parameters.\n",
    "\n",
    "**c)** Now write down mathematical expressions in the form of a system of coupled ODEs for the right figure (negatively autoregulated expression). Assume that repression serves to decrease the mRNA production rate by a factor of $1/(1 + (p/k)^n)$, where $p$ is the protein concentration. This is a repressive Hill function with Hill coefficient $n$ and activation constant $k$. Again, assume that this system exhibits no leakiness.\n",
    "\n",
    "**d)** One of the ways we quantify the separation of time scales is by evaluating the ratio $\\gamma = \\gamma_p/\\gamma_m$. Provide an argument why we may neglect the mRNA dynamics and consider only the protein if $\\gamma \\ll 1$.\n",
    "\n",
    "**e)** Assume we initially have no mRNA or protein present. Suddenly, a cell needs to start producing the protein, so the gene is turned on at time $t = 0$.  Starting from initial conditions of $m(0) = p(0) = 0$, solve the ODEs (numerically or otherwise) for both the unregulated and autoregulated systems. You should choose parameters as would be typical for a bacterial cell. The excellent [BioNumbers website](https://bionumbers.hms.harvard.edu/search.aspx) will be helpful. Plot the respective dimensionless mRNA and protein concentrations over time. Comment on the nature of the responses of the unregulated versus regulated circuit. Which has a faster response? How long does it take each to get to steady state?"
   ]
  },
  {
   "cell_type": "markdown",
   "metadata": {},
   "source": [
    "# Problem 2: Autoactivation, bistability, and the importance of leakage\n",
    "\n",
    "<hr>"
   ]
  },
  {
   "cell_type": "markdown",
   "metadata": {},
   "source": [
    "In this problem, we will explore a very simple circuit: autoactivation of a single gene, shown in the figure below.  We will assume a separation of time scales in mRNA and protein degradation/dilution such that we only need to consider the dynamics of the protein, and we will call its concentration $x$.  We will further assume that the autoactivation effect can be modeled as a Hill function with Hill coefficient $n$.\n",
    "\n",
    "<figure style=\"width: 300px; margin: auto; padding: 20px;\">\n",
    "  <img src=\"autoactivator.png\" alt=\"autoactivator\">\n",
    "</figure>\n",
    "\n",
    "**a)** Write down an ODE describing the dynamics of $x$. Include leakage parametrized by $\\alpha$.\n",
    "\n",
    "**b)** Show that for $n = 1$, only one steady state exists for $\\alpha > 0$. Show further that when $\\alpha = 0$, two steady states may exist, but only one is stable.\n",
    "\n",
    "**c)** In part (b), we considered the case where activation is not cooperative. We now consider the other extreme, where activation is infinitely cooperative. Derive the condition for bistability when $n\\to\\infty$.  In other words, for what parameter values does the circuit exhibit two stable steady states? Discuss this condition as it relates to design principles for bistability."
   ]
  },
  {
   "cell_type": "markdown",
   "metadata": {},
   "source": [
    "# Problem 3: Bioproduction\n",
    "<hr>"
   ]
  },
  {
   "cell_type": "markdown",
   "metadata": {},
   "source": [
    "## Question.\n",
    "\n",
    "We are given the growth curve of Escherichia coli in a 1L bioreactor over 20h (Fig. 4 in [1]). The goal is to provide a simple model of the population growth.\n",
    "\n",
    "## Details.\n",
    "\n",
    "The model must only cover a simple growth behavior of the E. coli population that reasonably well fits the growth data in Fig. 4 - it should be as simple as possible. In particular it can neglect IPTG induction, O2, kanamycin, and the production of HA1, among many other effects.\n",
    "\n",
    "## Subquestions.\n",
    "\n",
    "1. Propose a Chemical Reaction Network (CRN) model for a growth process and discuss your design decisions. The CRN model can assume that all reactions are of the form\n",
    "\n",
    "    A + B -> C + D [$\\gamma$]\n",
    "\n",
    "   with A, B, C, and D also potentially being absent from the reaction and the rection rate being $\\gamma * [A] * [B]$ (mass action kinetics). Discuss how you match the model outputs (e.g. counts/mL) to the OD in Fig. 4.\n",
    "\n",
    "2. Code & simulate your model in Python MobsPy [2] for realistic but guessed parameters in your model.\n",
    "\n",
    "3. Find optimised model parameters with Python `scipy.optimize` (or a similar library) and plot an overlay of the measured curve in Fig. 4 and your model output.\n",
    "\n",
    "[1] https://www.researchsquare.com/article/rs-16009/v1  \n",
    "[2] https://github.com/ROBACON/mobspy\n"
   ]
  }
 ],
 "metadata": {
  "anaconda-cloud": {},
  "kernelspec": {
   "display_name": "Python 3 (ipykernel)",
   "language": "python",
   "name": "python3"
  },
  "language_info": {
   "codemirror_mode": {
    "name": "ipython",
    "version": 3
   },
   "file_extension": ".py",
   "mimetype": "text/x-python",
   "name": "python",
   "nbconvert_exporter": "python",
   "pygments_lexer": "ipython3",
   "version": "3.12.4"
  }
 },
 "nbformat": 4,
 "nbformat_minor": 4
}
