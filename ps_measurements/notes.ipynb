{
 "cells": [
  {
   "cell_type": "markdown",
   "metadata": {},
   "source": [
    "# Problem 1: Simulating Optical Density Measurements\n",
    "\n",
    "<hr>\n"
   ]
  },
  {
   "cell_type": "markdown",
   "metadata": {},
   "source": [
    "\n",
    "Assume bacteria are shaped like spheres of a certain radius $r > 0$. Further, assume that if light hits a bacteria, it is scattered into a random direction.\n",
    "\n",
    "Write code that allows you to:\n",
    "1. Initalize a certain number of non-overlapping spheres in a 2D volume of size $1 \\times 1$. Make sure that spheres do not overlap.\n",
    "2. Simulate scattering of light by following ray traces emitted form the left in parallel.\n",
    "3. Simulate capturing of these traces through a hole of size $h > 0$ within distance $\\ell > 0$ to the testing volume.\n",
    "\n",
    "Experiment with:\n",
    "1. The OD that you measure as a function of the number of spheres.\n",
    "2. Think of experiments for $r$, $h$, and $\\ell$ and what you would expect. Then test your hypothesis.\n",
    "\n",
    "Limitations:\n",
    "1. What are limitations of our simplified model?"
   ]
  }
 ],
 "metadata": {
  "anaconda-cloud": {},
  "kernelspec": {
   "display_name": "venv",
   "language": "python",
   "name": "python3"
  },
  "language_info": {
   "codemirror_mode": {
    "name": "ipython",
    "version": 3
   },
   "file_extension": ".py",
   "mimetype": "text/x-python",
   "name": "python",
   "nbconvert_exporter": "python",
   "pygments_lexer": "ipython3",
   "version": "3.12.3"
  }
 },
 "nbformat": 4,
 "nbformat_minor": 4
}
