{
 "cells": [
  {
   "cell_type": "markdown",
   "metadata": {},
   "source": [
    "# Problem 1: Non-Self-Destructive Interactions\n",
    "\n",
    "<hr>\n"
   ]
  },
  {
   "cell_type": "markdown",
   "metadata": {},
   "source": [
    "In this problem, we study the Pairwise Annihilation protocol with non-self-destructive interactions. That is, we replace the reaction $A+B \\to \\emptyset$ by the two reactions $A+B\\to A$ and $A+B \\to B$ (both with rate constant $\\delta/2$).\n",
    "\n",
    "How does this change affect the probability of achieving majority consensus? All ways of tackling this problem are fair game, in particular analytical reasoning, simulation, and experimentation."
   ]
  },
  {
   "cell_type": "markdown",
   "metadata": {},
   "source": [
    "# Problem 2: No Interaction\n",
    "\n",
    "<hr>"
   ]
  },
  {
   "cell_type": "markdown",
   "metadata": {},
   "source": [
    "In this problem, we study two parallel bacterial colonies without interaction. For this, we add the individual death reactions $A \\to \\emptyset$ and $B \\to \\emptyset$ for each of the two species (both with an identical rate constant $\\delta$).\n",
    "\n",
    "How does this change affect the probability of achieving majority consensus? All ways of tackling this problem are fair game, in particular analytical reasoning, simulation, and experimentation."
   ]
  },
  {
   "cell_type": "markdown",
   "metadata": {},
   "source": [
    "# Problem 3: Biological Implementation via Conjugation\n",
    "\n",
    "<hr>"
   ]
  },
  {
   "cell_type": "markdown",
   "metadata": {},
   "source": [
    "In this problem, we want to model and simulate a plausible biological implementation of the Pairwise Annihilation protocol. For that, we will assume:\n",
    "\n",
    "* individual birth and death reactions\n",
    "* birth reactions of the form $A + R \\to A + A$ with some resource $R$\n",
    "* a typical resource concentration of about $[R] = 10^8 mL^{-1}$ in [LB medium](https://en.wikipedia.org/wiki/Lysogeny_broth)\n",
    "* non-self-destructive interactions since bacterial conjugation is uni-directional\n",
    "* a significantly increased death rate (as opposed to instant annihilation) after conjugation by the other species\n",
    "* a realistic conjugation rate for *E. coli*, taken from [this paper](https://www.cell.com/biophysj/fulltext/S0006-3495(11)00577-7) for example\n",
    "\n",
    "Some rates and parameters are missing from the above list. Try to find estimations for them on your own (sources are abound).\n",
    "\n",
    "Analyze the model you came up with via simulation."
   ]
  }
 ],
 "metadata": {
  "anaconda-cloud": {},
  "kernelspec": {
   "display_name": "Python 3 (ipykernel)",
   "language": "python",
   "name": "python3"
  },
  "language_info": {
   "codemirror_mode": {
    "name": "ipython",
    "version": 3
   },
   "file_extension": ".py",
   "mimetype": "text/x-python",
   "name": "python",
   "nbconvert_exporter": "python",
   "pygments_lexer": "ipython3",
   "version": "3.12.4"
  }
 },
 "nbformat": 4,
 "nbformat_minor": 4
}
