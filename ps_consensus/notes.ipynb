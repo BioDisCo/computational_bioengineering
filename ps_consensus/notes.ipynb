{
 "cells": [
  {
   "cell_type": "markdown",
   "metadata": {},
   "source": [
    "# Problem 1: Self-Destructive Interactions\n",
    "\n",
    "<hr>\n",
    "\n",
    "We discussed in the lecture a simple distributed algorithm / CRN with the only reaction being\n",
    "\n",
    "$$\n",
    "A + B \\rightarrow \\emptyset\n",
    "$$\n",
    "\n",
    "**a)** Write a formula for the expected time until consensus is reached assuming the system starts at $A_0 > B_0$.\n",
    "<details class=\"spoiler\"><summary>Show hint</summary>\n",
    "<div>\n",
    "Each, A and B, decreases simultaneously by 1 at rate\n",
    "\n",
    "$$\n",
    "\\delta A B\n",
    "$$\n",
    "\n",
    "Assuming the population starts at $A_0 > B_0$, it traverses the states $(A_0 - k, B_0 - k)$ for $0 \\leq k \\leq B_0$.\n",
    "Each of the decrements follows an exponential distribution and the decrements are independent from each other.\n",
    "</div></details>\n",
    "\n",
    "**b)** For a fixed $B_0$ that is the minimum of $A_0$ and $B_0$, what is the $A_0 \\geq B_0$ that has the worst-case (maximal) time until consensus.\n",
    "<details class=\"spoiler\"><summary>Show hint</summary>\n",
    "<div>\n",
    "Take the formula you derived in (a) and study when the terms\n",
    "\n",
    "$$\n",
    "\\frac{1}{\\delta (A_0-k)(B_0-k)}\n",
    "$$\n",
    "\n",
    "are maximal for $A_0$ given that $A_0 \\geq B_0$.\n",
    "</div></details>\n",
    "\n",
    "**c)** Given the outcomes from (a) and (b), use the bound in (b) to show that the expected time until consensus is in $O(1)$.\n",
    "<details class=\"spoiler\"><summary>Show hint</summary>\n",
    "<div>\n",
    "\n",
    "Using bound (b), proceed with\n",
    "\n",
    "$$\n",
    "\\frac{1}{\\delta (A_0-k)(B_0-k)} \\leq \\frac{1}{\\delta (B_0-k)^2}\n",
    "$$\n",
    "\n",
    "and reformulate to bound with\n",
    "\n",
    "$$\n",
    "\\sum_{m=1}^{\\infty}\\frac{1}{m^2}\n",
    "$$\n",
    "\n",
    "</div></details>"
   ]
  },
  {
   "cell_type": "markdown",
   "metadata": {},
   "source": [
    "# Problem 1: Non-Self-Destructive Interactions\n",
    "\n",
    "<hr>\n",
    "\n",
    "In this problem, we study the Pairwise Annihilation protocol with non-self-destructive interactions. That is, we replace the reaction $A+B \\to \\emptyset$ by the two reactions $A+B\\to A$ and $A+B \\to B$ (both with rate constant $\\delta/2$).\n",
    "\n",
    "How does this change affect the probability of achieving majority consensus? All ways of tackling this problem are fair game, in particular analytical reasoning, simulation, and experimentation.\n"
   ]
  },
  {
   "cell_type": "markdown",
   "metadata": {},
   "source": [
    "# Problem 2: No Interaction\n",
    "\n",
    "<hr>\n",
    "\n",
    "In this problem, we study two parallel bacterial colonies without interaction. For this, we add the individual death reactions $A \\to \\emptyset$ and $B \\to \\emptyset$ for each of the two species (both with an identical rate constant $\\delta$).\n",
    "\n",
    "How does this change affect the probability of achieving majority consensus? All ways of tackling this problem are fair game, in particular analytical reasoning, simulation, and experimentation."
   ]
  },
  {
   "cell_type": "markdown",
   "metadata": {},
   "source": [
    "# Problem 3: Biological Implementation via Conjugation\n",
    "\n",
    "<hr>\n",
    "\n",
    "In this problem, we want to model and simulate a plausible biological implementation of the Pairwise Annihilation protocol. For that, we will assume:\n",
    "\n",
    "* individual birth and death reactions\n",
    "* birth reactions of the form $A + R \\to A + A$ with some resource $R$\n",
    "* a typical resource concentration of about $[R] = 10^8 mL^{-1}$ in [LB medium](https://en.wikipedia.org/wiki/Lysogeny_broth)\n",
    "* non-self-destructive interactions since bacterial conjugation is uni-directional\n",
    "* a significantly increased death rate (as opposed to instant annihilation) after conjugation by the other species\n",
    "* a realistic conjugation rate for *E. coli*, taken from [this paper](https://www.cell.com/biophysj/fulltext/S0006-3495(11)00577-7) for example\n",
    "\n",
    "Some rates and parameters are missing from the above list. Try to find estimations for them on your own (sources are abound).\n",
    "\n",
    "Analyze the model you came up with via simulation."
   ]
  }
 ],
 "metadata": {
  "anaconda-cloud": {},
  "kernelspec": {
   "display_name": "Python 3 (ipykernel)",
   "language": "python",
   "name": "python3"
  },
  "language_info": {
   "codemirror_mode": {
    "name": "ipython",
    "version": 3
   },
   "file_extension": ".py",
   "mimetype": "text/x-python",
   "name": "python",
   "nbconvert_exporter": "python",
   "pygments_lexer": "ipython3",
   "version": "3.12.4"
  }
 },
 "nbformat": 4,
 "nbformat_minor": 4
}
