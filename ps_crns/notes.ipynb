{
 "cells": [
  {
   "cell_type": "markdown",
   "metadata": {},
   "source": [
    "# Problem 1: Death Process\n",
    "\n",
    "<hr>\n"
   ]
  },
  {
   "cell_type": "markdown",
   "metadata": {},
   "source": [
    "In this problem, we study a death process, which has the unique reaction $A \\to \\emptyset$ with rate constant $\\delta$.\n",
    "\n",
    "\n",
    "**a)** Write down an ODE describing the deterministic kinetics.\n",
    "\n",
    "**b)** Write down the Chemical Master Equation for the stochastic kinetics. Qualitatively compare the two.\n",
    "\n",
    "**c)** Find the expected value of the extinction time $T_0$ when starting from an initial population of $n$.\n",
    "\n",
    "**d)** Find the variance of the extinction time $T_0$.\n",
    "\n",
    "**e)** Consider two independent identical death processes, one for species $A$ starting at an initial population of $n_A$ and one for species $B$ starting at an initial population of $n_B$. Denoting by $T_A$ the extinction time of $A$ and by $T_B$ that of $B$, find (an estimation of) the probability that $T_A \\leq T_B$."
   ]
  },
  {
   "cell_type": "markdown",
   "metadata": {},
   "source": [
    "# Problem 2: Birth and Death Process\n",
    "\n",
    "<hr>"
   ]
  },
  {
   "cell_type": "markdown",
   "metadata": {},
   "source": [
    "In this problem, we add a birth reaction to the death process from the previous problem, i.e., the reaction $A \\to A + A$ with rate constant $\\gamma$.\n",
    "\n",
    "\n",
    "**a)** Write down an ODE describing the deterministic kinetics.\n",
    "\n",
    "**b)** Write down the Chemical Master Equation for the stochastic kinetics. Qualitatively compare the two.\n",
    "\n",
    "**c)** Find the probability of extinction when starting from an initial population of $n$.\n",
    "\n",
    "**d)** For the case of almost-sure extinction, find the expected extinction time. Evaluate this formula for $n=1,2,3$."
   ]
  }
 ],
 "metadata": {
  "anaconda-cloud": {},
  "kernelspec": {
   "display_name": "Python 3 (ipykernel)",
   "language": "python",
   "name": "python3"
  },
  "language_info": {
   "codemirror_mode": {
    "name": "ipython",
    "version": 3
   },
   "file_extension": ".py",
   "mimetype": "text/x-python",
   "name": "python",
   "nbconvert_exporter": "python",
   "pygments_lexer": "ipython3",
   "version": "3.12.4"
  }
 },
 "nbformat": 4,
 "nbformat_minor": 4
}
