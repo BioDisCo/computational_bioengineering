{
 "cells": [
  {
   "cell_type": "markdown",
   "metadata": {},
   "source": [
    "# Problem 1: Designing Experiments\n",
    "\n",
    "<hr>\n"
   ]
  },
  {
   "cell_type": "markdown",
   "metadata": {},
   "source": [
    "\n",
    "We discussed 2 hypothesis of when activation is preferred over repression.\n",
    "\n",
    "**a)** Devise an experimental way to discriminate among these models."
   ]
  },
  {
   "cell_type": "markdown",
   "metadata": {},
   "source": [
    "# Problem 2: Model and Simulate\n",
    "\n",
    "<hr>"
   ]
  },
  {
   "cell_type": "markdown",
   "metadata": {},
   "source": [
    "\n",
    "Model the lac operon with activation and repression.\n",
    "\n",
    "**a)** Create a CRN model and find plausible parameters in literature. Which assumptions did you make and why?\n",
    "\n",
    "**c)** Think of simulations (and resulting figures) to demonstrate activation, repression, and combinations of both. Run simulations and discuss their outcomes for plausibility and implications for the cell.\n",
    "\n",
    "**d)** Compare deterministic and stochastic simulations for one case. What do you observe?\n"
   ]
  },
  {
   "cell_type": "markdown",
   "metadata": {},
   "source": [
    "# Problem 3: Revisiting Problem 1\n",
    "\n",
    "<hr>"
   ]
  },
  {
   "cell_type": "markdown",
   "metadata": {},
   "source": [
    "Having a working lac model, let's revisit Problem 1.\n",
    "\n",
    "**a)** Why do you think both activation and repression are used in the lac operon? Is this consistent with what you found in Problem 1?\n",
    "\n",
    "**b)** Run a deterministic and stochastic simulation to see if the occupation theory has an impact and under which parameters (e.g., binding/unbinding rates). Discuss your observations.\n",
    "\n"
   ]
  },
  {
   "cell_type": "markdown",
   "metadata": {},
   "source": [
    "# Problem 4: Michaelis-Menten and similar approximations\n",
    "\n",
    "<hr>"
   ]
  },
  {
   "cell_type": "markdown",
   "metadata": {},
   "source": [
    "**a)** Derive the Michaelis-Menten approximation for an enzyme E, substrate S, and product P.\n",
    "\n",
    "**b)** What is the difference to the activation / repression approximations that we used? Did you need to add an assumption?\n",
    "\n",
    "**c)** For the approximations that we derived in the 1st lecture: Challenge the approximation (for Hill coefficient 1) and show where it holds and where it breaks in simulations. You can use deterministic or stochastic simulations to make this point. Hint: Changing $k^+$ and $k^-$ while keeping $K_d$ constant.\n",
    "\n",
    "**d)** For the approximations that we derived in the 1st lecture: Can you modify the system for Hill coefficients larger than 1. What would be a CRN that results in such an approximation? Give a mathematical proof."
   ]
  }
 ],
 "metadata": {
  "anaconda-cloud": {},
  "kernelspec": {
   "display_name": "Python 3 (ipykernel)",
   "language": "python",
   "name": "python3"
  },
  "language_info": {
   "codemirror_mode": {
    "name": "ipython",
    "version": 3
   },
   "file_extension": ".py",
   "mimetype": "text/x-python",
   "name": "python",
   "nbconvert_exporter": "python",
   "pygments_lexer": "ipython3",
   "version": "3.12.4"
  }
 },
 "nbformat": 4,
 "nbformat_minor": 4
}
