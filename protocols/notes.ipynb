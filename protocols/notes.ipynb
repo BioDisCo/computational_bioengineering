{
 "cells": [
  {
   "cell_type": "markdown",
   "metadata": {},
   "source": [
    "# Protocols\n",
    "---\n",
    "\n",
    "In general, the sequence of experimental steps to obtain a certain result is specified in so called protocols. \n",
    "It is central to the scientific method that protocols are shared among researchers so that experiments can be reproduced.\n",
    "Protocols can be found in Methods sections of papers, although often steps that are assumed to be known, are missing - thus making it difficult to get started.\n",
    "\n",
    "In greater detail, protocols are shared by:\n",
    "- dedicated journals like [Nature methods](https://www.nature.com/nmeth/)\n",
    "- websites like [protocols.io](https://www.protocols.io)\n",
    "- companies that sell consumables for protocols (for example [NEB](https://www.neb.com/en))\n",
    "\n",
    "A nice start into basic protocols and procedures like pipetting and centrifugation can be found at [www.addgene.org/protocols/](https://www.addgene.org/protocols/). We also found their videos really helpful.\n",
    "\n",
    "We present a particularly important technique in greater details: [cloning of a plasmid](sites/gibson_assembly.html).\n",
    "\n",
    "## Common Protocols\n",
    "\n",
    "Here's a quick reference of protocols you may often need when engineering bacteria.\n",
    "\n",
    "### Stock and Grow Bacteria\n",
    "\n",
    "| Protocol | Purpose | Link |\n",
    "|---|---|---|\n",
    "| Creating a glycerol stock | Long-term storage of bacterial strains/plasmids at −80°C | https://www.addgene.org/protocols/create-glycerol-stock/ |\n",
    "| Inoculate bacterial culture | Start an overnight _E. coli_ culture from a colony or glycerol stock | https://www.addgene.org/protocols/inoculate-bacterial-culture/ |\n",
    "\n",
    "### Extract DNA\n",
    "\n",
    "| Protocol | Purpose | Link |\n",
    "|---|---|---|\n",
    "| Plasmid miniprep | Isolate plasmid DNA from _E. coli_ | https://www.addgene.org/protocols/purify-plasmid-dna/ and https://www.neb.com/en/products/t1110-monarch-spin-plasmid-miniprep-kit |\n",
    "| PCR amplification | Amplify DNA fragments for cloning | https://www.addgene.org/protocols/pcr/ |\n",
    "| Gel extraction | Purify DNA fragments from agarose gels | https://www.neb.com/en/products/t1120-monarch-spin-dna-gel-extraction-kit |\n",
    "\n",
    "### Cloning\n",
    "\n",
    "| Protocol | Purpose | Link |\n",
    "|---|---|---|\n",
    "| Restriction digest / linearization | Cut or linearize plasmid DNA with restriction enzymes | https://www.addgene.org/protocols/restriction-digest/ |\n",
    "| Gibson Assembly | Seamless assembly of overlapping DNA fragments | https://www.addgene.org/protocols/gibson-assembly/ and https://www.snapgene.com/guides/gibson-assembly|\n",
    "| Bacterial transformation | Introduce plasmid DNA into competent _E. coli_ | https://www.addgene.org/protocols/bacterial-transformation/ |"
   ]
  },
  {
   "cell_type": "markdown",
   "metadata": {},
   "source": [
    "---\n",
    "**License**: © 2025 Matthias Függer and Thomas Nowak. Licensed under [CC BY-NC-SA 4.0](https://creativecommons.org/licenses/by-nc-sa/4.0/)."
   ]
  }
 ],
 "metadata": {
  "kernelspec": {
   "display_name": "Python 3",
   "language": "python",
   "name": "python3"
  },
  "language_info": {
   "codemirror_mode": {
    "name": "ipython",
    "version": 3
   },
   "file_extension": ".py",
   "mimetype": "text/x-python",
   "name": "python",
   "nbconvert_exporter": "python",
   "pygments_lexer": "ipython3",
   "version": "3.9.0"
  }
 },
 "nbformat": 4,
 "nbformat_minor": 4
}
