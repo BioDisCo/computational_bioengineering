{
 "cells": [
  {
   "cell_type": "markdown",
   "id": "a33d98bb-c2b5-4c9e-9aaa-c76b23353fd6",
   "metadata": {},
   "source": [
    "# Homework: A Genetic Gate Compiler\n",
    "\n",
    "## Problem 1: Measured gate characteristics\n",
    "\n",
    "Problem 2 in the Problem Session was to plot all deterministic Hill models for all `NOR` gates in log-log plots.\n",
    "Do the same, but with distributions as the output based on the measurements in the UCFs.\n",
    "\n",
    "\n",
    "## Problem 2: Compiler for Inverter Chains\n",
    "\n",
    "Write a compiler that, given a length of the `INV` chain, returns a \"good\" circuit.\n",
    "Explain what you chose as a criterion for \"good\" and motivate your choice.\n",
    "\n",
    "The compiler does not need to find an optimal solution and it is allowed to return that it did not find a solution.\n",
    "\n",
    "\n",
    "## Bonus Problem 3* (not required): Simulating distributions\n",
    "\n",
    "Extend the signal simulation function from the Problem Session such that, given an input `x` and an inverter chain as a circuit,\n",
    "the function returns the resulting output distribution of signals. The distribution is computed from the measurements. You do not need to clean up measurements, but can assume they are cleaned up.\n"
   ]
  },
  {
   "cell_type": "markdown",
   "id": "40d735ab",
   "metadata": {},
   "source": []
  }
 ],
 "metadata": {
  "kernelspec": {
   "display_name": "Python 3 (ipykernel)",
   "language": "python",
   "name": "python3"
  },
  "language_info": {
   "codemirror_mode": {
    "name": "ipython",
    "version": 3
   },
   "file_extension": ".py",
   "mimetype": "text/x-python",
   "name": "python",
   "nbconvert_exporter": "python",
   "pygments_lexer": "ipython3",
   "version": "3.12.4"
  }
 },
 "nbformat": 4,
 "nbformat_minor": 5
}
