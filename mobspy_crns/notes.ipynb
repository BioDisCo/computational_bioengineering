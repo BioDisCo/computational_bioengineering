{
 "cells": [
  {
   "cell_type": "markdown",
   "metadata": {},
   "source": [
    "# CRN Modeling with MobsPy\n",
    "\n",
    "<hr>\n",
    "\n",
    "The course contains material derived from the course [Biological Circuit Design by Michael Elowitz and Justin Bois, 2020 at Caltech](http://be150.caltech.edu/2020/content/index.html).\n",
    "\n",
    "The original course material has been changed by [Matthias Fuegger](http://www.lsv.fr/~mfuegger/) and [Thomas Nowak](https://www.thomasnowak.net)."
   ]
  },
  {
   "cell_type": "markdown",
   "metadata": {},
   "source": [
    "This lecture covers:\n",
    "\n",
    "**Concepts**\n",
    "\n",
    "- The MobsPy simulation framework\n",
    "- Stochastic simulation of CRNs\n",
    "- Deterministic simulation of CRNs\n",
    "- Noise in CRNs\n",
    "- Advantages of noise in applications\n",
    "\n",
    "<hr>"
   ]
  },
  {
   "cell_type": "markdown",
   "metadata": {},
   "source": [
    "## MobsPy\n",
    "\n",
    "MobsPy is a Python-based language to specify, simulate, and analyze CRNs. It follows a modular, object-oriented, approach, where species are grouped into meta-species and reactions into meta-reactions. For an overview see the [paper](https://hal.science/hal-03876041).\n",
    "\n",
    "The Python library is available via [github](https://github.com/ROBACON/mobspy) and on [pypi](https://pypi.org/project/mobspy/)."
   ]
  },
  {
   "cell_type": "code",
   "execution_count": null,
   "metadata": {},
   "outputs": [],
   "source": [
    "# install mobspy\n",
    "%pip install mobspy"
   ]
  },
  {
   "cell_type": "markdown",
   "metadata": {},
   "source": [
    "We start with a simple system of four species and reactions. The system does not yet make use of meta-species and meta-reactions. By changing the method in the code below, you can switch between a stochastic and a deterministic simulation.\n"
   ]
  },
  {
   "cell_type": "code",
   "execution_count": null,
   "metadata": {},
   "outputs": [],
   "source": [
    "from mobspy import BaseSpecies, Simulation, Zero, u\n",
    "import matplotlib.pyplot as plt\n",
    "\n",
    "# Parameters\n",
    "duration = 24 * u.hour\n",
    "duplication_rate_const = 1/(40*u.min)\n",
    "conjugation_rate_const = 10**-9 / u.min * u.ml\n",
    "volume = 1 * u.ml\n",
    "R0 = 1e4\n",
    "\n",
    "# Species\n",
    "A, B, R, E = BaseSpecies()\n",
    "A(10 / u.ml)\n",
    "B(10 / u.ml)\n",
    "R(R0 / u.ml)\n",
    "\n",
    "A + R >> 2*A [duplication_rate_const / R0]\n",
    "B + R >> 2*B [duplication_rate_const / R0]\n",
    "A + B >> A + E [conjugation_rate_const]\n",
    "A + B >> B + E [conjugation_rate_const]\n",
    "\n",
    "# simulate\n",
    "S = Simulation(A | B | R | E)\n",
    "S.volume = volume\n",
    "S.save_data = False\n",
    "S.method = 'stochastic'\n",
    "# S.method = 'deterministic'\n",
    "S.duration = duration\n",
    "S.plot_data = False\n",
    "S.run(step_size=1*u.min)\n",
    "\n",
    "plt.plot(S.results[\"Time\"][0], S.results[\"A\"][0], label=\"A\")\n",
    "plt.plot(S.results[\"Time\"][0], S.results[\"B\"][0], label=\"B\")\n",
    "plt.plot(S.results[\"Time\"][0], S.results[\"E\"][0], label=\"E\")\n",
    "plt.legend()\n",
    "\n",
    "# block\n",
    "plt.yscale('log')\n",
    "plt.show()"
   ]
  },
  {
   "cell_type": "markdown",
   "metadata": {},
   "source": [
    "Note: the rest of this lecture is given on the blackboard."
   ]
  },
  {
   "cell_type": "markdown",
   "metadata": {},
   "source": [
    "## Noise in genetic circuits\n",
    "\n",
    "We are reading together the paper by [Elowitz et al.](https://www.science.org/doi/full/10.1126/science.1070919?casa_token=8RhvwVbM5LAAAAAA%3AE0DHjHNGFn9F-RNfn6Y71yOWQhtPaWRuSpfJPRXXVzDZtyG6FHCZz0KDHTl8lqZt6BFbUfdwFpi4npma) about noise components in a single bacterial cell."
   ]
  },
  {
   "cell_type": "markdown",
   "metadata": {},
   "source": [
    "## Advantages of noise\n",
    "\n",
    "We are reading together the paper by [Eldar and Elowitz](https://www.nature.com/articles/nature09326) about functional roles in genetic circuits."
   ]
  }
 ],
 "metadata": {
  "kernelspec": {
   "display_name": "Python 3",
   "language": "python",
   "name": "python3"
  },
  "language_info": {
   "codemirror_mode": {
    "name": "ipython",
    "version": 3
   },
   "file_extension": ".py",
   "mimetype": "text/x-python",
   "name": "python",
   "nbconvert_exporter": "python",
   "pygments_lexer": "ipython3",
   "version": "3.12.7"
  }
 },
 "nbformat": 4,
 "nbformat_minor": 4
}
