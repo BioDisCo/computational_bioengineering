{
 "cells": [
  {
   "cell_type": "markdown",
   "id": "7b7e327b-98f8-4606-9654-241996268c08",
   "metadata": {},
   "source": [
    "# Computational Bioengineering\n",
    "<hr>\n",
    "\n",
    "## About this course\n",
    "\n",
    "Goal of this course is to provide you with means to understand, analyze, and design basic genetic circuits\n",
    "in cells.\n",
    "In chapter 1 we start with basic principles of genetic control and discuss:\n",
    "- cell principles\n",
    "- circuit principles\n",
    "- mathematical models to describe genetic circuits\n",
    " - steady state and dynamic behavior\n",
    " - separation of time scales\n",
    "- regulation principles\n",
    " - activation & repression\n",
    " - their implications for the design of new circuits\n"
   ]
  },
  {
   "cell_type": "markdown",
   "id": "738e8542",
   "metadata": {},
   "source": [
    "## Coding setup\n",
    "\n",
    "We will stick to Python 3 code that can be run stand-alone at your computer whenever possible.\n",
    "When running the code locally on your computer, we suggest to use a virtual environment.\n",
    "We will install several libraries and a virtual environment helps to not interfere with the system's Python libraries.\n",
    "\n",
    "For [venv](https://docs.python.org/3/library/venv.html) this is done by running this in the directory that will be used for the lecture:\n",
    "```sh\n",
    "python -m venv venv\n",
    ". ./venv/bin/activate\n",
    "```\n",
    "\n",
    "Next let's load some libraries we will need for the course."
   ]
  },
  {
   "cell_type": "code",
   "execution_count": 1,
   "id": "0ea99977",
   "metadata": {},
   "outputs": [],
   "source": [
    "# in case you need to install a library run a command like:\n",
    "# %pip install numpy\n",
    "# %pip install matplotlib\n",
    "# %pip install mobspy\n",
    "\n",
    "# imports\n",
    "import numpy as np\n",
    "import matplotlib.pyplot as plt\n",
    "\n",
    "# configure notebook figures\n",
    "# remove it in case you run it as stand-alone code\n",
    "%matplotlib inline"
   ]
  },
  {
   "cell_type": "markdown",
   "id": "c0f91026",
   "metadata": {},
   "source": [
    "# 1. Introduction\n"
   ]
  },
  {
   "cell_type": "markdown",
   "id": "0183b674",
   "metadata": {},
   "source": [
    "## Cells\n",
    "\n",
    "A cell is a membrane-bound collection of interacting molecules.\n",
    "Interaction can change the composition of molecules and their properties. At the level of chemical species, the reactions are mass preserving. An example for a chemical reaction is that two interacting molecules form a dimer upon interaction.\n",
    "\n",
    "At an abstract level, these processes can be interpreted as a cell\n",
    "- sensing its environment\n",
    "- processing the stimuli\n",
    "- adapting its behavior, e.g., changing its growth rate, secreting molecules, or moving away from a repellent \n",
    "\n",
    "### Models\n",
    "To describe (aspects of) a cell's behavior models on different levels of abstraction have been used. During the course we will discuss some of these. An example is Chemical Reaction Networks (CRNs) that describe the evolution of species in a cell via reactions that occur among the species.\n",
    "Reactions modify, generate, and consume other species.\n",
    "While such a (chemically inspired) model may seem mostly relevant at a molecular level, we will see that one can also use it at more abstract levels. A core difference there is that we often drop the assumption that mass is preserved in the reactions.\n",
    "More on this later in the course."
   ]
  },
  {
   "cell_type": "markdown",
   "id": "7d6d6877",
   "metadata": {},
   "source": [
    "### A model organism: the bacteria _Escherichia coli_ (_E. coli_)\n",
    "While many of the concepts covered in the course are general to a wide class of cells, we will\n",
    "often refer to [_E. coli_](https://en.wikipedia.org/wiki/Escherichia_coli) as an example.\n",
    "_E. coli_ is a gram negative bacterium. It has an inner and outer membrane.\n",
    "\n",
    "<figure style=\"width: 700px; margin: auto; padding: 20px; background-color:white;\">\n",
    "  <img src=\"https://phil.cdc.gov/PHIL_Images/10071/10071_lores.jpg\" alt=\"E.coli\">\n",
    "    <figcaption><b>Fig:</b> <em>E.coli</em> (from CDC, https://phil.cdc.gov)</figcaption>\n",
    "</figure>\n",
    "\n",
    "Their shape is approximately cylindrical with round caps (rod shaped) with a radius of $0.5\\mu$ and length of $2\\mu m$. Their volume of about $1 \\mu m^3$, or equivalently, $10^{-15} L = 1fL$.\n",
    "_E. coli_ cultures [grow by cell division](https://www.youtube.com/watch?v=_5bGPa-QXV4) with a rate depending on several factors like strain, temperature, and available nutrients in the growth medium. During fast growth cells duplicate about every 20 min.\n",
    "\n",
    "Below is a schematic of its membranes from the inside of the cell (cytoplasm, bottom in the figure) to the outside (top in the figure).\n",
    "\n",
    "<figure style=\"width: 100%; margin: auto; padding: 20px;\">\n",
    "  <img src=\"https://upload.wikimedia.org/wikipedia/commons/thumb/8/8b/Gram_negative_cell_wall.svg/1920px-Gram_negative_cell_wall.svg.png\" alt=\"E.coli mombranes\">\n",
    "    <figcaption><b>Fig:</b> <em>E.coli</em> (from wikimedia, https://en.wikipedia.org/wiki/Gram-negative_bacteria)</figcaption>\n",
    "</figure>\n",
    "\n",
    "Recently microscopy has made significant advances in capturing high-resolution images of parts of cells. One such image you can find in [Matias, Valério RF, et al., J. of Bacteriology, 2020](https://journals.asm.org/doi/10.1128/JB.185.20.6112-6118.2003#pill-references) Fig.4. of the paper where membranes are nicely visible.\n",
    "\n",
    "The genome of _E. coli_ is a double stranded circular DNA and varies considerably by strain.\n",
    "For MG1655 (a K-12 substrain) it is 4,641,652 bp long and can be found in the\n",
    "[ncbh database](https://www.ncbi.nlm.nih.gov/nuccore/U00096)."
   ]
  },
  {
   "cell_type": "markdown",
   "id": "075d7b2c",
   "metadata": {},
   "source": [
    "### Crowded volume\n",
    "The cytoplasm of a cell should be imagined as a crowded space in contrast to molecules freely floating around.\n",
    "To get an impression how densely packed it is, see this\n",
    "[simulation of the cytoplasm of _E. coli_ during 15ms by McGuffee and Elcock](http://cellimagelibrary.org/images/28234)."
   ]
  },
  {
   "cell_type": "markdown",
   "id": "16af639d",
   "metadata": {},
   "source": [
    "## Pathways in _E. coli_\n",
    "\n",
    "Reactions are typically grouped together into pathways, that describe reactions for a certain cell function. \n",
    "Examples are the modification of molecules by enzymes along _metabolic pathways_ as well as transcription and translation in _genetic pathways_.\n",
    "An overview of reactions grouped into pathways is shown in the figure below.\n",
    "An interactive schematic is available [here by ecocyc](https://ecocyc.org/overviewsWeb/celOv.shtml?orgid=ECOLI) and lists of pathways available, e.g., by [biocyc](https://biocyc.org/ECOLI/class-tree?object=Pathways) and\n",
    "[kegg](https://www.genome.jp/kegg/pathway.html#cellular).\n",
    "\n",
    "<figure style=\"width: 100%; margin: auto; padding: 20px; background-color:white;\">\n",
    "  <img src=\"figs/ecoli_reactions.png\" alt=\"araA in pathway\">\n",
    "    <figcaption><b>Fig:</b> schematic of <em>E. coli</em> pathways (from ecocyc, https://ecocyc.org/overviewsWeb/celOv.shtml?orgid=ECOLI)</figcaption>\n",
    "</figure>\n",
    "\n",
    "Below is an excerpt of reactions from a genetic pathway that includes the transcription of the araA gene.\n",
    "See [here](https://ecocyc.org/gene?orgid=ECOLI&id=EG10052) for an interactive version.\n",
    "These reations will play a role later on in the course.\n",
    "\n",
    "<figure style=\"width: 100%; margin: auto; padding: 20px; background-color:white;\">\n",
    "  <img src=\"figs/araA.png\" alt=\"araA in pathway\">\n",
    "  <figcaption><b>Fig:</b> araA gene in pathways (from ecocyc, https://ecocyc.org/gene?orgid=ECOLI&id=EG10052)</figcaption>\n",
    "</figure>\n",
    "\n",
    "\n"
   ]
  },
  {
   "cell_type": "markdown",
   "id": "10c87cda",
   "metadata": {},
   "source": [
    "## Circuits\n",
    "\n",
    "We may view a pathway as a system that comprises of:\n",
    "- a set of input species\n",
    "- a set of output species\n",
    "- a set of internal species\n",
    "- a set of reactions that describe the interactions among all these species\n",
    "\n",
    "This is very similar to what is called a _circuit_ which comprises of:\n",
    "- a set of input ports/nodes\n",
    "- a set of output ports/nodes\n",
    "- a set of internal nodes\n",
    "- a set of electronic components that relate signals at the nodes to each other.\n",
    "\n",
    "We will thus refer to a pathway as a _biological circuit_.\n",
    "There are _natural_ circuits that have naturally evolved and _synthetic_ biological circuits that have been engineered into the cell.\n",
    "Synthetic circuits, however, use components of naturally evolved circuits that are then either used directly or adapted for synthetic circuits."
   ]
  },
  {
   "cell_type": "markdown",
   "id": "95745c3b",
   "metadata": {},
   "source": [
    "### Signals\n",
    "An _execution_ or _signal trace_ of an electronic circuit is given by the voltage $u(t)$ at each of its nodes\n",
    "with respect to a ground potential over time $t$.\n",
    "An execution not only depends on the circuit, but also on the circuit _environment_, interacting with the circuit via its input and output ports - in the end we want the circuit to react differently to different inputs.\n",
    "\n",
    "A digital signal with values in $\\{0,1\\}$ is sometimes more convenient when designing, analyzing, and simulating a circuit and it is obtained from the analog signal by discretizing at a _threshold voltage_.\n",
    "\n",
    "> **_Side note._**  In some contexts more than two discrete signal values are used. One such example is using 0 and 1 for strong signal values and $X$ for an intermediate signal value. This becomes relevant when signals spend a significant amount of time within value-ranges that are neither clear 0 nor 1.\n",
    "\n",
    "Signals in a biological circuit are typically given as concentrations or counts (in a fixed volume) of species over time.\n",
    "We will see that digital abstractions will also be used in biological circuits.\n",
    "\n",
    "However, we stress that signals are not necessarily voltages and concentrations.\n",
    "For example, in electrical circuits, it is sometimes more convenient to use the current $i(t)$ through a certain connection between nodes as the signal.\n",
    "We may even mix signal domains and use current for the input signal and voltage for the output signal or vice versa.\n",
    "Likewise, current-analogs are used in biological circuits as signals.\n",
    "Examples are production rates of species\n",
    "[(Aoki et al., Nature 2019)](https://www.nature.com/articles/s41586-019-1321-1)\n",
    "and the number of RNA polymerases (RNAPs) that pass a certain DNA bp per time (RNAP flux)\n",
    "[(Kelly et al., J. of Biological Engineering 2009)](https://jbioleng.biomedcentral.com/articles/10.1186/1754-1611-3-4),\n",
    "[(Borujeni et al., Nature comm. 2020)](https://www.nature.com/articles/s41467-020-18630-2).\n",
    "\n",
    "\n"
   ]
  },
  {
   "cell_type": "markdown",
   "id": "94f27c05",
   "metadata": {},
   "source": [
    "### Circuit components\n",
    "Examples for analog electronic components are the resistor and the capacitor,\n",
    "example for digital components (gates) are the inverter (INV), a NAND gate, and a NOR gate:\n",
    "\n",
    "<figure style=\"width: 100%; margin: auto; padding: 20px; background-color:white;\">\n",
    "  <img src=\"https://upload.wikimedia.org/wikipedia/commons/c/cb/Circuit_elements.svg\" alt=\"electronic components\">\n",
    "  <figcaption><b>Fig:</b> Electronic circuit components (from wikimedia, https://upload.wikimedia.org/wikipedia/commons/c/cb/Circuit_elements.svg)</figcaption>\n",
    "</figure>\n",
    "\n",
    "Let us start with two analog components.\n",
    "The _resistor_ with resistance $R$ between two of the circuit's nodes $p$ and $q$ relates voltage $u_{pq}(t)$ and\n",
    "current $i_{pq}(t)$ accross it by\n",
    "$$\n",
    "u_{pq}(t) = R \\cdot i_{pq}(t) \\enspace.\n",
    "$$\n",
    "\n",
    "The _capacitor_ with capacitance $C$ relates voltage $u_{pq}(t)$ and current $i_{pq}(t)$ across it by\n",
    "$$\n",
    "i_{pq}(t) = C \\cdot \\frac{du_{pq}(t)}{dt} \\enspace.\n",
    "$$\n",
    "\n",
    "These analog components do not have dedicated input and output ports.\n",
    "They are undirected and simply restrict signals among the ports they connect in certain ways.\n",
    "\n",
    "Thus, a priori, such a circuit thus does not have a direction.\n",
    "The choice of which ports are inputs and which ones outputs is irrelevant for the executions it produces.\n",
    "It is rather a convention to tell the circuit's user which node voltages we propose to vary (via the environment) to obtain a certain intended behavior at the output nodes (given that the output's environment does not interfere with this).\n",
    "\n",
    "Additionally to the circuit components, we also need to include the _Kirchhoff current law_.\n",
    "Let $p$ be a node in the circuit and $N(p)$ the set of neighboring nodes. Then,\n",
    "$$\n",
    "\\sum_{q \\in N(p)} i_{qp}(t) = 0\\enspace.\n",
    "$$\n",
    "Further, the _Kirchhoff voltage law_ states that along a closed path $C$ of edges\n",
    "in the circuit,\n",
    "$$\n",
    "\\sum_{e \\in C} u_{e}(t) = 0\\enspace.\n",
    "$$"
   ]
  },
  {
   "cell_type": "markdown",
   "id": "6d0f7a5a",
   "metadata": {},
   "source": [
    "### Example\n",
    "\n",
    "Let's look at a small example, an RC circuit, shown in the figure below.\n",
    "\n",
    "<figure style=\"width: 100%; margin: auto; padding: 20px; background-color:white;\">\n",
    "  <img src=\"figs/circuit_RC.svg\" alt=\"RC cricuit\">\n",
    "  <figcaption><b>Fig:</b> RC circuit</figcaption>\n",
    "</figure>\n",
    "\n",
    "We have marked the ground potential with $0$V, a dedicated input node and an output node.\n",
    "Input and output signals are in terms of voltage.\n",
    "\n",
    "The first assumption made is one about the _circuit's environment_: we have assumed that the output current is $0$A. While this may be true for some circuits, or at least approximately hold since output currents are very low, it may be violated for others.\n",
    "For example, we cannot simply compose two such circuits sequentially: the assumption would most a priori be violated with a positive input current of the second instance.\n",
    "\n",
    "For the input environment, we assume that the input voltage was $0$ V all before time $0$, and has jumped to\n",
    "$1$ V at time $0$ where it remains.\n",
    "\n",
    "We have:\n",
    "\\begin{align}\n",
    "u_R(t)    &= R \\cdot i_R(t)       \\qquad&&\\text{(resistor rule)}\\\\\n",
    "i_C(t)    &= C \\cdot \\frac{du_{out}(t)}{dt}       \\qquad&&\\text{(capacitor rule)}\\\\\n",
    "u_{in}(t) &= u_R(t) + u_{out}(t)        &&\\text{(Kirchhoff voltage)}\\\\\n",
    "i_{R}(t) &= i_C(t)        &&\\text{(Kirchhoff current)}\\\\\n",
    "\\end{align}\n",
    "\n",
    "and thus\n",
    "\n",
    "\\begin{align}\n",
    "\\frac{du_{out}(t)}{dt}   &= \\frac{1}{RC} \\left( u_{in}(t) -  u_{out}(t) \\right)&& \\\\\n",
    "u_{out}(0) &= 0  &&\\text{(input environment)}\n",
    "\\end{align}\n",
    "\n",
    "The change of the output $\\frac{du_{out}(t)}{dt}$ is thus proportional to the difference of input and output $u_{in}(t) -  u_{out}(t)$.\n",
    "If $u_{in}(t) > u_{out}(t)$, the output is corrected to increase and vice versa for $u_{in}(t) < u_{out}(t)$.\n",
    "\n",
    "For our assumptions of an input at $1$ V, we observe that the following equation fulfills the above differential equation and initial conditions\n",
    "\\begin{align}\n",
    "u_{out}(t) =  1 - e^{-\\frac{t}{RC}} \\enspace.\n",
    "\\end{align}\n",
    "Let's plot it over time:"
   ]
  },
  {
   "cell_type": "code",
   "execution_count": 2,
   "id": "a68f6544",
   "metadata": {},
   "outputs": [
    {
     "data": {
      "image/png": "[encoded data removed]",
      "text/plain": [
       "<Figure size 500x300 with 1 Axes>"
      ]
     },
     "metadata": {},
     "output_type": "display_data"
    }
   ],
   "source": [
    "# compute\n",
    "t = np.linspace(0, 10, 200)\n",
    "R = 1\n",
    "C = 1\n",
    "uout = 1 - np.exp(-t/(R*C))\n",
    "\n",
    "# build plot\n",
    "plt.figure(figsize=(5,3))\n",
    "plt.title('output $u_{out}$ over time')\n",
    "plt.xlabel(\"time $t$ (s)\")\n",
    "plt.ylabel(\"$u_{out}$ (V)\")\n",
    "plt.plot(t, uout, linewidth=2, color=\"tomato\", label=\"$u_{out}$\")\n",
    "plt.ylim(0,1.1)\n",
    "plt.legend()\n",
    "plt.show()"
   ]
  },
  {
   "cell_type": "markdown",
   "id": "9f8173ff",
   "metadata": {},
   "source": [
    "## First steps: Develop intuition for the simplest gene regulation circuits\n",
    "\n",
    "Let's turn to biological circuits.\n",
    "We will start by thinking about a single gene, coding for a single corresponding protein. This minimal example will allow us to develop intuition for the dynamics of the simplest gene regulations systems and lay out a procedure that we can further extend to analyze more complex circuits. \n",
    "\n",
    "What protein concentration will be produced by a gene *x*? We assume that the gene will be transcribed to mRNA and those mRNA molecules will in turn be translated to produce proteins, such that new proteins are produced at a total rate $\\beta$ molecules per unit time. The $x$ protein does not simply accumulate over time. It is also removed both through active degradation as well as dilution as cells grow and divide. For simplicity, we will assume that both processes tend to reduce protein concentrations through a simple first-order process, with a rate constant $\\gamma$. \n",
    "\n",
    "The approach we are taking can be described as \"phenomenological modeling.\" We do not explicitly represent every underlying molecular step. Instead, we assume those steps give rise to \"coarse grained\" relationships that we can model in a manner that is independent of many underlying molecular details. The test of this approach is whether it allows us to understand and experimentally predict the behavior of real biological systems. See [Wikipedia's article on phenomenological models](https://en.wikipedia.org/wiki/Phenomenological_model) and [this article](https://doi.org/10.1186/1741-7007-12-29) by Jeremy Gunawardena.\n",
    "\n",
    "Thus, we can draw a diagram of our simple gene, x, with its protein being produced and removed (dashed circle):\n",
    "\n",
    "\n",
    "<figure style=\"width: 100%; margin: auto; padding: 20px; background-color:white;\">\n",
    "  <img src=\"figs/simplest_protein.png\" alt=\"simplest_protein\">\n",
    "</figure>\n",
    "\n",
    "\n",
    "Here, protein production occurs at rate $\\beta$ and degradation+dilution at rate $\\gamma x$. We can then write down a simple ordinary differential equation describing these dynamics:\n",
    "\n",
    "\\begin{align} \n",
    "&\\frac{dx}{dt} = \\mathrm{production - (degradation+dilution)} \\\\[1em]\n",
    "&\\frac{dx}{dt} = \\beta - \\gamma x\n",
    "\\end{align}\n",
    "\n",
    "where \n",
    "\n",
    "\\begin{align}\n",
    "\\gamma = \\gamma_\\mathrm{dilution} + \\gamma_\\mathrm{degradation}\n",
    "\\end{align}\n",
    "\n",
    "> **_Side note (arrows in the diagram):_** The arrows resemble chemical reaction arrows. That is intended as we will later see. Precisely there are two type of arrows/reactions that we did not distinguish in the picture. The first one generates something and the second one transforms something into something. In the picture is clear what is what, but when we will use these reactions to describe systems we need to be clear. \n",
    "\n",
    "> **_Side note (units):_** What are the units of $x$, $\\beta$, and $\\gamma$? Try to find out yourself by starting with $x$ before reading on. For $x$ there is actually a choice to make. We, and most, hinted here that $x$ is a concentration (expected number for a fixed volume would be an alternative choice for probabilistic systems). We would then eed to decide which concentration we go for: numbers per volume ($1/m^3$), molar ($mol/m^3$), mass per volume ($g/m^3$), etc. While all of these make sense in different contexts, a natural choice for proteins in a small volume is numbers per volume since this number may be linked to experimental results most directly.\n",
    "From there on we deduce $[x] = m^{-3}$, $[dx/dt] = m^{-3}s^{-1}$, and thus for rate constants $[\\beta] = m^{-3}s^{-1}$ and $[\\gamma][x] = [dx/dt]$ and thus $[\\gamma] = s^{-1}$. Often we will use non-SI units like $uL^{-1}$ or $min^{-1}$, again since they can be directly linked to experimental outcomes.\n",
    "\n",
    "> **_Side note (effective degradation rates):_**  When cells are growing, protein is removed through both degradation and dilution. For stable proteins, dilution dominates. For very unstable proteins, whose half-life is much smaller than the cell cycle period, dilution may be negligible. In bacteria, mRNA half-lives (1-10 min, typically) are much shorter than protein half-lives. In eukaryotic cells this is not necessarily true (mRNA half-lives can be many hours in mammalian cells).\n",
    "\n",
    "> **_Side note (systematic ODEs):_**  For the eletronic circuit the ODEs were obtained systematically. Not so for the biocircuit. We will later discuss how to obtain the ODEs in a systematic way. In short outlook on this is given in the next section."
   ]
  },
  {
   "cell_type": "markdown",
   "id": "075c8e1b",
   "metadata": {},
   "source": [
    "## How to get to the ODEs and how to simulate them?\n",
    "\n",
    "We created an ODE that describes the transient behavior of the our first simple circuit. ODEs are great for modeling such dynamical systems, from very simple ones like this where we choose ODEs by hand to complex system behavior. Like every model, ODEs have limitations that we will discuss later.\n",
    "\n",
    "> **_Question (limitations):_** Can you think of some?\n",
    "\n",
    "Indeed there are systematic ways to derive the ODEs from more abstract system descriptions like bio-chemical reactions (a concept borrowed from chemistry). We have a full lecture on this, so only some basic principles here.\n",
    "\n",
    "The picture showed 2 reactions as arrows:\n",
    "\n",
    "\\begin{align} \n",
    "\\emptyset &\\rightarrow X\\\\[1em]\n",
    "X &\\rightarrow \\emptyset\n",
    "\\end{align}\n",
    "\n",
    "where $\\emptyset$ is short for ``nothing''.\n",
    "It also specified some rates for these reactions. Since these are of some often used standard form that we will discuss in the upcoming lecture, it is enough to just state the constants $\\beta$ and $\\gamma$ instead of the complete rates $\\beta$ and $\\gamma X$. To distinguish them from the reaction rates, they are called _reaction rate constants_.\n",
    "\n",
    "Using a library like [MobsPy](https://github.com/ROBACON/mobspy), we can now simply simulate the transient via:"
   ]
  },
  {
   "cell_type": "code",
   "execution_count": 3,
   "id": "ba489061",
   "metadata": {},
   "outputs": [
    {
     "name": "stderr",
     "output_type": "stream",
     "text": [
      "Compiling model\n",
      "Starting Simulator\n",
      "/Users/mfuegger/Github/Biodisco/computational_bioengineering/venv/lib/python3.12/site-packages/tqdm/auto.py:21: TqdmWarning: IProgress not found. Please update jupyter and ipywidgets. See https://ipywidgets.readthedocs.io/en/stable/user_install.html\n",
      "  from .autonotebook import tqdm as notebook_tqdm\n",
      "Simulation is Over\n"
     ]
    },
    {
     "data": {
      "image/png": "[encoded data removed]",
      "text/plain": [
       "<Figure size 640x480 with 1 Axes>"
      ]
     },
     "metadata": {},
     "output_type": "display_data"
    }
   ],
   "source": [
    "# uncomment for installing:\n",
    "# %pip install mobspy\n",
    "\n",
    "import mobspy as mp\n",
    "\n",
    "X = mp.BaseSpecies()\n",
    "\n",
    "# parameters\n",
    "volume = 1.0\n",
    "beta = 1.0\n",
    "gamma = 0.1\n",
    "\n",
    "# production\n",
    "mp.Zero >> X [beta]\n",
    "\n",
    "# degradation & dilution\n",
    "X >> mp.Zero [gamma]\n",
    "\n",
    "# simulate\n",
    "MySim = mp.Simulation(X)\n",
    "MySim.run()"
   ]
  },
  {
   "cell_type": "markdown",
   "id": "820c7c8d",
   "metadata": {},
   "source": [
    "While for quick prototyping unitless simulations can be nice, let's stick to units as we derived them just before. We also set the volume of the cell to a typical volume of an _E. coli_."
   ]
  },
  {
   "cell_type": "code",
   "execution_count": 4,
   "id": "4b96275f",
   "metadata": {},
   "outputs": [
    {
     "name": "stderr",
     "output_type": "stream",
     "text": [
      "Compiling model\n",
      "Starting Simulator\n",
      "Simulation is Over\n"
     ]
    },
    {
     "data": {
      "image/png": "[encoded data removed]",
      "text/plain": [
       "<Figure size 640x480 with 1 Axes>"
      ]
     },
     "metadata": {},
     "output_type": "display_data"
    }
   ],
   "source": [
    "# E. coli volume\n",
    "volume = 1.0 * mp.u(\"um**3\")\n",
    "\n",
    "# protein species\n",
    "X = mp.BaseSpecies()\n",
    "\n",
    "# parameters\n",
    "beta = 1.0 / mp.u.min / volume\n",
    "gamma = 0.1 / mp.u.min\n",
    "\n",
    "# production\n",
    "mp.Zero >> X [beta]\n",
    "\n",
    "# degradation & dilution\n",
    "X >> mp.Zero [gamma]\n",
    "\n",
    "# simulate\n",
    "MySim = mp.Simulation(X)\n",
    "MySim.run(duration=60 * mp.u.min, volume=volume, unit_y = 1 / volume)"
   ]
  },
  {
   "cell_type": "markdown",
   "id": "17d82c0f",
   "metadata": {},
   "source": [
    "## Relation to electronic circuits\n",
    "\n",
    "Let's for a moment stop and again look at the equation of the RC circuit for the case $u_{in}(t) = c$ for $t \\geq 0$.\n",
    "Both equations look deceptively similar:\n",
    "\n",
    "\\begin{align}\n",
    "\\frac{du_{out}(t)}{dt}   &=  \\frac{c}{RC} -  \\frac{1}{RC} \\cdot u_{out}(t) && \\text{ (RC circuit)}\\\\\n",
    "\\frac{dx}{dt} &= \\beta - \\gamma x && \\text{ (gene regulation)}\n",
    "\\end{align}\n",
    "\n",
    "In fact the electronic circuit behaves the same as the genetic circuit if $\\beta = \\frac{c}{RC}$ and $\\gamma = \\frac{1}{RC}$; a strange coincidence?\n",
    "\n",
    "While a relation between the circuits is not immediate, let's consider a different, slightly adapted, electronic circuit shown below.\n",
    "\n",
    "<figure style=\"width: 100%; margin: auto; padding: 20px; background-color:white;\">\n",
    "  <img src=\"figs/circuit_RC_v2.svg\" alt=\"RC cricuit (v2)\">\n",
    "  <figcaption><b>Fig:</b> RC circuit (v2)</figcaption>\n",
    "</figure>\n",
    "\n",
    "Now the _input signal_ is the input current $i_{in}(t)$ and the output signal the output voltage $u_{out}(t)$; at least for the moment.\n",
    "\n",
    "We have,\n",
    "\\begin{align}\n",
    "i_C(t) &= C \\cdot \\frac{du_{out}(t)}{dt} &&\\text{ (capacitor rule)}\\\\\n",
    "i_R(t) &= \\frac{1}{R} \\cdot u_{out}(t) &&\\text{ (resistor rule)}\\\\\n",
    "i_{in}(t) &= i_C(t) + i_R(t) && \\text{ (Kirchhoff current)}\n",
    "\\end{align}\n",
    "\n",
    "and thus\n",
    "\\begin{align}\n",
    "C \\cdot \\frac{du_{out}(t)}{dt} &= i_{in}(t) - \\frac{1}{R} \\cdot u_{out}(t)\n",
    "\\end{align}\n",
    "\n",
    "Let us change the output even further to the charge $Q(t)$ that is stored in the capacitor at time $t$.\n",
    "For a capacitor with voltage $u(t)$ across it, it holds that\n",
    "$$\n",
    "Q(t) = C \\cdot u(t) \\enspace.\n",
    "$$\n",
    "\n",
    "Calling the output signal $Q_{out}$, we thus have,\n",
    "\\begin{align}\n",
    "\\frac{dQ_{out}(t)}{dt} &= i_{in}(t) - \\frac{1}{RC} \\cdot Q_{out}(t) \\enspace.\n",
    "\\end{align}\n",
    "\n",
    "Let's compare: the _input current_ $i_{in}$ now corresponds to the production rate $\\beta$,\n",
    "the _output charge_ $Q_{out}$ to the protein counts (per volume), and\n",
    "$\\frac{1}{RC}$ to the degradation and dilution rate $\\gamma$.\n",
    "\n",
    "> **_Question:_** Can you intuitively explain the relation between both the electronic and the genetic circuit? What is the unit of $i_{in}$ as an SI unit, and what is it in terms of charge $Q$? What is the unit of $\\beta$?\n",
    "\n",
    "\n"
   ]
  },
  {
   "cell_type": "markdown",
   "id": "d9b85653",
   "metadata": {
    "jp-MarkdownHeadingCollapsed": true,
    "tags": []
   },
   "source": [
    "## Solving for the steady state\n",
    "\n",
    "Often, one of the first things we would like to know is the concentration of protein under steady state conditions. To obtain this, we set the time derivative to 0, and solve:\n",
    "\n",
    "\\begin{align}\n",
    "              &\\frac{dx}{dt} = \\beta - \\gamma x = 0 \\\\[1em]\n",
    "\\Rightarrow \\,&x_{\\mathrm{st}} = \\beta / \\gamma \n",
    "\\end{align}\n",
    "\n",
    "In other words, the steady-state protein concentration depends on the ratio of production rate to degradation rate."
   ]
  },
  {
   "cell_type": "markdown",
   "id": "fa38f61f",
   "metadata": {},
   "source": [
    "## Including transcription and translation as separate steps \n",
    "\n",
    "This description does not distinguish between transcription and translation. However, considering both processes separately can be important in more dynamic and stochastic contexts that we will encounter later in the course. To do so, we can simply add an additional variable to represent the mRNA concentration, which is now transcribed, translated to protein, and degraded (and diluted), as shown schematically here:\n",
    "\n",
    "<figure style=\"width: 550px; margin: auto; padding: 20px; background-color:white;\">\n",
    "  <img src=\"figs/transcription_and_translation.png\" alt=\"transcript_and_translation\">\n",
    "</figure>\n",
    "\n",
    "These reactions can be described by two coupled differential equations for the mRNA (m) and protein (x):\n",
    "\n",
    "\\begin{align}\n",
    "&\\frac{dm}{dt} = \\beta_m - \\gamma_m m, \\\\[1em]\n",
    "&\\frac{dx}{dt} = \\beta_p m - \\gamma_p x. \n",
    "\\end{align}\n",
    "\n",
    "Now, we can  determine the steady state mRNA $m_\\mathrm{st}$ and protein $x_\\mathrm{st}$ concentrations straightforwardly, by setting both time derivatives to 0 and solving. We find:\n",
    "\n",
    "\\begin{align}\n",
    "&m_\\mathrm{st} = \\beta_m / \\gamma_m, \\\\[1em]\n",
    "&x_\\mathrm{st} = \\frac{\\beta_p m_\\mathrm{st}}{\\gamma_p} = \\frac{\\beta_p \\beta_m}{\\gamma_p \\gamma_m}.\n",
    "\\end{align}\n",
    "\n",
    "From this, we see that the steady state protein concentration is proportional to the product of the two synthesis rates and inversely proportional to the product of the two degradation rates. \n",
    "\n",
    "And this gives us our first design rule:\n",
    "\n",
    "> **_Design rule:_**  the cell can control protein expression level in at least **four different ways:** It could modulate (1) transcription, (2) translation, (3) mRNA degradation or (4) protein degradation rates. Or combinations thereof.\n",
    "\n",
    "> **_Question:_** Are there tradeoffs between these different options? Are they all used indiscriminately or is one favored in natural contexts? "
   ]
  },
  {
   "cell_type": "markdown",
   "id": "dc1c825b",
   "metadata": {},
   "source": [
    "## From gene expression to gene regulation - adding a repressor\n",
    "\n",
    "Life would be simple—perhaps too simple—if genes were simply left \"on\" all the time. To make things interesting the cell has to regulate them, turning their expression levels lower or higher depending on environmental conditions and other inputs. One of the simplest ways to do this is through repressors. Repressors are proteins that can bind to specific binding sites at or near a promoter to change its activity. Often the strength of their binding is contingent on external inputs. For example, the LacI repressor normally turns off the genes for lactose utilization in *E. coli*. However, in the presence of lactose in the media, a modified form of lactose binds to LacI, inhibiting its ability to repress its target genes. Thus, a nutrient (lactose) can regulate expression of genes that allow the cell to use it. (For the scientific and historical saga of this seemingly simple system, we recommend the fascinating, wonderful book [\"The lac operon\"](https://www.amazon.com/lac-Operon-Benno-Müller-Hill/dp/3110148307) by B. Müller-Hill.)\n",
    "\n",
    "In the following diagram, we label the repressor R.\n",
    "\n",
    "<figure style=\"width: 550px; margin: auto; padding: 20px; background-color:white;\">\n",
    "  <img src=\"figs/repressible_gene2.png\" alt=\"repressible_gene_2\">\n",
    "</figure>\n",
    "\n",
    "The reactions we obtain are:\n",
    "\n",
    "\\begin{align}\n",
    "D + R \\rightleftharpoons D_{occ}\n",
    "\\end{align}\n",
    "\n",
    "For the rates we again choose products of the involved species. This is again the normal form that we will often be using for rates; more to this in a dedicated lecture. \n",
    "\n",
    "Within the cell, the repressor binds and unbinds its target site. We assume that the expression level of the gene is lower when the repressor is bound and higher when it is unbound. The mean expression level of the gene is then proportional to the fraction of time that the repressor is unbound. \n",
    "\n",
    "We therefore compute the \"concentration\" of DNA sites in occupied or unoccupied states. (Within a single cell an individual site on the DNA is either bound or unbound, but averaged over a population of cells, we can talk about the mean occupancy of the site). Let $D$ be the concentration of unoccupied promoter, $D_\\mathrm{occ}$ be the concentration of occupied promoter, and $D_\\mathrm{tot}$ be the total concentration of promoter, with $D_\\mathrm{tot} = D + D_\\mathrm{occ}$, as required by conservation of mass.\n",
    "\n",
    "We can also assume a **separation of timescales** between the rates of binding and unbinding of the repressor to the DNA binding site are both often fast compared to the timescales over which mRNA and protein concentrations vary.\n",
    "\n",
    "> **_Side note (speed of being in an equilibrium):_** The method of separation of timescales is often useful to simplify an analysis or speedup a simulation. Be careful when you use it, though. Often its a good idea to run simulations with and without the assumption to quantify the error. In some contexts, such as in mammalian cells, and with CRISPRi circuits, binding and unbinding may be slow.\n",
    "\n",
    "> **_Question (expected amounts in a cell volume):_** Estimate (by looking it up) the amounts of the involved biochemical species in the cell volume. This will be important in the following derivation. Is it the same for all repressors that you find?\n",
    "\n",
    "All we need to know is the mean concentration of unoccupied binding sites, $D/D_\\mathrm{tot}$.\n",
    "\n",
    "Assuming we are (quickly) in an equilibrium, leads to:\n",
    "\\begin{align}\n",
    "k_+ D R &= k_- D_\\mathrm{occ} \\\\[1em]\n",
    "\\end{align}\n",
    "\n",
    "Further, we have conservation of $D$ and $R$ species. We use $R_\\mathrm{bound}$ as the concentration of bound repressors, $R_\\mathrm{tot}$ as its total number, and $R$ as the unbound concentration.\n",
    "\\begin{align}\n",
    "D_\\mathrm{occ} &= D_\\mathrm{tot} - D \\\\[1em]\n",
    "R_\\mathrm{bound} &= R_\\mathrm{tot} - R\n",
    "\\end{align}\n",
    "\n",
    "We observe that $D_\\mathrm{occ} = R_\\mathrm{bound}$: any occupied operator site is bound by exactly one repressor species in our basic repressor model.\n",
    "\n",
    "For simplicity, and following common notation, we abbreviate $K_\\mathrm{d} = k_- / k_+$ calling it the _dissociation constant_.\n",
    "Further, we consider $x = R_{tot}$ as the system input and $y = D_\\mathrm{tot}$ as its output.\n",
    "\n",
    "Let's consider two cases, first a simplifying case that is often used. And second an exact analysis.\n",
    "\n",
    "### Case 1: Zero or many repressors\n",
    "\n",
    "In this case we can approximate $R \\approx R_{tot}$.\n",
    "\\begin{align}\n",
    "D R &= k_-/k_+ D_\\mathrm{occ} \\\\[1em]\n",
    "D R_\\mathrm{tot} &= K_\\mathrm{d} D_\\mathrm{occ} \\\\[1em]\n",
    "D R_\\mathrm{tot} &= K_\\mathrm{d} (D_\\mathrm{tot} - D) \\\\[1em]\n",
    "y R_\\mathrm{tot} &= K_\\mathrm{d} (1 - y) \\\\[1em]\n",
    "y &= \\frac{1}{1+R_\\mathrm{tot}/K_\\mathrm{d}} \n",
    "\\end{align}\n",
    "\n",
    "and thus finally\n",
    "\n",
    "\\begin{align}\n",
    "\\beta(R_\\mathrm{tot}) = \\beta_0 \\frac{D}{D_\\mathrm{tot}} = \\frac{\\beta_0}{1+R_\\mathrm{tot}/K_\\mathrm{d}}.\n",
    "\\end{align}\n",
    "\n",
    "### Case 2: Exact calculation\n",
    "\n",
    "We start with,\n",
    "\\begin{align}\n",
    "D R &= k_-/k_+ D_\\mathrm{occ} \\\\[1em]\n",
    "D (R_\\mathrm{tot} - R_\\mathrm{bound}) &= K_\\mathrm{d} D_\\mathrm{occ} \\\\[1em]\n",
    "\\end{align}\n",
    "and after some algebraic manipulation, we get\n",
    "\\begin{align}\n",
    "y^2 D_\\mathrm{tot} + y(R_\\mathrm{tot} - D_\\mathrm{tot} + K_\\mathrm{d}) - K_\\mathrm{d} &= 0\n",
    "\\end{align}\n",
    "\n",
    "Using the classical\n",
    "\\begin{align}\n",
    "y = \\frac{-b \\pm \\sqrt{b^2 - 4ac}}{2a}\n",
    "\\end{align}\n",
    "let's check if we can rule out one solution.\n",
    "While it is not necessarily $b > 0$, we observe that $-4ac > 0$ in our case, and thus $\\sqrt{b^2 - 4ac} > |b|$.\n",
    "We may thus disregard the \"-\" solution that would yield a negative concentration $y$.\n",
    "Thus,\n",
    "\\begin{align}\n",
    "y(R_\\mathrm{tot}) &= \\frac{-(R_\\mathrm{tot} - D_\\mathrm{tot} + K_\\mathrm{d}) + \\sqrt{(R_\\mathrm{tot} - D_\\mathrm{tot} + K_\\mathrm{d})^2 + 4K_\\mathrm{d}D_\\mathrm{tot}}}{2D_\\mathrm{tot}} \\\\[1em]\n",
    "\\beta(R_\\mathrm{tot}) &= \\beta_0 y(R_\\mathrm{tot})\n",
    "\\end{align}\n",
    "\n",
    "Interestingly this formula depends on $D_\\mathrm{tot}$ while the simplified is independent of the number of promoters."
   ]
  },
  {
   "cell_type": "markdown",
   "id": "cae80a60",
   "metadata": {},
   "source": [
    "## Properties of the simple binding curve\n",
    "\n",
    "This is our first encounter with a soon to be familiar function. Note that this function has two parameters: $K_\\mathrm{d}$ specifies the concentration of repressor at which the response is reduced to half its maximum value. The coefficient $\\beta_0$ is simply the maximum expression level, and is a parameter that multiples the rest of the function."
   ]
  },
  {
   "cell_type": "code",
   "execution_count": 5,
   "id": "584d3d16",
   "metadata": {},
   "outputs": [
    {
     "data": {
      "image/png": "[encoded data removed]",
      "text/plain": [
       "<Figure size 500x300 with 1 Axes>"
      ]
     },
     "metadata": {},
     "output_type": "display_data"
    }
   ],
   "source": [
    "# Build theoretical curves\n",
    "Rtot = np.linspace(0, 10, 200)\n",
    "b0 = 1\n",
    "Kd = 1\n",
    "beta = b0 / (1 + Rtot / Kd)\n",
    "init_slope = -Rtot + 1\n",
    "\n",
    "# exact\n",
    "Dtot = 1\n",
    "b = Rtot - Dtot + Kd\n",
    "beta_exact = b0 * (-b + np.sqrt(b**2 + 4 * Kd * Dtot) )/ (2 * Dtot)\n",
    "\n",
    "# Build plot\n",
    "plt.figure(figsize=(5,3))\n",
    "plt.title(fr'$K_d = {Kd}$, $\\beta_0 = {b0}$')\n",
    "plt.xlabel(r\"$R_{tot}$\")\n",
    "plt.ylabel(r\"$\\beta(R_{tot})$\")\n",
    "plt.plot(Rtot, beta, linewidth=2, color=\"tomato\", label=r\"$\\beta(R_{tot})$\")\n",
    "plt.plot(Rtot, beta_exact, '--', linewidth=2, color=\"tomato\", label=fr\"$\\beta_{{exact}}(R_{{tot}})$, $D_{{tot}} = {Dtot}$\")\n",
    "plt.plot(Rtot, init_slope, linewidth=2, color=\"orange\", label=\"initial slope\")\n",
    "plt.ylim(0,1)\n",
    "plt.legend()\n",
    "plt.show()"
   ]
  },
  {
   "cell_type": "markdown",
   "id": "331c0b03",
   "metadata": {},
   "source": [
    "> **_Question:_** What happens if you keep increasing the number of promoters in the cell? Check it out in the above code. "
   ]
  },
  {
   "cell_type": "markdown",
   "id": "7cd5eb33",
   "metadata": {},
   "source": [
    "## Gene expression can be leaky\n",
    "\n",
    "As an aside, we note that in real life, many genes never get repressed all the way to zero expression, even when you add a lot of repressor. Instead, there is a baseline, or \"basal\", expression level that still occurs. A simple way to model this is by adding an additional constant term, $\\alpha_0$ to the expression \n",
    "\n",
    "\\begin{align}\n",
    "\\beta(R_\\mathrm{tot}) = \\alpha_0 + \\beta_0 \\frac{D}{D_\\mathrm{tot}} = \\alpha_0 + \\frac{\\beta_0}{1+R_\\mathrm{tot}/K_\\mathrm{d}}.\n",
    "\\end{align}\n",
    "\n",
    "Given the ubiquitousness of leakiness, it is important to check that circuit behaviors do not depend on the absence of leaky expression."
   ]
  },
  {
   "cell_type": "code",
   "execution_count": 6,
   "id": "372c348f",
   "metadata": {},
   "outputs": [
    {
     "data": {
      "image/png": "[encoded data removed]",
      "text/plain": [
       "<Figure size 500x300 with 1 Axes>"
      ]
     },
     "metadata": {},
     "output_type": "display_data"
    }
   ],
   "source": [
    "# Build the theoretical curves\n",
    "Rtot = np.linspace(0, 20, 200)\n",
    "b0 = 1\n",
    "Kd = 1\n",
    "a0 = 0.25\n",
    "beta = a0 + b0 / (1 + Rtot / Kd)\n",
    "\n",
    "# Build plot\n",
    "plt.figure(figsize=(5,3))\n",
    "plt.title(rf\"$K_{{d}} = {Kd}$, $\\beta_{{0}} = {b0}$, $a_{{0}} = {a0}$\")\n",
    "plt.xlabel(r\"$R_{tot}$\")\n",
    "plt.ylabel(r\"$\\beta(R_{tot})$\")\n",
    "plt.plot(Rtot, beta,\n",
    "    linewidth=2,\n",
    "    color=\"tomato\",\n",
    "    label=r\"$\\beta(R_{tot})$\")\n",
    "plt.plot([Rtot[0], Rtot[-1]], [a0, a0],\n",
    "    linewidth=2,\n",
    "    color=\"orange\",\n",
    "    label=\"basal expression\")\n",
    "plt.ylim(0, beta.max())\n",
    "plt.legend()\n",
    "plt.show()"
   ]
  },
  {
   "cell_type": "markdown",
   "id": "3b61874d",
   "metadata": {},
   "source": [
    "> **__Side note:__** Several extensions of the simple promoter model exist. An example is bursty expressions of genes that is observed in experiments."
   ]
  },
  {
   "cell_type": "markdown",
   "id": "466efb67",
   "metadata": {},
   "source": [
    "## Activation\n",
    "\n",
    "Genes can be regulated by activators as well as repressors. Treating the case of activation just involves switching the state that is actively expressing from the unbound one to the one bound by the protein (now called an Activator). And, just as the binding of a repressor to DNA can be modulated by small molecule inputs, so too can the binding of the activator be modulated by binding to small molecules. In bacteria, one of many examples is the [arabinose regulation system](https://en.wikipedia.org/wiki/L-arabinose_operon).\n",
    "\n",
    "<figure style=\"width: 550px; margin: auto; padding: 20px; background-color:white;\">\n",
    "  <img src=\"figs/activation.png\" alt=\"activation\">\n",
    "</figure>\n",
    "\n",
    "<br />\n",
    "\n",
    "\\begin{align}\n",
    "\\beta(A) = \\beta_0 \\frac{D_\\mathrm{occ}}{D_\\mathrm{tot}} = \\frac{\\beta_0 A/K_\\mathrm{d}}{1+A/K_\\mathrm{d}}.\n",
    "\\end{align}\n",
    "\n",
    "Under the simplifying assumption as in the repressor case, this produces the opposite, mirror image response compared to repression, shown below with no leakage."
   ]
  },
  {
   "cell_type": "code",
   "execution_count": 7,
   "id": "e6513078",
   "metadata": {},
   "outputs": [
    {
     "data": {
      "image/png": "[encoded data removed]",
      "text/plain": [
       "<Figure size 500x300 with 1 Axes>"
      ]
     },
     "metadata": {},
     "output_type": "display_data"
    }
   ],
   "source": [
    "# 4\n",
    "A = np.linspace(0, 20, 200)\n",
    "R = np.linspace(0, 20, 200)\n",
    "beta_A = A / (1 + A)\n",
    "beta_R = 1 / (1 + R)\n",
    "\n",
    "# Build plot\n",
    "plt.figure(figsize=(5,3))\n",
    "plt.title(r\"$\\beta$ function\")\n",
    "plt.xlabel(\"A/Kd, R/Kd\")\n",
    "plt.ylabel(\"β/β₀\")\n",
    "plt.plot(A, beta_A,\n",
    "    linewidth=2,\n",
    "    color=\"blue\",\n",
    "    label=\"β(A)\")\n",
    "plt.plot(R, beta_R,\n",
    "    linewidth=2,\n",
    "    color=\"tomato\",\n",
    "    label=\"β(R)\")\n",
    "plt.ylim(0, 1)\n",
    "plt.legend()\n",
    "plt.show()"
   ]
  },
  {
   "cell_type": "markdown",
   "id": "4cba7aa5",
   "metadata": {},
   "source": [
    "## Activator vs. Repressor – which to choose?\n",
    "\n",
    "We have reached a central design question:\n",
    "\n",
    "> **_Question:_** The cell has at least two different ways to regulate a gene: using an activator or using a repressor. Which should it choose? Which would you choose if you were designing a synthetic circuit? Why? Are they completely equivalent ways to regulate a target gene? Is one better in some or all conditions? How could we know?  \n",
    "\n",
    "These questions were  posed in a [study by Michael Savageau (PNAS, 1974)](https://www.ncbi.nlm.nih.gov/pmc/articles/PMC388476/), who tried to explain the naturally observed usage of activation and repression in bacteria. A different explanation was later developed by [Shinar et al (PNAS 2004)](https://doi.org/10.1073/pnas.0506610103). We end the lecture with this question - try to think about when and why you would use each type of regulation! \n",
    "\n"
   ]
  },
  {
   "cell_type": "markdown",
   "id": "c5fe0faf",
   "metadata": {},
   "source": [
    "# Further reading\n",
    "\n",
    "As starting material we highly recommand open courses like:\n",
    "- The course [Biological Circuit Design](http://be150.caltech.edu/2020/content/index.html) at Caltech by Elowitz and Bois. Our course is derived from this course.\n",
    "- The course [Introduction to Biological Engineering Design](https://ocw.mit.edu/courses/biological-engineering/20-020-introduction-to-biological-engineering-design-spring-2009/index.htm) at MIT by Kuldell and Endy\n",
    "\n"
   ]
  },
  {
   "cell_type": "markdown",
   "id": "8d840b4d-658b-4466-bfbe-cd799621169e",
   "metadata": {},
   "source": [
    "---\n",
    "**License & Attribution**: This page is adapted from material by [Michael Elowitz and Justin Bois](https://biocircuits.github.io/) (© 2021–2025), licensed under [CC BY-NC-SA 4.0](https://creativecommons.org/licenses/by-nc-sa/4.0/)."
   ]
  }
 ],
 "metadata": {
  "kernelspec": {
   "display_name": "Python 3 (ipykernel)",
   "language": "python",
   "name": "python3"
  },
  "language_info": {
   "codemirror_mode": {
    "name": "ipython",
    "version": 3
   },
   "file_extension": ".py",
   "mimetype": "text/x-python",
   "name": "python",
   "nbconvert_exporter": "python",
   "pygments_lexer": "ipython3",
   "version": "3.12.4"
  }
 },
 "nbformat": 4,
 "nbformat_minor": 5
}
