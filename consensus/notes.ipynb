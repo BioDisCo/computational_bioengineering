{
 "cells": [
  {
   "cell_type": "markdown",
   "metadata": {},
   "source": [
    "# Distributed Algorithms, Majority Consensus\n",
    "\n",
    "<hr>"
   ]
  },
  {
   "cell_type": "markdown",
   "metadata": {},
   "source": [
    "This lecture covers:\n",
    "\n",
    "**Concepts**\n",
    "\n",
    "- Majority consensus as amplification mechanism\n",
    "- The pairwise annihilation algorithm\n",
    "\n",
    "**Techniques**\n",
    "\n",
    "- Stochastic simulation\n",
    "- Markov-chain analysis\n",
    "\n",
    "<hr>\n",
    "\n",
    "Let's start by importing libraries we will need:"
   ]
  },
  {
   "cell_type": "code",
   "execution_count": 1,
   "metadata": {},
   "outputs": [],
   "source": [
    "# %pip install mobspy\n",
    "# %pip install tqdm\n",
    "\n",
    "import mobspy as mp\n",
    "import tqdm\n",
    "import matplotlib.pyplot as plt\n",
    "\n",
    "figsize = (5,4)"
   ]
  },
  {
   "cell_type": "markdown",
   "metadata": {},
   "source": [
    "# Genetic Circuits\n",
    "\n",
    "We have seen basic gene regulation concepts (repression, activation) in the previous lectures. These were our first circuits.\n",
    "\n",
    "There is an increasing body of work on how to design and engineer such, and more complex, circuits in cells from first principles. In particular, we will discuss approaches to construct circuits out of gates with digital-like characteristics in the following lectures. \n",
    "\n",
    "The most common design techniques for synthetic gates rely on:\n",
    "- Gene regulation via DNA-binding proteins. With the downside of limited availability of orthogonal signals within the cell (DNA-binding)\n",
    "- Nucleic acid (DNA/RNA) interactions. With the downside of small dynamic range (RNA based).\n",
    "- The CRISPR machinery. With the downside of reduced growth rates (heavy CRISPR machinery).\n",
    "\n",
    "We refer the interested reader to an overview in [Brophy and Voigt, Nature methods 2014](https://pmc.ncbi.nlm.nih.gov/articles/PMC4230274/pdf/nihms635954.pdf) where the authors describe several types of genetic circuits.\n",
    "\n",
    "\n"
   ]
  },
  {
   "cell_type": "markdown",
   "metadata": {},
   "source": [
    "## Related Disciplines: Distributed Computing and Robust Circuit Design\n",
    "\n",
    "\n",
    "While the design of good circuits, and in particular gates, is continued effort in research, there is a fundamental limitation ahead.\n",
    "Currently none of the circuits designed so far has more than 10 gates in a single cell.\n",
    "This has led to recent efforts to distribute circuits among several cells to reduce the resource load per cell, taking the formative steps towards distributed bacterial circuits.\n",
    "\n",
    "The research field of distributed computing has a long history of analyzing distributed systems under harsh environmental conditions, from node and link failures, with different models of fault manifestation, to completely dynamic network architectures.\n",
    "Likewise, the field of robust circuit design has studied faults and their mitigation in VLSI circuits with great success.\n",
    "In both fields, mathematical modeling and analysis has led to provably robust solutions and insights into how different parameters influence the quality of the solution, resulting in informed design decisions for real-world implementations.\n",
    "\n",
    "We will demonstrate the use of some concepts from these two disciplines in a small example: a distributed gate.\n",
    "\n",
    "\n",
    "## Distributed Computing\n",
    "\n",
    "Distributed Computing studies computation in distributed systems.\n",
    "Examples for distributed systems are:\n",
    "- A fixed set of (computing) nodes that are interconnected via a dedicated network infrastructure.\n",
    "  An example is a scientific cluster, the computer system of a bank, or a computer system in an airplane.\n",
    "\n",
    "- A dynamically changing set of nodes interconnected by a dynamic network.\n",
    "  An example is a peer-to-peer network of phones, a swarm of drones, or a network of wireless sensors thrown into the landscape.\n",
    "\n",
    "Distributed systems are not necessarily classical computers, but can be anything with a specified (but not necessarily deterministic!) behavior. We may as well have chosen as examples:\n",
    "- Fixed architecture: Cells in a (non growing) tissue that communicate via hormones or electric signals.\n",
    "\n",
    "- Dynamic architecture: Opinions of humans formed via social networks, or suspended bacteria in a liquid culture communicating via small molecules or via the exchange of DNA.\n",
    "\n",
    "While the discipline of distributed computing tries to abstract from the application, the majority of research is on systems with computer networks in mind, with respective assumptions on the system.\n",
    "\n",
    "\n",
    "We will look at one problem that has been extensively studied in distributed computing: the problem of converging from an initial mixed population to a homogenous population of nodes.\n",
    "\n",
    "Many variants of the, so called, **consensus** problems, exist, differing in static vs. dynamic architecture, discrete vs. continuous values, terminating vs. non-terminating algorithms, etc.\n",
    "The problem was traditionally studied in networks with a fixed architecture, and with some of the computing nodes potentially failing.\n",
    "Applications for this problem are, e.g., in redundant databases where each server has a certain state and servers need to agree on a unique state."
   ]
  },
  {
   "cell_type": "markdown",
   "metadata": {},
   "source": [
    "## Example Problem: Majority Consensus\n",
    "\n",
    "Assume we are given a population of two kinds of species, A (blue) and B (orange). The problem is to determine which of them is in majority.\n",
    "\n",
    "An input instance of this problem may look like this where we have $A = 51$ and $B = 49$ species.\n",
    "\n",
    "<div style=\"width: 500px; margin: auto;\">\n",
    "    \n",
    "<figure style=\"width: 100%; margin: auto; padding: 20px;\">\n",
    "  <img src=\"figs/initial.png\" alt=\"Initial configuration with 51 A and 49 B shown as balls.\">\n",
    "</figure>\n",
    "\n",
    "</div>\n",
    "\n",
    "While it would be tedious to count A vs. B, it is still possible and this would be a so-called **centralized** solution where we play the role of the central processing unit.\n",
    "\n",
    "However, this solution would not scale well with the problem size. What is the majority, here? (The answer is A with 551 vs 549)\n",
    "\n",
    "<div style=\"width: 500px; margin: auto;\">\n",
    "    \n",
    "<figure style=\"width: 100%; margin: auto; padding: 20px;\">\n",
    "  <img src=\"figs/551vs549.png\" alt=\"Initial configuration with 551 A and 549 B shown as balls.\">\n",
    "</figure>\n",
    "\n",
    "</div>\n",
    "\n",
    "\n",
    "For a distributed solution, we distributed the computation across different units - in our case, the units will be the species itself with super simple, but local, computations.\n",
    "\n",
    "We first need to define what are the \"rules of the game\" and clarify some wording in the problem statement.\n",
    "\n",
    "Let's assume that species move, like we saw in the CRN lecture. Further, we assume that a distributed algorithm will define the local behavior of the species. While we resort from modifying speed, and angle, we will allow an algorithm only to change the type of two species upon local (geometric), that is colliding, interaction.\n",
    "In particular an algorithm is allowed to change or remove a species.\n",
    "\n",
    "Finally, we need to clarify what the outcome of such a distributed computation should be.In particular, how to signal that A or B is in majority. One option would be that each species needs to output this result, but we take a different direction, here. We say that the algorithm outputs A once all species are A and it outputs B once all species are B. In particular this means that a (bad) algorithm could never terminate by never reaching the state where all species are from one population.\n",
    "\n"
   ]
  },
  {
   "cell_type": "markdown",
   "metadata": {},
   "source": [
    "## Example Solution: A Distributed Algorithm\n",
    "\n",
    "Many solutions to this problem exist, including a deceptively simple one that has a single rule:\n",
    "\n",
    "$$\n",
    "A + B \\rightarrow \\emptyset + \\emptyset\n",
    "$$\n",
    "\n",
    "If two opposing species collide, they both vanish. The algorithm is indeed a CRN and we simply write\n",
    "\n",
    "$$\n",
    "A + B \\rightarrow \\emptyset\n",
    "$$\n",
    "\n",
    "We coded a small particle collider `particle_collider.py` that allows one to run and visualize such CRN systems.\n",
    "You can find the code [here](https://github.com/BioDisCo/computational_bioengineering/blob/main/consensus/collider/particle_collider.py) and works as a standalone Python script.\n",
    "Running the algorithm for a while, starting from $A = 51$ and $B = 49$, we get:\n",
    "\n",
    "<div style=\"width: 500px; margin: auto;\">\n",
    "    \n",
    "<figure style=\"width: 100%; margin: auto; padding: 20px;\">\n",
    "  <img src=\"figs/collision1.png\" alt=\"Running after some time with less A and B.\">\n",
    "</figure>\n",
    "\n",
    "</div>\n",
    "\n",
    "and finally\n",
    "\n",
    "<div style=\"width: 600px; margin: auto;\">\n",
    "    \n",
    "<figure style=\"width: 100%; margin: auto; padding: 20px;\">\n",
    "  <img src=\"figs/collision2.png\" alt=\"Finally, all species are from A.\">\n",
    "</figure>\n",
    "\n",
    "</div>\n",
    "\n",
    "Resulting in the outcome that A was the initial majority.\n",
    "\n",
    "Here, is a plot of A and B over time generated by `particle_collider.py`.\n",
    "\n",
    "<div style=\"width: 500px; margin: auto;\">\n",
    "    \n",
    "<figure style=\"width: 100%; margin: auto; padding: 20px;\">\n",
    "  <img src=\"figs/convergence.png\" alt=\"Number of A and B over time. A fast exponential decay is visible.\">\n",
    "</figure>\n",
    "\n",
    "</div>\n",
    "\n",
    "We cna observer a fast convergence to consensus with only A being left.\n",
    "\n",
    "\n",
    "## Analysis of the Algorithm\n",
    "\n",
    "Typically we want to:\n",
    "- Ensure an algorithm is correct.\n",
    "- It performs well.\n",
    "\n",
    "Both can be done with certain guarantees.\n",
    "\n",
    "\n",
    "### Approach 1: Simulate\n",
    "\n",
    "The simplest one would be to run the `particle_collider.py` several times and check the outcome. This takes time (for the current `pygame` implementation about 20s each run).\n",
    "\n",
    "\n",
    "### Approach 2: Abstract and Simulate\n",
    "\n",
    "But, using the insights from the CRN lecture, we do not need to simulate colliding balls. We can approximate this system via a well-mixed CRN system. Let's code this in `MobsPy` and run it.\n"
   ]
  },
  {
   "cell_type": "code",
   "execution_count": 2,
   "metadata": {},
   "outputs": [
    {
     "name": "stderr",
     "output_type": "stream",
     "text": [
      "Compiling model\n",
      "Starting Simulator\n",
      "/Users/mfuegger/Github/Biodisco/computational_bioengineering/venv/lib/python3.12/site-packages/tqdm/auto.py:21: TqdmWarning: IProgress not found. Please update jupyter and ipywidgets. See https://ipywidgets.readthedocs.io/en/stable/user_install.html\n",
      "  from .autonotebook import tqdm as notebook_tqdm\n",
      "Simulation is Over\n"
     ]
    },
    {
     "data": {
      "image/png": "[encoded data removed]",
      "text/plain": [
       "<Figure size 500x400 with 1 Axes>"
      ]
     },
     "metadata": {},
     "output_type": "display_data"
    }
   ],
   "source": [
    "delta = 0.1 * mp.u.ul / mp.u.s\n",
    "repetitions = 3\n",
    "duration = 10 * mp.u.s\n",
    "volume = 1 * mp.u.ul\n",
    "\n",
    "A, B = mp.BaseSpecies()\n",
    "A(51)\n",
    "B(49)\n",
    "\n",
    "# competition\n",
    "A + B >> mp.Zero [delta]\n",
    "\n",
    "Sim = mp.Simulation(A | B)\n",
    "Sim.run(\n",
    "    duration=duration,\n",
    "    volume=volume,\n",
    "    simulation_method=\"stochastic\",\n",
    "    repetitions=repetitions,\n",
    "    unit_y=1 / volume,\n",
    "    plot_data=False,\n",
    ")\n",
    "\n",
    "T = Sim.results['Time']\n",
    "A = Sim.results['A']\n",
    "B = Sim.results['B']\n",
    "    \n",
    "plt.figure(figsize=figsize)\n",
    "plt.plot(T[0], A[0], label='A')\n",
    "plt.plot(T[0], B[0], label='B')\n",
    "plt.xlabel('time (s)')\n",
    "plt.ylabel(r'count $\\mu$L${}^{-1}$')\n",
    "plt.legend()\n",
    "plt.show()"
   ]
  },
  {
   "cell_type": "markdown",
   "metadata": {},
   "source": [
    "As expected, the outcome is qualitatively the same as before. To make it behave the same quantitativley, we have to adjust the parameter $\\delta$.\n",
    "\n",
    "> **_Question:_** The parameter $\\delta$ is influenced by the initial particle speeds, their radius, and the volume of the box. How would you measure it in the particle collider?\n",
    "\n",
    "While running stochastic simulations in the CRN simulator is much faster than physical simulation, we can do even better to ensure correctness and get bounds on the performance."
   ]
  },
  {
   "cell_type": "markdown",
   "metadata": {},
   "source": [
    "### Approach 3: Mathematical Analysis\n",
    "\n",
    "Indeed, the correctness of the algorithm follows from two observations:\n",
    "\n",
    "- Use the CRN lecture's approximation of the billiard system as Markov chain, showing that eventually any pair of species will collide with probability 1. In particular, if there is an A and a B they will collide and decrease the total population count by 2. (Precisely, there are configurations where such an A and B will never meet, but as discussed in the lecture we can neglect them as they occur only for precisely chosen initial positions and velocities.)\n",
    "\n",
    "- If there are, say, A > B > 0 species in the system, than after a collision between an A and a B there are A - 1 > B - 1 species in the system. This means that the difference A - B remains constant throughout the execution.\n",
    "\n",
    "We can also use math to show that it is fast.\n",
    "\n",
    "> **_Problem session:_** In the problem session we will mathematically show that it converges quickly. In fact it converges as quickly as in expected time $O(1)$. Thus this stunning as it is a constant time algorithm!"
   ]
  },
  {
   "cell_type": "markdown",
   "metadata": {},
   "source": [
    "## Robust Circuits\n",
    "\n",
    "A standard way of signaling between digital gates, like a `NAND` ($z = \\neg (x \\wedge y)$), is to encode the logical value in terms of low and high voltage.\n",
    "For example, anything in $[0V, 0.3V]$ is a clean `0` and anything in $[0.7V, 1V]$ a clean `1`.\n",
    "\n",
    "Some circuits make use of different encodings. One such encoding is *dual-rail encoding* is circuits that diverge from the classical [synchronous design paradigm](https://en.wikipedia.org/wiki/Synchronous_circuit), so called [asynchronous circuits](https://en.wikipedia.org/wiki/Asynchronous_circuit).\n",
    "\n",
    "> **_Side note:_** The term \"asynchronous\" is a bit misleading as it can be understood as time-less, though many asynchronous circuits make explicit use of timing constraints. In fact, nowadays the distinction between synchronous and asynchronous is vanishing, as the classical synchronous abstraction can only be maintained in conservative designs.\n",
    "\n",
    "In dual-rail encoding, `0` and `1` are signaled on dedicated wires. Raising the voltage on the `0`-wire signals a `0`, and vice versa.\n",
    "\n",
    "> **_Side note:_** Encodings differ in how to communicate several logical values. An option there is to let any transition on a wire signal a logical value. Care has to be taken that a transition occurs only after it is read by all downstream gates. This is typically either ensured by explicit handshaking, or delay constraints.\n",
    "\n",
    "Ths concept is closely related to [1-hot-encoding](https://en.wikipedia.org/wiki/One-hot) in CS and [differential signalling](https://en.wikipedia.org/wiki/Differential_signalling) in EE.\n",
    "\n",
    "We will borrow this concept of dual-rail encoding in the context of a biological circuit, to amplify a signal value.\n",
    "In particular it has two interesting properties that we will make use of:\n",
    "\n",
    "- Producing a signal can be costly in the biological context (e.g., transcribing, translating, secreting). We may thus want the circuit to produce no output initially and only produce an output once there is something to compute. Compare a chain of inverters in single rail signaling vs. one in dual rail signaling. In the former there is no notion of waiting until the first input arrives. Every second inverter is generating a costly `1`. In the second case, no inverter is generating an output initially. However, after an input, every inverter is generating exactly one `1`.\n",
    "\n",
    "- Amplifying a single-rail signal is difficult. It requires an amplification against its a midpoint signal value towards `0` and `1`. In dual-rail encoding amplification is easier: it requires that only one of the two rails prevails - a property that sounds like a job for Majority Consensus.\n"
   ]
  },
  {
   "cell_type": "markdown",
   "metadata": {},
   "source": [
    "## Use in Bio: Majority Consensus and Dual-Rail as Amplification\n",
    "\n",
    "In electrical circuits, the digital abstraction is enabled by operational amplifiers.\n",
    "In fact, every logical gate in an electrical circuit has an amplifier at its output:\n",
    "\n",
    "<div style=\"width: 500px; margin: auto;\">\n",
    "    \n",
    "<figure style=\"width: 100%; margin: auto; padding: 20px;\">\n",
    "  <img src=\"figs/Amplification.png\" alt=\"Amplification\">\n",
    "</figure>\n",
    "\n",
    "</div>\n",
    "\n",
    "Without these output amplifiers, inter-gate signals would not be clean 0-or-1 signals, but rather analog signals, invalidating the digital abstraction.\n",
    "We have seen in previous lectures that standard microbiological amplification is rather weak, with maximal Hill exponents in the order of $n\\approx 3$.\n",
    "When distributing a circuit to different bacteria types, the question of a better amplification becomes important.\n",
    "\n",
    "Mimicking the behavior an operational amplifier, we will build a *differential* amplifier.\n",
    "This circuit component amplifies the difference between the two rails of a dual-rail encoded binary signal:\n",
    "\n",
    "<div style=\"width: 800px; margin: auto;\">\n",
    "    \n",
    "<figure style=\"width: 100%; margin: auto; padding: 20px;\">\n",
    "  <img src=\"figs/DiffAmp.png\" alt=\"Differential amplification\">\n",
    "</figure>\n",
    "\n",
    "</div>\n",
    "\n",
    "Choosing the specific threshold ratio for initial concentrations of 50%, a perfect output signal is achieved when *majority consensus* is solved: \n",
    "- One of the two species is extinct (consensus).\n",
    "- Moreover, the initial majority species is not exinct (majority).\n",
    "\n",
    "The building block of a differential amplifier enables effective distribution of circuits:\n",
    "\n",
    "<div style=\"width: 800px; margin: auto;\">\n",
    "    \n",
    "<figure style=\"width: 100%; margin: auto; padding: 20px;\">\n",
    "  <img src=\"figs/Distribution.png\" alt=\"Circuit distribution\">\n",
    "</figure>\n",
    "\n",
    "</div>"
   ]
  },
  {
   "cell_type": "markdown",
   "metadata": {},
   "source": [
    "### Revising the Algorithm: The Pairwise Annihilation Algorithm\n",
    "\n",
    "We can almost use our algorithm from before to solve Majority Consensus in teh context of bacteria A and B. There remains only two problems: (1) how to implement the algorithm and (2) bacteria duplicate. We will address (1) right now and for (2) let us add duplication rules to the CRN:\n",
    "\n",
    "\\begin{align}\n",
    "A &\\rightarrow A + A\\\\\n",
    "B &\\rightarrow B + B\\\\\n",
    "A + B &\\rightarrow \\emptyset\n",
    "\\end{align}\n",
    "\n",
    "> **_Side note:_** For duplication we chose a very simple model, here: exponential growth independent of a resource.\n",
    "\n",
    "We analyzed this algorithm in [Da-Jung Cho, Függer, Hopper, Kushwaha, Nowak, and Soubeyran. DISC'2021](https://doi.org/10.1007/s00446-021-00404-8).\n",
    "One can show that it does not always solve Majority Consensus, but with high probability solves it (in a sense made precise in the paper).\n",
    "\n",
    "This simple algorithm is the *Pairwise Annihilation* algorithm, and it does exactly what it sounds like:\n",
    "\n",
    "<div style=\"width: 200px; margin: auto;\">\n",
    "    \n",
    "<figure style=\"width: 100%; margin: auto; padding: 20px;\">\n",
    "  <img src=\"figs/PA.png\" alt=\"Pairwise annihilation\">\n",
    "</figure>\n",
    "\n",
    "</div>\n",
    "\n",
    "That is, we have two types of bacteria, and whenever they meet, they annihilate each other.\n",
    "In addition to that, each bacterium duplicates at a uniform rate $\\mu$.\n",
    "For the time being, we chose to ignore certain aspects of real bacterial systems, for example:\n",
    "- resource limitation\n",
    "- individual cell death\n",
    "- in-flow of new nutrients\n",
    "\n",
    "\n",
    "### Communication via Conjugation\n",
    "\n",
    "While the rule\n",
    "\n",
    "$$\n",
    "A + B \\rightarrow \\emptyset\n",
    "$$\n",
    "\n",
    "is a simplification of direct competition between A and B, one can think of implementing direct competition via [bacterial conjugation](https://en.wikipedia.org/wiki/Bacterial_conjugation), where cells can copy DNA over to physically close cells.\n",
    "\n",
    "> **_Problem session:_** The construction of such plasmids is discussed in the problem session."
   ]
  },
  {
   "cell_type": "markdown",
   "metadata": {},
   "source": [
    "Let us start by simulating the protocol's behavior using `MobsPy`. For a first try we resort to deterministic (ODE) semantics."
   ]
  },
  {
   "cell_type": "code",
   "execution_count": 3,
   "metadata": {},
   "outputs": [
    {
     "data": {
      "image/png": "[encoded data removed]",
      "text/plain": [
       "<Figure size 500x400 with 1 Axes>"
      ]
     },
     "metadata": {},
     "output_type": "display_data"
    }
   ],
   "source": [
    "def simulate_pa(A0, B0, mu: float=1/30, delta: float=5e-10, duration = 60.0 * mp.u.min, stochastic: bool=True, repetitions: int=1) -> dict:\n",
    "    Bacterium = mp.BaseSpecies()\n",
    "\n",
    "    # growth\n",
    "    Bacterium >> Bacterium + Bacterium [mu / mp.u.min]\n",
    "\n",
    "    A, B = mp.New(Bacterium)\n",
    "    A(A0)\n",
    "    B(B0)\n",
    "\n",
    "    # competition\n",
    "    A + B >> mp.Zero [delta * mp.u.ul / mp.u.min]\n",
    "\n",
    "    Sim = mp.Simulation(A | B)\n",
    "    Sim.run(\n",
    "        duration=duration,\n",
    "        volume=1*mp.u.ul,\n",
    "        simulation_method=\"stochastic\" if stochastic else \"deterministic\",\n",
    "        repetitions=repetitions,\n",
    "        level=0,\n",
    "        unit_y=1 / mp.u.uL,\n",
    "        plot_data=False\n",
    "    )\n",
    "    \n",
    "    T = Sim.results['Time']\n",
    "    A = Sim.results['A']\n",
    "    B = Sim.results['B']\n",
    "    \n",
    "    return {'T': T, 'A': A, 'B': B}\n",
    "\n",
    "\n",
    "def plot_pa_over_time(T, A, B) -> None:\n",
    "    plt.figure(figsize=figsize)\n",
    "    plt.plot(T[0], A[0], label='A')\n",
    "    plt.plot(T[0], B[0], label='B')\n",
    "    plt.xlabel('time (min)')\n",
    "    plt.ylabel(r'count $\\mu$L${}^{-1}$')\n",
    "    plt.legend()\n",
    "    plt.show()\n",
    "    \n",
    "    \n",
    "result = simulate_pa(\n",
    "    51 / mp.u.uL,\n",
    "    49 / mp.u.uL,\n",
    "    mu=1.0,\n",
    "    delta=1.0,\n",
    "    duration = 2 * mp.u.min,\n",
    "    stochastic=False\n",
    ")\n",
    "plot_pa_over_time(**result)"
   ]
  },
  {
   "cell_type": "markdown",
   "metadata": {},
   "source": [
    "It turns out that the protocol is very sensitive to changes around the 50-50 initial configuration:"
   ]
  },
  {
   "cell_type": "code",
   "execution_count": 4,
   "metadata": {},
   "outputs": [
    {
     "data": {
      "image/png": "[encoded data removed]",
      "text/plain": [
       "<Figure size 500x400 with 1 Axes>"
      ]
     },
     "metadata": {},
     "output_type": "display_data"
    },
    {
     "data": {
      "image/png": "[encoded data removed]",
      "text/plain": [
       "<Figure size 500x400 with 1 Axes>"
      ]
     },
     "metadata": {},
     "output_type": "display_data"
    }
   ],
   "source": [
    "plot_pa_over_time(**simulate_pa(3.00000000e5 / mp.u.uL, 3e5 / mp.u.uL, duration=1000 * mp.u.min, stochastic=False))\n",
    "\n",
    "plot_pa_over_time(**simulate_pa(3.00000001e5 / mp.u.uL, 3e5 / mp.u.uL, duration=1000 * mp.u.min, stochastic=False))"
   ]
  },
  {
   "cell_type": "markdown",
   "metadata": {},
   "source": [
    "Moreover, the stochastic dynamics can be very different from the ODE dynamics:"
   ]
  },
  {
   "cell_type": "code",
   "execution_count": 5,
   "metadata": {},
   "outputs": [
    {
     "data": {
      "image/png": "[encoded data removed]",
      "text/plain": [
       "<Figure size 500x400 with 1 Axes>"
      ]
     },
     "metadata": {},
     "output_type": "display_data"
    },
    {
     "data": {
      "image/png": "[encoded data removed]",
      "text/plain": [
       "<Figure size 500x400 with 1 Axes>"
      ]
     },
     "metadata": {},
     "output_type": "display_data"
    }
   ],
   "source": [
    "plot_pa_over_time(**simulate_pa(51 / mp.u.uL, 49 / mp.u.uL, mu=1.0, delta=1.0, duration=2 * mp.u.min, stochastic=False))\n",
    "plot_pa_over_time(**simulate_pa(51 / mp.u.uL, 49 / mp.u.uL, mu=1.0, delta=1.0, duration=2 * mp.u.min, stochastic=True))"
   ]
  },
  {
   "cell_type": "markdown",
   "metadata": {},
   "source": [
    "It turns out that the initial majority doesn't always prevail:"
   ]
  },
  {
   "cell_type": "code",
   "execution_count": 6,
   "metadata": {},
   "outputs": [
    {
     "name": "stdout",
     "output_type": "stream",
     "text": [
      "{'A': 0.716, 'B': 0.261, 'neither': 0.02300000000000002}\n"
     ]
    }
   ],
   "source": [
    "def fraction_won(A0, B0, repetitions: int=1000, **kwargs) -> dict[str, float]:\n",
    "    cnt_A_won: int = 0\n",
    "    cnt_B_won: int = 0\n",
    "\n",
    "    result = simulate_pa(A0=A0 / mp.u.uL , B0=B0 / mp.u.uL, stochastic=True, repetitions=repetitions, **kwargs)\n",
    "    \n",
    "    for i in range(repetitions):\n",
    "        if result['A'][i][-1] == 0 and result['B'][i][-1] != 0:\n",
    "            cnt_B_won += 1\n",
    "        if result['B'][i][-1] == 0 and result['A'][i][-1] != 0:\n",
    "            cnt_A_won += 1\n",
    "                        \n",
    "    return {'A': cnt_A_won/repetitions,\n",
    "            'B': cnt_B_won/repetitions,\n",
    "            'neither': 1 - (cnt_A_won+cnt_B_won)/repetitions}\n",
    "\n",
    "print(fraction_won(501, 499, mu=1.0, delta=1.0, duration=5 * mp.u.min))"
   ]
  },
  {
   "cell_type": "markdown",
   "metadata": {},
   "source": [
    "Let's make a sweep over different initial ratios:"
   ]
  },
  {
   "cell_type": "code",
   "execution_count": 7,
   "metadata": {},
   "outputs": [
    {
     "name": "stderr",
     "output_type": "stream",
     "text": [
      "100%|██████████| 51/51 [00:21<00:00,  2.33it/s]\n"
     ]
    }
   ],
   "source": [
    "def fraction_A_won_ratio_sweep(total_pop: int, **kwargs) -> tuple[list[float], list[float]]:\n",
    "    ratios: list[float] = []\n",
    "    wins: list[float] = []\n",
    "    increment: int = 2\n",
    "    for A0 in tqdm.tqdm(range(0, total_pop+1, increment)):\n",
    "        B0 = total_pop - A0    \n",
    "        ratios.append(A0/total_pop)\n",
    "        wins.append(fraction_won(A0, B0, **kwargs)['A'])\n",
    "    return ratios, wins\n",
    "\n",
    "ratios, wins = fraction_A_won_ratio_sweep(100, repetitions=10, mu=1.0, delta=1.0, duration=5 * mp.u.min)"
   ]
  },
  {
   "cell_type": "code",
   "execution_count": 8,
   "metadata": {},
   "outputs": [
    {
     "data": {
      "image/png": "[encoded data removed]",
      "text/plain": [
       "<Figure size 500x400 with 1 Axes>"
      ]
     },
     "metadata": {},
     "output_type": "display_data"
    }
   ],
   "source": [
    "plt.figure(figsize=figsize)\n",
    "plt.xlabel('$A(0)/(A(0)+B(0))$')\n",
    "plt.ylabel('fraction of $A$ wins')\n",
    "plt.plot(ratios, wins)\n",
    "plt.show()"
   ]
  },
  {
   "cell_type": "markdown",
   "metadata": {},
   "source": [
    "That's a very steep amplification! Let's zoom in:"
   ]
  },
  {
   "cell_type": "code",
   "execution_count": 9,
   "metadata": {},
   "outputs": [
    {
     "name": "stderr",
     "output_type": "stream",
     "text": [
      "100%|██████████| 11/11 [00:15<00:00,  1.44s/it]\n"
     ]
    }
   ],
   "source": [
    "def fraction_A_won_diff_sweep(total_pop: int, max_diff: int, **kwargs) -> tuple[list[int], list[float]]:\n",
    "    differences: list[int] = []\n",
    "    wins: list[float] = []\n",
    "    for A0 in tqdm.tqdm(range(total_pop//2-max_diff, total_pop//2+max_diff+1)):\n",
    "        B0 = total_pop - A0\n",
    "        differences.append(A0-B0)\n",
    "        wins.append(fraction_won(A0, B0, **kwargs)['A'])\n",
    "    return differences, wins\n",
    "\n",
    "differences, wins_zoom = fraction_A_won_diff_sweep(1000, 5, repetitions=100, mu=1.0, delta=1.0, duration=5 * mp.u.min)"
   ]
  },
  {
   "cell_type": "code",
   "execution_count": 10,
   "metadata": {},
   "outputs": [
    {
     "data": {
      "image/png": "[encoded data removed]",
      "text/plain": [
       "<Figure size 500x400 with 1 Axes>"
      ]
     },
     "metadata": {},
     "output_type": "display_data"
    }
   ],
   "source": [
    "plt.figure(figsize=figsize)\n",
    "plt.xlabel('$A(0) - B(0)$  [$n=1000$]')\n",
    "plt.ylabel('fraction of $A$ wins')\n",
    "plt.plot(differences, wins_zoom)\n",
    "plt.show()"
   ]
  },
  {
   "cell_type": "markdown",
   "metadata": {},
   "source": [
    "## Amplification without Interaction?\n",
    "\n",
    "Given the two populations A and B, can we achieve the same amplification around 50:50 by simpler means? In particular do we really need an interaction among A and B that is involved to engineer?\n",
    "\n",
    "Let's start with an (oversimplified) system that contains only death reactions for A and B independently.\n",
    "In terms of an CRN this is\n",
    "\n",
    "\\begin{align}\n",
    "A &\\rightarrow \\emptyset\\\\\n",
    "B &\\rightarrow \\emptyset\n",
    "\\end{align}\n",
    "\n",
    "Since in this system both A and B will die, we have to redefine the output of the distributed algorithm as the species that dies that dies last.\n",
    "\n",
    "As we have seen in the problem session of the CRN lecture (1g), we could show that the probability of A winning is $A_0 / (A_0 + B_0)$.\n",
    "In fact there is a simple argument by symmetry for this: any among the $A_0 + B_0$ species dies independently from all others. By symmetry (all species are equal) they are equally likely to be the last one. For A to win it is now just the probability of one of the A species to be the last one.\n",
    "The statement follows.\n",
    "\n",
    "However, $A_0 / (A_0 + B_0)$ corresponds to no amplification.\n",
    "\n",
    "Let us try arbitrary additions to the CRN to make it more realistic. However, without adding interactions among the species. For example, we can add duplication reactions for the species $X \\in \\{A, B\\}$ like\n",
    "\n",
    "\\begin{align}\n",
    "X &\\rightarrow X + X\n",
    "\\end{align}\n",
    "\n",
    "as in the CRN problem session (2) or even duplication dependent on a common resource $R$\n",
    "\n",
    "\\begin{align}\n",
    "X + R &\\rightarrow X + X\n",
    "\\end{align}\n",
    "\n",
    "or a continuous cultures model with in-and outflow\n",
    "\n",
    "\\begin{align}\n",
    "\\emptyset &\\rightarrow R\\\\\n",
    "R &\\rightarrow \\emptyset\n",
    "\\end{align}\n",
    "\n",
    "All these additions do not change the fact that the initial individual (and its ancestors) can be seen as independent systems that start in parallel and that win if they are the last one to die (for ancestors, this means the last ones where all in the system die). Again, arguing by symmetry they all die with the same probability, resulting in the same - not amplified - formula $A_0 / (A_0 + B_0)$ to win.\n",
    "\n",
    "The argument of symmetric systems breaks down once we introduce interaction among the system. With the reaction $A + B \\rightarrow \\emptyset$ an individual A particle has a harder time finding a colliding B particle if A is in majority (there may be only a few B) than a B particle in the same system. Their probabilities to win are thus, a priori, not the same. Indeed, the simulations show that the amplification is much stronger than $A_0 / (A_0 + B_0)$.\n"
   ]
  },
  {
   "cell_type": "markdown",
   "metadata": {},
   "source": [
    "## Theoretical Analysis of the Amplification\n",
    "\n",
    "**Theorem.**\n",
    "For initial population $n = A(0) + B(0)$ and initial gap $\\Delta = \\lvert A(0)-B(0)\\rvert$,\n",
    "the Pairwise Annihilation protocol reaches consensus in expected time  $O(1)$ and in time  $O(\\log n)$ with high probability.\n",
    "It reaches majority consensus with probability\n",
    "$1 - e^{-\\Omega(\\Delta^2/n)}$.\n",
    "\n",
    "If $\\Delta = \\Omega\\left(\\sqrt{n \\log n}\\right)$, then the  Pairwise Annihilation protocol reaches majority consensus with high probability.\n",
    "\n",
    "### Birth Protocols\n",
    "\n",
    "A *protocol for a birth system*, or protocol, with input species $\\mathcal{I}$ and\n",
    "  output species $\\mathcal{O}$, for finite, not necessarily disjoint, sets $\\mathcal{I}$ and $\\mathcal{O}$\n",
    "  is a CRN specified as follows.\n",
    "Its set of species $\\mathcal{S}$ comprises input/output\n",
    "  species $\\mathcal{I} \\cup \\mathcal{O}$ and a finite set of internal species $\\mathcal{L}$.\n",
    "Further, the protocol defines the initial\n",
    "  species counts $X_0$ for internal and output species $X \\in \\mathcal{L} \\cup \\mathcal{O}$ and a\n",
    "  finite set of reactions $\\mathcal{R}$ on the species in $\\mathcal{S}$.\n",
    "For each species $X \\in \\mathcal{S}$, there is a duplication reaction of the form\n",
    "  $X \\xrightarrow{\\mu} 2X$.\n",
    "All duplication reactions have the same rate constant $\\mu>0$.\n",
    "\n",
    "Given a protocol and an initial species count for its inputs,\n",
    "an execution of the protocol is given by the stochastic process of the CRN with species $\\mathcal{S}$,\n",
    "reactions $\\mathcal{R}$, and respective initial species counts."
   ]
  },
  {
   "cell_type": "markdown",
   "metadata": {},
   "source": [
    "### Markov-Chain Model\n",
    "\n",
    "The evolution of the Pairwise Annihilation protocol is described by a continuous-time Markov chain with state space $S = \\mathbb{N}^2$.\n",
    "Its state-transition rates are:\n",
    "\\begin{equation}\n",
    "\\begin{split}\n",
    "\\qquad \\qquad \\qquad Q\\big( (A,B) \\,,\\, (A+1,B) \\big) & = \\mu A\\\\\n",
    "Q\\big( (A,B) \\,,\\, (A,B+1) \\big) & = \\mu B\\\\\n",
    "Q\\big( (A,B) \\,,\\, (A-1,B-1) \\big) & = \\delta A B\n",
    "\\end{split}\n",
    "\\end{equation}\n",
    "Note that the death transition $(A,B) \\to (A-1,B-1)$ has rate zero if $A=0$ or $B=0$.\n",
    "Both axes $\\{0\\}\\times\\mathbb{N}$ and $\\mathbb{N}\\times\\{0\\}$ are absorbing, and so is the state  $(A,B)=(0,0)$.\n",
    "This chain is regular, i.e., its sequence of transition times is unbounded with probability $1$.\n",
    "Indeed, as we will show,  the discrete-time chain reaches consensus with probability $1$, from which time on the chain is equal to a linear pure-birth process, which is regular.\n",
    "\n",
    "The corresponding discrete-time jump chain has the same state space $S=\\mathbb{N}^2$ and the state-transition probabilities\n",
    "\\begin{equation}\n",
    "\\begin{split}\n",
    "P\\big( (A,B) \\,,\\, (A+1,B) \\big) & = \\frac{\\mu A}{\\mu(A+B) + \\delta AB}\\\\\n",
    "P\\big( (A,B) \\,,\\, (A,B+1) \\big) & = \\frac{\\mu B}{\\mu(A+B) + \\delta AB}\\\\\n",
    "P\\big( (A,B) \\,,\\, (A-1,B-1) \\big) & = \\frac{\\delta AB}{\\mu(A+B) + \\delta AB}\n",
    "\\end{split}\n",
    "\\end{equation}\n",
    "if $A>0$ or $B>0$.\n",
    "The axes as well as state $(A,B)=(0,0)$ is absorbing, as in the continuous-time chain.\n",
    "\n",
    "As a convention, we will write $X(t)$ for the state of the continuous-time process $X$ at time $t$, and $X_k$ for the state of the discrete-time jump process after $k$ state transitions.\n",
    "The time to reach consensus is the earliest time $T$ such that $A(T)=0$ or $B(T)=0$.\n",
    "\n",
    "\n",
    "\n",
    "\n"
   ]
  },
  {
   "cell_type": "markdown",
   "metadata": {},
   "source": [
    "\n",
    "### Probability of Reaching Majority Consensus\n",
    "\n",
    "We now turn to the proof of the bound on the probability to achieve majority consensus.\n",
    "We use a coupling of the Pairwise Annihilation protocol chain with a different process than for the time bound.\n",
    "Namely we couple it with two parallel independent Yule processes.\n",
    "A Yule process, also known as a pure birth process, has this single state-transition rule $X\\to X+1$ with linear transition rate $\\mu X$.\n",
    "Since we already showed the upper bound on the time until consensus, it suffices to look at the discrete-time jump process.\n",
    "In particular, the coupling we define is discrete-time.\n",
    "\n",
    "#### Discrete-time coupling.\n",
    "\n",
    "For an i.i.d. sequence $(\\xi_k)_{k\\geq 1}$ of uniformly distributed random variables in the unit interval $[0,1)$, we\n",
    "define the coupling as the process $(A_k,B_k,X_k,Y_k)$ with\n",
    "$A_0=X_0$, $B_0=Y_0$\n",
    "such that $(A_{k+1},B_{k+1})$ is equal to\n",
    "\n",
    "- $(A_k-1,B_k-1)$ if $\\xi_{k+1} < \\frac{\\delta A_k B_k}{\\mu(A_k+B_k)+\\delta A_k B_k}$\n",
    "- $(A_k+1,B_k)$ if $\\xi_{k+1} \\geq \\frac{\\delta A_k B_k}{\\mu(A_k+B_k)+\\delta A_k B_k}$ and $\\xi_{k+1} < 1 -  \\frac{\\mu B_k}{\\mu(A_k+B_k)+\\delta A_k B_k}$\n",
    "- $(A_k,B_k+1)$ if $\\xi_{k+1} \\geq 1 - \\frac{\\mu B_k}{\\mu(A_k+B_k)+\\delta A_k B_k}$\n",
    "\n",
    "and $(X_{k+1},Y_{k+1})$ is equal to\n",
    "\n",
    "- $(X_k,Y_k)$ if $\\xi_{k+1} < \\frac{\\delta A_k B_k}{\\mu(A_k+B_k)+\\delta A_k B_k}$\n",
    "- $(X_k+1,Y_k)$ if $\\xi_{k+1} \\geq \\frac{\\delta A_k B_k}{\\mu(A_k+B_k)+\\delta A_k B_k}$ and $\\xi_{k+1} < 1 - \\frac{\\mu (A_k+B_k)}{\\mu(A_k+B_k)+\\delta A_k B_k} \\cdot \\frac{Y_k}{X_k+Y_k}$\n",
    "- $(X_k,Y_k+1)$ if $\\xi_{k+1} \\geq 1 - \\frac{\\mu (A_k+B_k)}{\\mu(A_k+B_k)+\\delta A_k B_k} \\cdot \\frac{Y_k}{X_k+Y_k}$\n",
    "\n",
    "if $\\max\\{A_k,B_k\\}>0$ and $\\max\\{X_k,Y_k\\}>0$.\n",
    "Otherwise the process remains constant.\n",
    "\n",
    "\n",
    "<div style=\"width: 800px; margin: auto;\">\n",
    "    \n",
    "<figure style=\"width: 100%; margin: auto; padding: 20px;\">\n",
    "  <img src=\"figs/DiscCoupling.png\" alt=\"Discrete-time coupling\">\n",
    "</figure>\n",
    "\n",
    "</div>\n",
    "\n",
    "*Discrete-time coupling of the Pairwise Annihilation (PA) chain and two Yule processes X and Y with $\\lambda(A_k,B_k) = \\gamma(A_k + B_k) + \\delta A_k B_k$. Cases for $\\xi_{k+1}$ that lead to stuttering steps are shown in blue. The interval relations indicated by the dotted lines are proven by induction.*\n",
    "\n",
    "\n",
    "#### Analysis of probability of reaching majority consensus\n",
    "\n",
    "\n",
    "The crucial property of this coupling is that the initial minority in the Pairwise Annihilation process cannot overtake the initial majority before the initial minority overtakes the initial majority in the parallel Yule processes.\n",
    "We now prove that our construction indeed has this property.\n",
    "\n",
    "**Lemma.** If $X_0 = A_0 \\geq B_0 = Y_0$ and $X_k \\geq Y_k$ for all $0\\leq k\\leq K$, then\n",
    "$X_k - Y_k \\leq A_k - B_k$ for all $0\\leq k\\leq K$.\n",
    "\n",
    "\n",
    "**Corollary.**\n",
    "If $A_0=X_0$ and $B_0=Y_0$, then\n",
    "\\begin{align*}\n",
    "\\mathbb{P}(\\exists k\\colon A_k = B_k) \\leq \\mathbb{P}(\\exists k\\colon X_k = Y_k).\n",
    "\\end{align*}\n",
    "\n",
    "\n",
    "As defined in the coupling the parallel Yule processes $(X_k,Y_k)$ can have stuttering steps where \n",
    "\\begin{align*}\\qquad \\qquad \\qquad  (X_{k+1},Y_{k+1})=(X_k,Y_k).\n",
    "\\end{align*}\n",
    "However, this happens only finitely often almost surely.\n",
    "This allows us to analyze a version of  the process $(X_k,Y_k)$ without stuttering steps in the rest of the proof.\n",
    "\n",
    "**Lemma.**\n",
    "If $(\\tilde{X}_k, \\tilde{Y}_k)$ is the product of two independent pure-birth processes with $\\tilde{X}_0 = X_0$ and $\\tilde{Y}_0 = Y_0$, then $\\mathbb{P}(\\exists k\\colon \\tilde{X}_k = \\tilde{Y}_k) = \\mathbb{P}(\\exists k \\colon X_k = Y_k)$.\n",
    "\n",
    "*Proof.*\n",
    "There are only finitely many deaths in the coupled chain almost surely.\n",
    "There are hence only finitely many stuttering steps in $(X_k,Y_k)$ almost surely.\n",
    "\n",
    "\n",
    "\n",
    "By slight abuse of notation, we will use $(X_k,Y_k)$ to refer to the parallel Yule processes without any stuttering steps.\n",
    "\n",
    "Two parallel independent Yule processes are known to be related to a beta distribution, which we will use below.\n",
    "The regularized incomplete beta function $I_z(\\alpha,\\beta)$ is defined as\n",
    "\n",
    "\\begin{equation}\n",
    "I_z(\\alpha,\\beta)\n",
    "=\n",
    "\\int_0^z t^{\\alpha-1} (1-t)^{\\beta-1}\\,dt\n",
    "\\ \\Big/\n",
    "\\int_0^1 t^{\\alpha-1} (1-t)^{\\beta-1}\\,dt\n",
    "\\enspace.\n",
    "\\end{equation}\n",
    "\n",
    "**Lemma.**\n",
    "If $X_0 > Y_0$,\n",
    "then\n",
    "$\\mathbb{P}\\left(\\exists k\\colon X_k = Y_k\\right) = 2\\cdot I_{1/2}(X_0,Y_0)$.\n",
    "\n",
    "*Proof.*\n",
    "The sequence of ratios $\\frac{X_k}{X_k+Y_k}$ converges with probability $1$ and the limit is distributed according to a beta distribution with parameters $\\alpha = X_0$ and $\\beta = Y_0$.\n",
    "In particular, the probability that the limit is less than $1/2$ is equal to the beta distribution's cumulative distribution function evaluated at $1/2$, i.e., equal to $I_{1/2}(X_0,Y_0)$.\n",
    "Because initially we have $X_0>Y_0$, the law of total probability gives:\n",
    "\\begin{equation}\n",
    "\\begin{aligned}\n",
    "I_{1/2}(X_0,Y_0)\n",
    "&=\n",
    "\\mathbb{P}\\left( \\lim_{k\\to\\infty} \\frac{X_k}{X_k+Y_k} < \\frac{1}{2} \\right)\n",
    "\\\\ & =\n",
    "\\mathbb{P}\\left( \\lim_{k\\to\\infty} \\frac{X_k}{X_k+Y_k} < \\frac{1}{2}  \\Big| \\exists k\\colon X_k=Y_k \\right) \\cdot \\mathbb{P}\\left( \\exists k\\colon X_k=Y_k \\right) +\n",
    "\\mathbb{P}\\left( \\lim_{k\\to\\infty} \\frac{X_k}{X_k+Y_k} < \\frac{1}{2}  \\wedge  \\forall k\\colon X_k > Y_k \\right)\n",
    "\\end{aligned}\n",
    "\\end{equation}\n",
    "Now, if $\\forall k\\colon X_k > Y_k$, then $\\lim_k \\frac{X_k}{X_k+Y_k} \\geq {1}/{2}$, which shows that the second term in the sum is zero.\n",
    "Further, under the condition $\\exists k\\colon X_k=Y_k$, it is equiprobable for the limit of $\\frac{X_k}{X_k+Y_k}$ to be larger or smaller than $1/2$ by symmetry and the strong Markov property.\n",
    "This shows that the right-hand side is equal to $\\frac{1}{2}\\cdot\\mathbb{P}\\left(\\exists k\\colon X_k = Y_k\\right)$, which concludes the proof.\n",
    "\n",
    "\n",
    "We define the event \"$B$ wins\" as $A$ eventually becoming extinct.\n",
    "Then, we have:\n",
    "\n",
    "**Lemma.** If $A_0 > B_0$, then $\\mathbb{P}\\left(\\exists k\\colon A_k = B_k\\right) = 2\\cdot \\mathbb{P}(\\text{$B$ wins})$.\n",
    "\n",
    "*Proof.* By the law of total probability, we have:\n",
    "\\begin{equation}\n",
    "\\mathbb{P}\\left( \\text{$B$ wins} \\right) = \\mathbb{P}\\left( \\text{$B$ wins} \\mid \\exists k\\colon A_k=B_k \\right) \\cdot \\mathbb{P}\\left( \\exists k\\colon A_k=B_k \\right) + \\mathbb{P}\\left( \\text{$B$ wins} \\wedge \\forall k\\colon A_k > B_k \\right)\n",
    "\\end{equation}\n",
    "If $\\forall k\\colon A_k > B_k$, then $B$ cannot win, i.e., the second term in the right-hand side of the equation is zero.\n",
    "Also, by symmetry and the strong Markov property, it is\n",
    "\\begin{align*}\n",
    "\\mathbb{P}\\left( \\text{$B$ wins} \\mid \\exists k\\colon A_k=B_k \\right)=1/2 \\enspace.\n",
    "\\end{align*}\n",
    "A simple algebraic manipulation now concludes the proof.\n",
    "\n",
    "\n",
    "Combining the previous two lemmas with the coupling, we get an upper bound on the probability that the Pairwise Annihilation protocol fails to reach majority consensus.\n",
    "This upper bound is in terms of the regularized incomplete beta function.\n",
    "\n",
    "\n",
    "**Lemma.** If $A_0 \\geq B_0$, then\n",
    "the Pairwise Annihilation protocol fails to reach majority consensus with probability at most $I_{1/2}(A_0,B_0)$.\n",
    "\n",
    "*Proof.* Setting $X_0=A_0$ and $Y_0=B_0$, we get\n",
    "$\\mathbb{P}(\\text{$B$ wins}) = \\frac{1}{2}\\cdot \\mathbb{P}(\\exists k\\colon A_k = B_k) \\leq \\frac{1}{2}\\cdot \\mathbb{P}(\\exists k\\colon  X_k = Y_k) = I_{1/2}(A_0,B_0)$.\n",
    "\n",
    "\n",
    "It only remains to upper-bound the term $I_{1/2}(\\alpha,\\beta)$:\n",
    "\n",
    "**Lemma.** For $m,\\Delta \\in \\mathbb{N}$, it holds that\n",
    "\\begin{align*}\n",
    "\\displaystyle I_{1/2}(m+\\Delta,m) = \\exp\\left(-\\Omega\\left (\\frac{\\Delta^2}{m} \\right) \\right)\\enspace.\n",
    "\\end{align*}"
   ]
  },
  {
   "cell_type": "markdown",
   "metadata": {},
   "source": []
  }
 ],
 "metadata": {
  "kernelspec": {
   "display_name": "venv",
   "language": "python",
   "name": "python3"
  },
  "language_info": {
   "codemirror_mode": {
    "name": "ipython",
    "version": 3
   },
   "file_extension": ".py",
   "mimetype": "text/x-python",
   "name": "python",
   "nbconvert_exporter": "python",
   "pygments_lexer": "ipython3",
   "version": "3.12.7"
  }
 },
 "nbformat": 4,
 "nbformat_minor": 4
}
