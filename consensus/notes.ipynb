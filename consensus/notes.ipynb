{
 "cells": [
  {
   "cell_type": "markdown",
   "metadata": {},
   "source": [
    "# Distributed Algorithms, Majority Consensus\n",
    "\n",
    "<hr>"
   ]
  },
  {
   "cell_type": "markdown",
   "metadata": {},
   "source": [
    "This lecture covers:\n",
    "\n",
    "**Concepts**\n",
    "\n",
    "- Majority consensus as amplification mechanism\n",
    "- The pairwise annihilation algorithm\n",
    "\n",
    "**Techniques**\n",
    "\n",
    "- Stochastic simulation\n",
    "- Markov-chain analysis\n",
    "\n",
    "<hr>\n",
    "\n",
    "Let's start by importing libraries we will need:"
   ]
  },
  {
   "cell_type": "code",
   "execution_count": 41,
   "metadata": {},
   "outputs": [],
   "source": [
    "# %pip install mobspy\n",
    "# %pip install tqdm\n",
    "\n",
    "import mobspy as mp\n",
    "import tqdm\n",
    "import matplotlib.pyplot as plt\n",
    "\n",
    "figsize = (5,4)"
   ]
  },
  {
   "cell_type": "markdown",
   "metadata": {},
   "source": [
    "# Genetic Circuits\n",
    "\n",
    "We have seen basic gene regulation concepts (repression, activation) in the previous lectures. These were our first circuits.\n",
    "\n",
    "There is an increasing body of work on how to design and engineer such, and more complex, circuits in cells from first principles. In particular, we will discuss approaches to construct circuits out of gates with digital-like characteristics in the following lectures. \n",
    "\n",
    "The most common design techniques for synthetic gates rely on:\n",
    "- Gene regulation via DNA-binding proteins. With the downside of limited availability of orthogonal signals within the cell (DNA-binding)\n",
    "- Nucleic acid (DNA/RNA) interactions. With the downside of small dynamic range (RNA based).\n",
    "- The CRISPR machinery. With the downside of reduced growth rates (heavy CRISPR machinery).\n",
    "\n",
    "We refer the interested reader to an overview in [Brophy and Voigt, Nature methods 2014](https://pmc.ncbi.nlm.nih.gov/articles/PMC4230274/pdf/nihms635954.pdf) where the authors describe several types of genetic circuits.\n",
    "\n",
    "\n"
   ]
  },
  {
   "cell_type": "markdown",
   "metadata": {},
   "source": [
    "## Related Disciplines: Distributed Computing and Robust Circuit Design\n",
    "\n",
    "\n",
    "While the design of good circuits, and in particular gates, is continued effort in research, there is a fundamental limitation ahead.\n",
    "Currently none of the circuits designed so far has more than 10 gates in a single cell.\n",
    "This has led to recent efforts to distribute circuits among several cells to reduce the resource load per cell, taking the formative steps towards distributed bacterial circuits.\n",
    "\n",
    "The research field of distributed computing has a long history of analyzing distributed systems under harsh environmental conditions, from node and link failures, with different models of fault manifestation, to completely dynamic network architectures.\n",
    "Likewise, the field of robust circuit design has studied faults and their mitigation in VLSI circuits with great success.\n",
    "In both fields, mathematical modeling and analysis has led to provably robust solutions and insights into how different parameters influence the quality of the solution, resulting in informed design decisions for real-world implementations.\n",
    "\n",
    "We will demonstrate the use of some concepts from these two disciplines in a small example: a distributed gate.\n",
    "\n",
    "\n",
    "## Distributed Computing\n",
    "\n",
    "Distributed Computing studies computation in distributed systems.\n",
    "Examples for distributed systems are:\n",
    "- A fixed set of (computing) nodes that are interconnected via a dedicated network infrastructure.\n",
    "  An example is a scientific cluster, the computer system of a bank, or a computer system in an airplane.\n",
    "\n",
    "- A dynamically changing set of nodes interconnected by a dynamic network.\n",
    "  An example is a peer-to-peer network of phones, a swarm of drones, or a network of wireless sensors thrown into the landscape.\n",
    "\n",
    "Distributed systems are not necessarily classical computers, but can be anything with a specified (but not necessarily deterministic!) behavior. We may as well have chosen as examples:\n",
    "- Fixed architecture: Cells in a (non growing) tissue that communicate via hormones or electric signals.\n",
    "\n",
    "- Dynamic architecture: Opinions of humans formed via social networks, or suspended bacteria in a liquid culture communicating via small molecules or via the exchange of DNA.\n",
    "\n",
    "While the discipline of distributed computing tries to abstract from the application, the majority of research is on systems with computer networks in mind, with respective assumptions on the system.\n",
    "\n",
    "\n",
    "We will look at one problem that has been extensively studied in distributed computing: the problem of converging from an initial mixed population to a homogenous population of nodes.\n",
    "\n",
    "Many variants of the, so called, **consensus** problems, exist, differing in static vs. dynamic architecture, discrete vs. continuous values, terminating vs. non-terminating algorithms, etc.\n",
    "The problem was traditionally studied in networks with a fixed architecture, and with some of the computing nodes potentially failing.\n",
    "Applications for this problem are, e.g., in redundant databases where each server has a certain state and servers need to agree on a unique state."
   ]
  },
  {
   "cell_type": "markdown",
   "metadata": {},
   "source": [
    "## Example Problem: Majority Consensus\n",
    "\n",
    "Assume we are given a population of two kinds of species, A (blue) and B (orange). The problem is to determine which of them is in majority.\n",
    "\n",
    "An input instance of this problem may look like this where we have $A = 51$ and $B = 49$ species.\n",
    "\n",
    "<div style=\"width: 500px; margin: auto;\">\n",
    "    \n",
    "<figure style=\"width: 100%; margin: auto; padding: 20px;\">\n",
    "  <img src=\"figs/initial.png\" alt=\"Initial configuration with 51 A and 49 B shown as balls.\">\n",
    "</figure>\n",
    "\n",
    "</div>\n",
    "\n",
    "While it would be tedious to count A vs. B, it is still possible and this would be a so-called **centralized** solution where we play the role of the central processing unit.\n",
    "\n",
    "However, this solution would not scale well with the problem size. What is the majority, here? (The answer is A with 551 vs 549)\n",
    "\n",
    "<div style=\"width: 500px; margin: auto;\">\n",
    "    \n",
    "<figure style=\"width: 100%; margin: auto; padding: 20px;\">\n",
    "  <img src=\"figs/551vs549.png\" alt=\"Initial configuration with 551 A and 549 B shown as balls.\">\n",
    "</figure>\n",
    "\n",
    "</div>\n",
    "\n",
    "\n",
    "For a distributed solution, we distributed the computation across different units - in our case, the units will be the species itself with super simple, but local, computations.\n",
    "\n",
    "We first need to define what are the \"rules of the game\" and clarify some wording in the problem statement.\n",
    "\n",
    "Let's assume that species move, like we saw in the CRN lecture. Further, we assume that a distributed algorithm will define the local behavior of the species. While we resort from modifying speed, and angle, we will allow an algorithm only to change the type of two species upon local (geometric), that is colliding, interaction.\n",
    "In particular an algorithm is allowed to change or remove a species.\n",
    "\n",
    "Finally, we need to clarify what the outcome of such a distributed computation should be: how to we signal that A or B is in majority. One option would be that each species needs to output this result, but we take a different direction, here. We say that the algorithm outputs A once all species are A and it outputs B once all species are B. In particular this means that a (bad) algorithm could never terminate by never reaching the state where all species are from one population.\n",
    "\n"
   ]
  },
  {
   "cell_type": "markdown",
   "metadata": {},
   "source": [
    "## Example Solution: A Distributed Algorithm\n",
    "\n",
    "Many solutions to this problem exist, including a deceptively simple one that has a single rule:\n",
    "\n",
    "$$\n",
    "A + B \\rightarrow \\emptyset + \\emptyset\n",
    "$$\n",
    "\n",
    "If two opposing species collide, they both vanish. The algorithm is indeed a CRN and we simply write\n",
    "\n",
    "$$\n",
    "A + B \\rightarrow \\emptyset\n",
    "$$\n",
    "\n",
    "Running the algorithm for a while, starting from $A = 51$ and $B = 49$, we get:\n",
    "\n",
    "<div style=\"width: 500px; margin: auto;\">\n",
    "    \n",
    "<figure style=\"width: 100%; margin: auto; padding: 20px;\">\n",
    "  <img src=\"figs/collision1.png\" alt=\"Running after some time with less A and B.\">\n",
    "</figure>\n",
    "\n",
    "</div>\n",
    "\n",
    "and finally\n",
    "\n",
    "<div style=\"width: 500px; margin: auto;\">\n",
    "    \n",
    "<figure style=\"width: 100%; margin: auto; padding: 20px;\">\n",
    "  <img src=\"figs/collision2.png\" alt=\"Finally, all species are from A.\">\n",
    "</figure>\n",
    "\n",
    "</div>\n",
    "\n",
    "Resulting in the outcome that A was the initial majority.\n",
    "\n",
    "**Correctness.**\n",
    "The correctness of the algorithm follows from two observations:\n",
    "\n",
    "- Use the CRN lecture's approximation of the billiard system as Markov chain, showing that eventually any pair of species will collide. In particular, if there is an A and a B they will collide and decrease the total population count by 2. (Precisely, there are configurations where such an A and B will never meet, but as discussed in the lecture we can neglect them as they occur only for precisely chosen initial positions and velocities.)\n",
    "\n",
    "- If there are, say, A > B > 0 species in the system, than after a collision between an A and a B there are A - 1 > B - 1 species in the system. This means that the difference A - B remains constant throughout the execution.\n",
    "\n",
    "\n",
    "**Time until convergence.**\n",
    "We will see this in the problem session, but the system converges quickly. An example trace is:\n",
    "\n",
    "<div style=\"width: 900px; margin: auto;\">\n",
    "    \n",
    "<figure style=\"width: 100%; margin: auto; padding: 20px;\">\n",
    "  <img src=\"figs/convergence.png\" alt=\"Number of A and B over time. A fast exponential decay is visible.\">\n",
    "</figure>\n",
    "\n",
    "</div>\n"
   ]
  },
  {
   "cell_type": "markdown",
   "metadata": {},
   "source": [
    "## Example Problem: Majority Consensus and Amplification\n",
    "\n",
    "In electrical circuits, the digital abstraction is enabled by operational amplifiers.\n",
    "In fact, every logical gate in an electrical circuit has an amplifier at its output:\n",
    "\n",
    "<div style=\"width: 500px; margin: auto;\">\n",
    "    \n",
    "<figure style=\"width: 100%; margin: auto; padding: 20px;\">\n",
    "  <img src=\"figs/Amplification.png\" alt=\"Amplification\">\n",
    "</figure>\n",
    "\n",
    "</div>\n",
    "\n",
    "Without these output amplifiers, inter-gate signals would not be clean 0-or-1 signals, but rather analog signals, invalidating the digital abstraction.\n",
    "We have seen in previous lectures that standard microbiological amplification is rather weak, with maximal Hill exponents in the order of $n\\approx 3$.\n",
    "When distributing a circuit to different bacteria types, the question of a better amplification becomes important.\n",
    "\n",
    "Mimicking the behavior an operational amplifier, we will build a *differential* amplifier.\n",
    "This circuit component amplifies the difference between the two rails of a dual-rail encoded binary signal:\n",
    "\n",
    "<div style=\"width: 800px; margin: auto;\">\n",
    "    \n",
    "<figure style=\"width: 100%; margin: auto; padding: 20px;\">\n",
    "  <img src=\"figs/DiffAmp.png\" alt=\"Differential amplification\">\n",
    "</figure>\n",
    "\n",
    "</div>\n",
    "\n",
    "Choosing the specific threshold ratio for initial concentrations of 50%, a perfect output signal is achieved when *majority consensus* is solved: \n",
    "- One of the two species is extinct (consensus).\n",
    "- Moreover, the initial majority species is not exinct (majority).\n",
    "\n",
    "The building block of a differential amplifier enables effective distribution of circuits:\n",
    "\n",
    "<div style=\"width: 800px; margin: auto;\">\n",
    "    \n",
    "<figure style=\"width: 100%; margin: auto; padding: 20px;\">\n",
    "  <img src=\"figs/Distribution.png\" alt=\"Circuit distribution\">\n",
    "</figure>\n",
    "\n",
    "</div>"
   ]
  },
  {
   "cell_type": "markdown",
   "metadata": {},
   "source": [
    "### The Pairwise Annihilation Algorithm\n",
    "\n",
    "We proposed and analyzed a particularly simple bacterial implementation of majority consensus in a [recent paper in the journal *Distributed Computing*](https://doi.org/10.1007/s00446-021-00404-8).\n",
    "This simple algorithm is the *Pairwise Annihilation* algorithm, and it does exactly what it sounds like:\n",
    "\n",
    "<div style=\"width: 200px; margin: auto;\">\n",
    "    \n",
    "<figure style=\"width: 100%; margin: auto; padding: 20px;\">\n",
    "  <img src=\"figs/PA.png\" alt=\"Pairwise annihilation\">\n",
    "</figure>\n",
    "\n",
    "</div>\n",
    "\n",
    "That is, we have two types of bacteria, and whenever they meet, they annihilate each other.\n",
    "In addition to that, each bacterium duplicates at a uniform rate $\\mu$.\n",
    "For the time being, we chose to ignore certain aspects of real bacterial systems, for example:\n",
    "- resource limitation\n",
    "- individual cell death\n",
    "- in-flow of new nutrients\n",
    "\n",
    "The \"direct\" form of communication when two bacteria meet can be implemented via conjugation.\n",
    "This is a form of horizontal gene transfer, i.e., not during cell duplication.\n",
    "We can construct the two plasmids that define the two cell types in such a way that a lethal toxin is produced if both plasmids reside inside the same cell (via a genetic circuit).\n",
    "\n",
    "<div style=\"width: 500px; margin: auto;\">\n",
    "    \n",
    "<figure style=\"width: 100%; margin: auto; padding: 20px;\">\n",
    "  <img src=\"figs/Conjugation.svg\" alt=\"Bacterial conjugation\">\n",
    "</figure>\n",
    "\n",
    "</div>"
   ]
  },
  {
   "cell_type": "markdown",
   "metadata": {},
   "source": [
    "Let us start by simulating the protocol's behavior using MobsPy:"
   ]
  },
  {
   "cell_type": "code",
   "execution_count": 42,
   "metadata": {},
   "outputs": [
    {
     "name": "stderr",
     "output_type": "stream",
     "text": [
      "\u001b[91mERROR: At:     A(A0) \n",
      "Line number: 8 \n",
      "51000000.0 contains no characteristics from A\u001b[0m\n"
     ]
    },
    {
     "ename": "SystemExit",
     "evalue": "1",
     "output_type": "error",
     "traceback": [
      "An exception has occurred, use %tb to see the full traceback.\n",
      "\u001b[31mSystemExit\u001b[39m\u001b[31m:\u001b[39m 1\n"
     ]
    }
   ],
   "source": [
    "def simulate_pa(A0, B0, mu: float=1/30, delta: float=5e-10, duration = 60.0 * mp.u.min, stochastic: bool=True, repetitions: int=1):\n",
    "    Bacterium = mp.BaseSpecies()\n",
    "\n",
    "    # growth\n",
    "    Bacterium >> Bacterium + Bacterium [mu / mp.u.min]\n",
    "\n",
    "    A, B = mp.New(Bacterium)\n",
    "    A(A0)\n",
    "    B(B0)\n",
    "\n",
    "    # competition\n",
    "    A + B >> mp.Zero [delta * mp.u.ul / mp.u.min]\n",
    "\n",
    "    Sim = mp.Simulation(A | B)\n",
    "    Sim.run(\n",
    "        duration=duration,\n",
    "        volume=1*mp.u.ul,\n",
    "        simulation_method=\"stochastic\" if stochastic else \"deterministic\",\n",
    "        repetitions=repetitions,\n",
    "        level=0,\n",
    "        unit_y=1 / mp.u.uL,\n",
    "        plot_data=False\n",
    "    )\n",
    "    \n",
    "    T = Sim.results['Time']\n",
    "    A = Sim.results['A']\n",
    "    B = Sim.results['B']\n",
    "    \n",
    "    return {'T': T, 'A': A, 'B': B}\n",
    "\n",
    "\n",
    "def plot_pa_over_time(T, A, B):\n",
    "    plt.figure(figsize=figsize)\n",
    "    plt.plot(T[0], A[0], label='A')\n",
    "    plt.plot(T[0], B[0], label='B')\n",
    "    plt.xlabel('time (min)')\n",
    "    plt.ylabel(r'count $\\mu$L${}^{-1}$')\n",
    "    plt.legend()\n",
    "    plt.show()\n",
    "    \n",
    "    \n",
    "result = simulate_pa(51 / mp.u.uL, 49 / mp.u.uL, mu=1.0, delta=1.0, duration = 2 * mp.u.min, stochastic=False)\n",
    "plot_pa_over_time(**result)"
   ]
  },
  {
   "cell_type": "markdown",
   "metadata": {},
   "source": [
    "It turns out that the protocol is very sensitive to changes around the 50-50 initial configuration:"
   ]
  },
  {
   "cell_type": "code",
   "execution_count": null,
   "metadata": {},
   "outputs": [
    {
     "data": {
      "image/png": "[encoded data removed]",
      "text/plain": [
       "<Figure size 500x400 with 1 Axes>"
      ]
     },
     "metadata": {},
     "output_type": "display_data"
    },
    {
     "data": {
      "image/png": "[encoded data removed]",
      "text/plain": [
       "<Figure size 500x400 with 1 Axes>"
      ]
     },
     "metadata": {},
     "output_type": "display_data"
    }
   ],
   "source": [
    "plot_pa_over_time(**simulate_pa(3.00000000e5 / mp.u.uL, 3e5 / mp.u.uL, duration=1000 * mp.u.min, stochastic=False))\n",
    "\n",
    "plot_pa_over_time(**simulate_pa(3.00000001e5 / mp.u.uL, 3e5 / mp.u.uL, duration=1000 * mp.u.min, stochastic=False))"
   ]
  },
  {
   "cell_type": "markdown",
   "metadata": {},
   "source": [
    "Moreover, the stochastic dynamics can be very different from the ODE dynamics:"
   ]
  },
  {
   "cell_type": "code",
   "execution_count": null,
   "metadata": {},
   "outputs": [
    {
     "data": {
      "image/png": "[encoded data removed]",
      "text/plain": [
       "<Figure size 500x400 with 1 Axes>"
      ]
     },
     "metadata": {},
     "output_type": "display_data"
    }
   ],
   "source": [
    "plot_pa_over_time(**simulate_pa(51 / mp.u.uL, 49 / mp.u.uL, mu=1.0, delta=1.0, duration=2 * mp.u.min, stochastic=True))"
   ]
  },
  {
   "cell_type": "markdown",
   "metadata": {},
   "source": [
    "It turns out that the initial majority doesn't always prevail:"
   ]
  },
  {
   "cell_type": "code",
   "execution_count": null,
   "metadata": {},
   "outputs": [
    {
     "name": "stdout",
     "output_type": "stream",
     "text": [
      "{'A': 0.0, 'B': 0.0, 'neither': 1.0}\n"
     ]
    }
   ],
   "source": [
    "def fraction_won(A0, B0, reps=1000, **kwargs):\n",
    "    cnt_A_won = 0\n",
    "    cnt_B_won = 0\n",
    "\n",
    "    result = simulate_pa(A0=A0, B0=B0, stochastic=True, repetitions=reps, **kwargs)\n",
    "    \n",
    "    for i in range(reps):\n",
    "        if result['A'][i][-1] == 0 and result['B'][i][-1] != 0:\n",
    "            cnt_B_won += 1\n",
    "        if result['B'][i][-1] == 0 and result['A'][i][-1] != 0:\n",
    "            cnt_A_won += 1\n",
    "                        \n",
    "    return {'A': cnt_A_won/reps,\n",
    "            'B': cnt_B_won/reps,\n",
    "            'neither': 1 - (cnt_A_won+cnt_B_won)/reps}\n",
    "\n",
    "print(fraction_won(501, 499, mu=1.0, delta=1.0, duration=3))"
   ]
  },
  {
   "cell_type": "markdown",
   "metadata": {},
   "source": [
    "Let's make a sweep over different initial ratios:"
   ]
  },
  {
   "cell_type": "code",
   "execution_count": null,
   "metadata": {},
   "outputs": [
    {
     "name": "stderr",
     "output_type": "stream",
     "text": [
      " 19%|█▉        | 19/101 [00:20<01:28,  1.08s/it]\n"
     ]
    },
    {
     "ename": "KeyboardInterrupt",
     "evalue": "",
     "output_type": "error",
     "traceback": [
      "\u001b[31m---------------------------------------------------------------------------\u001b[39m",
      "\u001b[31mKeyboardInterrupt\u001b[39m                         Traceback (most recent call last)",
      "\u001b[36mCell\u001b[39m\u001b[36m \u001b[39m\u001b[32mIn[34]\u001b[39m\u001b[32m, line 10\u001b[39m\n\u001b[32m      6\u001b[39m         fractions[A0/total_pop] = fraction_won(A0, B0, **kwargs)[\u001b[33m'\u001b[39m\u001b[33mA\u001b[39m\u001b[33m'\u001b[39m]\n\u001b[32m      8\u001b[39m     \u001b[38;5;28;01mreturn\u001b[39;00m fractions\n\u001b[32m---> \u001b[39m\u001b[32m10\u001b[39m ratio_sweep = \u001b[43mfraction_A_won_ratio_sweep\u001b[49m\u001b[43m(\u001b[49m\u001b[32;43m100\u001b[39;49m\u001b[43m,\u001b[49m\u001b[43m \u001b[49m\u001b[43mreps\u001b[49m\u001b[43m=\u001b[49m\u001b[32;43m100\u001b[39;49m\u001b[43m,\u001b[49m\u001b[43m \u001b[49m\u001b[43mmu\u001b[49m\u001b[43m=\u001b[49m\u001b[32;43m1.0\u001b[39;49m\u001b[43m,\u001b[49m\u001b[43m \u001b[49m\u001b[43mdelta\u001b[49m\u001b[43m=\u001b[49m\u001b[32;43m1.0\u001b[39;49m\u001b[43m,\u001b[49m\u001b[43m \u001b[49m\u001b[43mduration\u001b[49m\u001b[43m=\u001b[49m\u001b[32;43m3\u001b[39;49m\u001b[43m)\u001b[49m\n",
      "\u001b[36mCell\u001b[39m\u001b[36m \u001b[39m\u001b[32mIn[34]\u001b[39m\u001b[32m, line 6\u001b[39m, in \u001b[36mfraction_A_won_ratio_sweep\u001b[39m\u001b[34m(total_pop, **kwargs)\u001b[39m\n\u001b[32m      3\u001b[39m \u001b[38;5;28;01mfor\u001b[39;00m A0 \u001b[38;5;129;01min\u001b[39;00m tqdm.tqdm(\u001b[38;5;28mrange\u001b[39m(total_pop+\u001b[32m1\u001b[39m)):\n\u001b[32m      4\u001b[39m     B0 = total_pop - A0\n\u001b[32m----> \u001b[39m\u001b[32m6\u001b[39m     fractions[A0/total_pop] = \u001b[43mfraction_won\u001b[49m\u001b[43m(\u001b[49m\u001b[43mA0\u001b[49m\u001b[43m,\u001b[49m\u001b[43m \u001b[49m\u001b[43mB0\u001b[49m\u001b[43m,\u001b[49m\u001b[43m \u001b[49m\u001b[43m*\u001b[49m\u001b[43m*\u001b[49m\u001b[43mkwargs\u001b[49m\u001b[43m)\u001b[49m[\u001b[33m'\u001b[39m\u001b[33mA\u001b[39m\u001b[33m'\u001b[39m]\n\u001b[32m      8\u001b[39m \u001b[38;5;28;01mreturn\u001b[39;00m fractions\n",
      "\u001b[36mCell\u001b[39m\u001b[36m \u001b[39m\u001b[32mIn[33]\u001b[39m\u001b[32m, line 5\u001b[39m, in \u001b[36mfraction_won\u001b[39m\u001b[34m(A0, B0, reps, **kwargs)\u001b[39m\n\u001b[32m      2\u001b[39m cnt_A_won = \u001b[32m0\u001b[39m\n\u001b[32m      3\u001b[39m cnt_B_won = \u001b[32m0\u001b[39m\n\u001b[32m----> \u001b[39m\u001b[32m5\u001b[39m result = \u001b[43msimulate_pa\u001b[49m\u001b[43m(\u001b[49m\u001b[43mA0\u001b[49m\u001b[43m=\u001b[49m\u001b[43mA0\u001b[49m\u001b[43m,\u001b[49m\u001b[43m \u001b[49m\u001b[43mB0\u001b[49m\u001b[43m=\u001b[49m\u001b[43mB0\u001b[49m\u001b[43m,\u001b[49m\u001b[43m \u001b[49m\u001b[43mstochastic\u001b[49m\u001b[43m=\u001b[49m\u001b[38;5;28;43;01mTrue\u001b[39;49;00m\u001b[43m,\u001b[49m\u001b[43m \u001b[49m\u001b[43mrepetitions\u001b[49m\u001b[43m=\u001b[49m\u001b[43mreps\u001b[49m\u001b[43m,\u001b[49m\u001b[43m \u001b[49m\u001b[43m*\u001b[49m\u001b[43m*\u001b[49m\u001b[43mkwargs\u001b[49m\u001b[43m)\u001b[49m\n\u001b[32m      7\u001b[39m \u001b[38;5;28;01mfor\u001b[39;00m i \u001b[38;5;129;01min\u001b[39;00m \u001b[38;5;28mrange\u001b[39m(reps):\n\u001b[32m      8\u001b[39m     \u001b[38;5;28;01mif\u001b[39;00m result[\u001b[33m'\u001b[39m\u001b[33mA\u001b[39m\u001b[33m'\u001b[39m][i][-\u001b[32m1\u001b[39m] == \u001b[32m0\u001b[39m \u001b[38;5;129;01mand\u001b[39;00m result[\u001b[33m'\u001b[39m\u001b[33mB\u001b[39m\u001b[33m'\u001b[39m][i][-\u001b[32m1\u001b[39m] != \u001b[32m0\u001b[39m:\n",
      "\u001b[36mCell\u001b[39m\u001b[36m \u001b[39m\u001b[32mIn[30]\u001b[39m\u001b[32m, line 15\u001b[39m, in \u001b[36msimulate_pa\u001b[39m\u001b[34m(A0, B0, mu, delta, duration, stochastic, repetitions)\u001b[39m\n\u001b[32m     12\u001b[39m A + B >> mp.Zero [delta * mp.u.ul / mp.u.min]\n\u001b[32m     14\u001b[39m Sim = mp.Simulation(A | B)\n\u001b[32m---> \u001b[39m\u001b[32m15\u001b[39m \u001b[43mSim\u001b[49m\u001b[43m.\u001b[49m\u001b[43mrun\u001b[49m\u001b[43m(\u001b[49m\n\u001b[32m     16\u001b[39m \u001b[43m    \u001b[49m\u001b[43mduration\u001b[49m\u001b[43m=\u001b[49m\u001b[43mduration\u001b[49m\u001b[43m,\u001b[49m\n\u001b[32m     17\u001b[39m \u001b[43m    \u001b[49m\u001b[43mvolume\u001b[49m\u001b[43m=\u001b[49m\u001b[32;43m1\u001b[39;49m\u001b[43m*\u001b[49m\u001b[43mmp\u001b[49m\u001b[43m.\u001b[49m\u001b[43mu\u001b[49m\u001b[43m.\u001b[49m\u001b[43mul\u001b[49m\u001b[43m,\u001b[49m\n\u001b[32m     18\u001b[39m \u001b[43m    \u001b[49m\u001b[43msimulation_method\u001b[49m\u001b[43m=\u001b[49m\u001b[33;43m\"\u001b[39;49m\u001b[33;43mstochastic\u001b[39;49m\u001b[33;43m\"\u001b[39;49m\u001b[43m \u001b[49m\u001b[38;5;28;43;01mif\u001b[39;49;00m\u001b[43m \u001b[49m\u001b[43mstochastic\u001b[49m\u001b[43m \u001b[49m\u001b[38;5;28;43;01melse\u001b[39;49;00m\u001b[43m \u001b[49m\u001b[33;43m\"\u001b[39;49m\u001b[33;43mdeterministic\u001b[39;49m\u001b[33;43m\"\u001b[39;49m\u001b[43m,\u001b[49m\n\u001b[32m     19\u001b[39m \u001b[43m    \u001b[49m\u001b[43mrepetitions\u001b[49m\u001b[43m=\u001b[49m\u001b[43mrepetitions\u001b[49m\u001b[43m,\u001b[49m\n\u001b[32m     20\u001b[39m \u001b[43m    \u001b[49m\u001b[43mlevel\u001b[49m\u001b[43m=\u001b[49m\u001b[32;43m0\u001b[39;49m\u001b[43m,\u001b[49m\n\u001b[32m     21\u001b[39m \u001b[43m    \u001b[49m\u001b[43munit_y\u001b[49m\u001b[43m=\u001b[49m\u001b[32;43m1\u001b[39;49m\u001b[43m \u001b[49m\u001b[43m/\u001b[49m\u001b[43m \u001b[49m\u001b[43mmp\u001b[49m\u001b[43m.\u001b[49m\u001b[43mu\u001b[49m\u001b[43m.\u001b[49m\u001b[43muL\u001b[49m\u001b[43m,\u001b[49m\n\u001b[32m     22\u001b[39m \u001b[43m    \u001b[49m\u001b[43mplot_data\u001b[49m\u001b[43m=\u001b[49m\u001b[38;5;28;43;01mFalse\u001b[39;49;00m\n\u001b[32m     23\u001b[39m \u001b[43m\u001b[49m\u001b[43m)\u001b[49m\n\u001b[32m     25\u001b[39m T = Sim.results[\u001b[33m'\u001b[39m\u001b[33mTime\u001b[39m\u001b[33m'\u001b[39m]\n\u001b[32m     26\u001b[39m A = Sim.results[\u001b[33m'\u001b[39m\u001b[33mA\u001b[39m\u001b[33m'\u001b[39m]\n",
      "\u001b[36mFile \u001b[39m\u001b[32m~/Github/Biodisco/computational_bioengineering/venv/lib/python3.12/site-packages/mobspy/simulation.py:455\u001b[39m, in \u001b[36mSimulation.run\u001b[39m\u001b[34m(self, duration, volume, dimension, repetitions, level, simulation_method, rate_type, plot_type, start_time, r_tol, a_tol, seeds, step_size, jobs, unit_x, unit_y, output_concentration, output_event, output_file, save_data, plot_data)\u001b[39m\n\u001b[32m    453\u001b[39m \u001b[38;5;66;03m# Base case - If there are no events we compile the model here\u001b[39;00m\n\u001b[32m    454\u001b[39m \u001b[38;5;28;01mif\u001b[39;00m \u001b[38;5;28mself\u001b[39m._species_for_sbml \u001b[38;5;129;01mis\u001b[39;00m \u001b[38;5;28;01mNone\u001b[39;00m:\n\u001b[32m--> \u001b[39m\u001b[32m455\u001b[39m     \u001b[38;5;28;43mself\u001b[39;49m\u001b[43m.\u001b[49m\u001b[43mcompile\u001b[49m\u001b[43m(\u001b[49m\u001b[43mverbose\u001b[49m\u001b[43m=\u001b[49m\u001b[38;5;28;43;01mFalse\u001b[39;49;00m\u001b[43m)\u001b[49m\n\u001b[32m    457\u001b[39m \u001b[38;5;28mself\u001b[39m._assemble_multi_simulation_structure()\n\u001b[32m    459\u001b[39m simlog.debug(\u001b[33m\"\u001b[39m\u001b[33mStarting Simulator\u001b[39m\u001b[33m\"\u001b[39m)\n",
      "\u001b[36mFile \u001b[39m\u001b[32m~/Github/Biodisco/computational_bioengineering/venv/lib/python3.12/site-packages/mobspy/simulation.py:318\u001b[39m, in \u001b[36mSimulation.compile\u001b[39m\u001b[34m(self, verbose)\u001b[39m\n\u001b[32m    302\u001b[39m \u001b[38;5;66;03m# Pass end condition to dict parameters - It is stored outside of parameters to the parameters serializable\u001b[39;00m\n\u001b[32m    303\u001b[39m \u001b[38;5;66;03m# However, it is necessary for the compilation so it is passed as a parameter\u001b[39;00m\n\u001b[32m    304\u001b[39m \u001b[38;5;28mself\u001b[39m.parameters[\u001b[33m\"\u001b[39m\u001b[33m_end_condition\u001b[39m\u001b[33m\"\u001b[39m] = \u001b[38;5;28mself\u001b[39m._end_condition\n\u001b[32m    306\u001b[39m (\n\u001b[32m    307\u001b[39m     \u001b[38;5;28mself\u001b[39m._species_for_sbml,\n\u001b[32m    308\u001b[39m     \u001b[38;5;28mself\u001b[39m._reactions_for_sbml,\n\u001b[32m    309\u001b[39m     \u001b[38;5;28mself\u001b[39m._parameters_for_sbml,\n\u001b[32m    310\u001b[39m     \u001b[38;5;28mself\u001b[39m._mappings_for_sbml,\n\u001b[32m    311\u001b[39m     \u001b[38;5;28mself\u001b[39m.model_string,\n\u001b[32m    312\u001b[39m     \u001b[38;5;28mself\u001b[39m._events_for_sbml,\n\u001b[32m    313\u001b[39m     \u001b[38;5;28mself\u001b[39m._assigned_species_list,\n\u001b[32m    314\u001b[39m     \u001b[38;5;28mself\u001b[39m.model_parameters,\n\u001b[32m    315\u001b[39m     \u001b[38;5;28mself\u001b[39m.model_parameter_objects_dict,\n\u001b[32m    316\u001b[39m     \u001b[38;5;28mself\u001b[39m._assignments_for_sbml,\n\u001b[32m    317\u001b[39m     \u001b[38;5;28mself\u001b[39m._has_mole,\n\u001b[32m--> \u001b[39m\u001b[32m318\u001b[39m ) = \u001b[43mCompiler\u001b[49m\u001b[43m.\u001b[49m\u001b[43mcompile\u001b[49m\u001b[43m(\u001b[49m\n\u001b[32m    319\u001b[39m \u001b[43m    \u001b[49m\u001b[38;5;28;43mself\u001b[39;49m\u001b[43m.\u001b[49m\u001b[43mmodel\u001b[49m\u001b[43m,\u001b[49m\n\u001b[32m    320\u001b[39m \u001b[43m    \u001b[49m\u001b[43mreactions_set\u001b[49m\u001b[43m=\u001b[49m\u001b[38;5;28;43mself\u001b[39;49m\u001b[43m.\u001b[49m\u001b[43m_reactions_set\u001b[49m\u001b[43m,\u001b[49m\n\u001b[32m    321\u001b[39m \u001b[43m    \u001b[49m\u001b[43mspecies_counts\u001b[49m\u001b[43m=\u001b[49m\u001b[38;5;28;43mself\u001b[39;49m\u001b[43m.\u001b[49m\u001b[43m_species_counts\u001b[49m\u001b[43m,\u001b[49m\n\u001b[32m    322\u001b[39m \u001b[43m    \u001b[49m\u001b[43morthogonal_vector_structure\u001b[49m\u001b[43m=\u001b[49m\u001b[38;5;28;43mself\u001b[39;49m\u001b[43m.\u001b[49m\u001b[43morthogonal_vector_structure\u001b[49m\u001b[43m,\u001b[49m\n\u001b[32m    323\u001b[39m \u001b[43m    \u001b[49m\u001b[43mvolume\u001b[49m\u001b[43m=\u001b[49m\u001b[38;5;28;43mself\u001b[39;49m\u001b[43m.\u001b[49m\u001b[43mparameters\u001b[49m\u001b[43m[\u001b[49m\u001b[33;43m\"\u001b[39;49m\u001b[33;43mvolume\u001b[39;49m\u001b[33;43m\"\u001b[39;49m\u001b[43m]\u001b[49m\u001b[43m,\u001b[49m\n\u001b[32m    324\u001b[39m \u001b[43m    \u001b[49m\u001b[43mdimension\u001b[49m\u001b[43m=\u001b[49m\u001b[38;5;28;43mself\u001b[39;49m\u001b[43m.\u001b[49m\u001b[43mdimension\u001b[49m\u001b[43m,\u001b[49m\n\u001b[32m    325\u001b[39m \u001b[43m    \u001b[49m\u001b[43mtype_of_model\u001b[49m\u001b[43m=\u001b[49m\u001b[38;5;28;43mself\u001b[39;49m\u001b[43m.\u001b[49m\u001b[43mparameters\u001b[49m\u001b[43m[\u001b[49m\u001b[33;43m\"\u001b[39;49m\u001b[33;43mrate_type\u001b[39;49m\u001b[33;43m\"\u001b[39;49m\u001b[43m]\u001b[49m\u001b[43m,\u001b[49m\n\u001b[32m    326\u001b[39m \u001b[43m    \u001b[49m\u001b[43mverbose\u001b[49m\u001b[43m=\u001b[49m\u001b[43mverbose\u001b[49m\u001b[43m,\u001b[49m\n\u001b[32m    327\u001b[39m \u001b[43m    \u001b[49m\u001b[43mevent_dictionary\u001b[49m\u001b[43m=\u001b[49m\u001b[38;5;28;43mself\u001b[39;49m\u001b[43m.\u001b[49m\u001b[43mtotal_packed_events\u001b[49m\u001b[43m,\u001b[49m\n\u001b[32m    328\u001b[39m \u001b[43m    \u001b[49m\u001b[43mcontinuous_sim\u001b[49m\u001b[43m=\u001b[49m\u001b[38;5;28;43mself\u001b[39;49m\u001b[43m.\u001b[49m\u001b[43mparameters\u001b[49m\u001b[43m[\u001b[49m\u001b[33;43m\"\u001b[39;49m\u001b[33;43m_continuous_simulation\u001b[39;49m\u001b[33;43m\"\u001b[39;49m\u001b[43m]\u001b[49m\u001b[43m,\u001b[49m\n\u001b[32m    329\u001b[39m \u001b[43m    \u001b[49m\u001b[43mending_condition\u001b[49m\u001b[43m=\u001b[49m\u001b[38;5;28;43mself\u001b[39;49m\u001b[43m.\u001b[49m\u001b[43mparameters\u001b[49m\u001b[43m[\u001b[49m\u001b[33;43m\"\u001b[39;49m\u001b[33;43m_end_condition\u001b[39;49m\u001b[33;43m\"\u001b[39;49m\u001b[43m]\u001b[49m\u001b[43m,\u001b[49m\n\u001b[32m    330\u001b[39m \u001b[43m    \u001b[49m\u001b[43mskip_expression_check\u001b[49m\u001b[43m=\u001b[49m\u001b[38;5;28;43mself\u001b[39;49m\u001b[43m.\u001b[49m\u001b[43mparameters\u001b[49m\u001b[43m[\u001b[49m\u001b[33;43m\"\u001b[39;49m\u001b[33;43mskip_expression_check\u001b[39;49m\u001b[33;43m\"\u001b[39;49m\u001b[43m]\u001b[49m\u001b[43m,\u001b[49m\n\u001b[32m    331\u001b[39m \u001b[43m\u001b[49m\u001b[43m)\u001b[49m\n\u001b[32m    333\u001b[39m \u001b[38;5;66;03m# The volume is converted to the proper unit at the compiler level\u001b[39;00m\n\u001b[32m    334\u001b[39m \u001b[38;5;28mself\u001b[39m.parameters[\u001b[33m\"\u001b[39m\u001b[33mvolume\u001b[39m\u001b[33m\"\u001b[39m] = \u001b[38;5;28mself\u001b[39m._parameters_for_sbml[\u001b[33m\"\u001b[39m\u001b[33mvolume\u001b[39m\u001b[33m\"\u001b[39m][\u001b[32m0\u001b[39m]\n",
      "\u001b[36mFile \u001b[39m\u001b[32m~/Github/Biodisco/computational_bioengineering/venv/lib/python3.12/site-packages/mobspy/modules/compiler.py:334\u001b[39m, in \u001b[36mCompiler.compile\u001b[39m\u001b[34m(cls, meta_species_to_simulate, reactions_set, species_counts, orthogonal_vector_structure, volume, dimension, type_of_model, verbose, event_dictionary, continuous_sim, ending_condition, skip_expression_check)\u001b[39m\n\u001b[32m    330\u001b[39m \u001b[38;5;66;03m# BaseSpecies reactions for SBML with theirs respective parameters and rates\u001b[39;00m\n\u001b[32m    331\u001b[39m \u001b[38;5;66;03m# What do I have so far\u001b[39;00m\n\u001b[32m    332\u001b[39m \u001b[38;5;66;03m# Species_String_Dict and a set of reaction objects in Reactions_Set\u001b[39;00m\n\u001b[32m    333\u001b[39m parameters_in_reaction = \u001b[38;5;28mset\u001b[39m()\n\u001b[32m--> \u001b[39m\u001b[32m334\u001b[39m reactions_for_sbml, parameters_in_reaction = \u001b[43mrc_create_all_reactions\u001b[49m\u001b[43m(\u001b[49m\n\u001b[32m    335\u001b[39m \u001b[43m    \u001b[49m\u001b[43mreactions_set\u001b[49m\u001b[43m,\u001b[49m\n\u001b[32m    336\u001b[39m \u001b[43m    \u001b[49m\u001b[43mmeta_species_to_simulate\u001b[49m\u001b[43m,\u001b[49m\n\u001b[32m    337\u001b[39m \u001b[43m    \u001b[49m\u001b[43morthogonal_vector_structure\u001b[49m\u001b[43m,\u001b[49m\n\u001b[32m    338\u001b[39m \u001b[43m    \u001b[49m\u001b[43mtype_of_model\u001b[49m\u001b[43m,\u001b[49m\n\u001b[32m    339\u001b[39m \u001b[43m    \u001b[49m\u001b[43mdimension\u001b[49m\u001b[43m,\u001b[49m\n\u001b[32m    340\u001b[39m \u001b[43m    \u001b[49m\u001b[43mparameter_exist\u001b[49m\u001b[43m,\u001b[49m\n\u001b[32m    341\u001b[39m \u001b[43m    \u001b[49m\u001b[43mparameters_in_reaction\u001b[49m\u001b[43m,\u001b[49m\n\u001b[32m    342\u001b[39m \u001b[43m    \u001b[49m\u001b[43mskip_expression_check\u001b[49m\u001b[43m,\u001b[49m\n\u001b[32m    343\u001b[39m \u001b[43m\u001b[49m\u001b[43m)\u001b[49m\n\u001b[32m    345\u001b[39m \u001b[38;5;28mcls\u001b[39m.add_to_parameters_to_sbml(\n\u001b[32m    346\u001b[39m     parameters_used, parameters_for_sbml, parameters_in_reaction\n\u001b[32m    347\u001b[39m )\n\u001b[32m    349\u001b[39m \u001b[38;5;66;03m# O(n^2) reaction check for doubles\u001b[39;00m\n",
      "\u001b[36mFile \u001b[39m\u001b[32m~/Github/Biodisco/computational_bioengineering/venv/lib/python3.12/site-packages/mobspy/modules/reaction_construction_nb.py:335\u001b[39m, in \u001b[36mcreate_all_reactions\u001b[39m\u001b[34m(reactions, meta_species_in_model, ref_characteristics_to_object, type_of_model, dimension, parameter_exist, parameters_in_reaction, skip_check)\u001b[39m\n\u001b[32m    332\u001b[39m check_for_invalid_reactions(reactions, ref_characteristics_to_object)\n\u001b[32m    334\u001b[39m \u001b[38;5;66;03m# Initiate expressions\u001b[39;00m\n\u001b[32m--> \u001b[39m\u001b[32m335\u001b[39m \u001b[43m\u001b[49m\u001b[38;5;28;43;01mwith\u001b[39;49;00m\u001b[43m \u001b[49m\u001b[43mcrs_Unit_Context_Setter\u001b[49m\u001b[43m(\u001b[49m\u001b[43m)\u001b[49m\u001b[43m:\u001b[49m\n\u001b[32m    336\u001b[39m \u001b[43m    \u001b[49m\u001b[38;5;28;43;01mfor\u001b[39;49;00m\u001b[43m \u001b[49m\u001b[43mreaction\u001b[49m\u001b[43m \u001b[49m\u001b[38;5;129;43;01min\u001b[39;49;00m\u001b[43m \u001b[49m\u001b[43mreactions\u001b[49m\u001b[43m:\u001b[49m\n\u001b[32m    337\u001b[39m \u001b[43m        \u001b[49m\u001b[43mbase_species_order\u001b[49m\u001b[43m,\u001b[49m\u001b[43m \u001b[49m\u001b[43mreactant_species_combination_list\u001b[49m\u001b[43m \u001b[49m\u001b[43m=\u001b[49m\u001b[43m \u001b[49m\u001b[43m(\u001b[49m\n\u001b[32m    338\u001b[39m \u001b[43m            \u001b[49m\u001b[43mget_involved_species\u001b[49m\u001b[43m(\u001b[49m\u001b[43mreaction\u001b[49m\u001b[43m,\u001b[49m\u001b[43m \u001b[49m\u001b[43mmeta_species_in_model\u001b[49m\u001b[43m)\u001b[49m\n\u001b[32m    339\u001b[39m \u001b[43m        \u001b[49m\u001b[43m)\u001b[49m\n",
      "\u001b[36mFile \u001b[39m\u001b[32m~/Github/Biodisco/computational_bioengineering/venv/lib/python3.12/site-packages/mobspy/modules/context_related_scripts.py:47\u001b[39m, in \u001b[36mUnit_Context_Setter.__enter__\u001b[39m\u001b[34m(self)\u001b[39m\n\u001b[32m     46\u001b[39m \u001b[38;5;28;01mdef\u001b[39;00m\u001b[38;5;250m \u001b[39m\u001b[34m__enter__\u001b[39m(\u001b[38;5;28mself\u001b[39m):\n\u001b[32m---> \u001b[39m\u001b[32m47\u001b[39m     \u001b[38;5;28mself\u001b[39m.expressions_in_stack = \u001b[43mexpression_compilation_initiation\u001b[49m\u001b[43m(\u001b[49m\u001b[43m)\u001b[49m\n",
      "\u001b[36mFile \u001b[39m\u001b[32m~/Github/Biodisco/computational_bioengineering/venv/lib/python3.12/site-packages/mobspy/modules/context_related_scripts.py:18\u001b[39m, in \u001b[36mexpression_compilation_initiation\u001b[39m\u001b[34m()\u001b[39m\n\u001b[32m     15\u001b[39m expressions_in_stack = []\n\u001b[32m     17\u001b[39m \u001b[38;5;28;01mfor\u001b[39;00m i \u001b[38;5;129;01min\u001b[39;00m \u001b[38;5;28mrange\u001b[39m(\u001b[38;5;28mlen\u001b[39m(inspect.stack())):\n\u001b[32m---> \u001b[39m\u001b[32m18\u001b[39m     local_names = \u001b[43minspect\u001b[49m\u001b[43m.\u001b[49m\u001b[43mstack\u001b[49m\u001b[43m(\u001b[49m\u001b[43m)\u001b[49m[i][\u001b[32m0\u001b[39m].f_locals\n\u001b[32m     19\u001b[39m     global_names = inspect.stack()[i][\u001b[32m0\u001b[39m].f_globals\n\u001b[32m     20\u001b[39m     \u001b[38;5;28;01mfor\u001b[39;00m key, item \u001b[38;5;129;01min\u001b[39;00m global_names.items():\n",
      "\u001b[36mFile \u001b[39m\u001b[32m~/.pyenv/versions/3.12.7/lib/python3.12/inspect.py:1777\u001b[39m, in \u001b[36mstack\u001b[39m\u001b[34m(context)\u001b[39m\n\u001b[32m   1775\u001b[39m \u001b[38;5;28;01mdef\u001b[39;00m\u001b[38;5;250m \u001b[39m\u001b[34mstack\u001b[39m(context=\u001b[32m1\u001b[39m):\n\u001b[32m   1776\u001b[39m \u001b[38;5;250m    \u001b[39m\u001b[33;03m\"\"\"Return a list of records for the stack above the caller's frame.\"\"\"\u001b[39;00m\n\u001b[32m-> \u001b[39m\u001b[32m1777\u001b[39m     \u001b[38;5;28;01mreturn\u001b[39;00m \u001b[43mgetouterframes\u001b[49m\u001b[43m(\u001b[49m\u001b[43msys\u001b[49m\u001b[43m.\u001b[49m\u001b[43m_getframe\u001b[49m\u001b[43m(\u001b[49m\u001b[32;43m1\u001b[39;49m\u001b[43m)\u001b[49m\u001b[43m,\u001b[49m\u001b[43m \u001b[49m\u001b[43mcontext\u001b[49m\u001b[43m)\u001b[49m\n",
      "\u001b[36mFile \u001b[39m\u001b[32m~/.pyenv/versions/3.12.7/lib/python3.12/inspect.py:1752\u001b[39m, in \u001b[36mgetouterframes\u001b[39m\u001b[34m(frame, context)\u001b[39m\n\u001b[32m   1750\u001b[39m framelist = []\n\u001b[32m   1751\u001b[39m \u001b[38;5;28;01mwhile\u001b[39;00m frame:\n\u001b[32m-> \u001b[39m\u001b[32m1752\u001b[39m     traceback_info = \u001b[43mgetframeinfo\u001b[49m\u001b[43m(\u001b[49m\u001b[43mframe\u001b[49m\u001b[43m,\u001b[49m\u001b[43m \u001b[49m\u001b[43mcontext\u001b[49m\u001b[43m)\u001b[49m\n\u001b[32m   1753\u001b[39m     frameinfo = (frame,) + traceback_info\n\u001b[32m   1754\u001b[39m     framelist.append(FrameInfo(*frameinfo, positions=traceback_info.positions))\n",
      "\u001b[36mFile \u001b[39m\u001b[32m~/.pyenv/versions/3.12.7/lib/python3.12/inspect.py:1714\u001b[39m, in \u001b[36mgetframeinfo\u001b[39m\u001b[34m(frame, context)\u001b[39m\n\u001b[32m   1712\u001b[39m start = lineno - \u001b[32m1\u001b[39m - context//\u001b[32m2\u001b[39m\n\u001b[32m   1713\u001b[39m \u001b[38;5;28;01mtry\u001b[39;00m:\n\u001b[32m-> \u001b[39m\u001b[32m1714\u001b[39m     lines, lnum = \u001b[43mfindsource\u001b[49m\u001b[43m(\u001b[49m\u001b[43mframe\u001b[49m\u001b[43m)\u001b[49m\n\u001b[32m   1715\u001b[39m \u001b[38;5;28;01mexcept\u001b[39;00m \u001b[38;5;167;01mOSError\u001b[39;00m:\n\u001b[32m   1716\u001b[39m     lines = index = \u001b[38;5;28;01mNone\u001b[39;00m\n",
      "\u001b[36mFile \u001b[39m\u001b[32m~/.pyenv/versions/3.12.7/lib/python3.12/inspect.py:1090\u001b[39m, in \u001b[36mfindsource\u001b[39m\u001b[34m(object)\u001b[39m\n\u001b[32m   1087\u001b[39m     \u001b[38;5;28;01mif\u001b[39;00m \u001b[38;5;129;01mnot\u001b[39;00m (file.startswith(\u001b[33m'\u001b[39m\u001b[33m<\u001b[39m\u001b[33m'\u001b[39m) \u001b[38;5;129;01mand\u001b[39;00m file.endswith(\u001b[33m'\u001b[39m\u001b[33m>\u001b[39m\u001b[33m'\u001b[39m)):\n\u001b[32m   1088\u001b[39m         \u001b[38;5;28;01mraise\u001b[39;00m \u001b[38;5;167;01mOSError\u001b[39;00m(\u001b[33m'\u001b[39m\u001b[33msource code not available\u001b[39m\u001b[33m'\u001b[39m)\n\u001b[32m-> \u001b[39m\u001b[32m1090\u001b[39m module = \u001b[43mgetmodule\u001b[49m\u001b[43m(\u001b[49m\u001b[38;5;28;43mobject\u001b[39;49m\u001b[43m,\u001b[49m\u001b[43m \u001b[49m\u001b[43mfile\u001b[49m\u001b[43m)\u001b[49m\n\u001b[32m   1091\u001b[39m \u001b[38;5;28;01mif\u001b[39;00m module:\n\u001b[32m   1092\u001b[39m     lines = linecache.getlines(file, module.\u001b[34m__dict__\u001b[39m)\n",
      "\u001b[36mFile \u001b[39m\u001b[32m~/.pyenv/versions/3.12.7/lib/python3.12/inspect.py:1007\u001b[39m, in \u001b[36mgetmodule\u001b[39m\u001b[34m(object, _filename)\u001b[39m\n\u001b[32m   1004\u001b[39m \u001b[38;5;66;03m# Update the filename to module name cache and check yet again\u001b[39;00m\n\u001b[32m   1005\u001b[39m \u001b[38;5;66;03m# Copy sys.modules in order to cope with changes while iterating\u001b[39;00m\n\u001b[32m   1006\u001b[39m \u001b[38;5;28;01mfor\u001b[39;00m modname, module \u001b[38;5;129;01min\u001b[39;00m sys.modules.copy().items():\n\u001b[32m-> \u001b[39m\u001b[32m1007\u001b[39m     \u001b[38;5;28;01mif\u001b[39;00m \u001b[43mismodule\u001b[49m\u001b[43m(\u001b[49m\u001b[43mmodule\u001b[49m\u001b[43m)\u001b[49m \u001b[38;5;129;01mand\u001b[39;00m \u001b[38;5;28mhasattr\u001b[39m(module, \u001b[33m'\u001b[39m\u001b[33m__file__\u001b[39m\u001b[33m'\u001b[39m):\n\u001b[32m   1008\u001b[39m         f = module.\u001b[34m__file__\u001b[39m\n\u001b[32m   1009\u001b[39m         \u001b[38;5;28;01mif\u001b[39;00m f == _filesbymodname.get(modname, \u001b[38;5;28;01mNone\u001b[39;00m):\n\u001b[32m   1010\u001b[39m             \u001b[38;5;66;03m# Have already mapped this module, so skip it\u001b[39;00m\n",
      "\u001b[36mFile \u001b[39m\u001b[32m~/.pyenv/versions/3.12.7/lib/python3.12/inspect.py:298\u001b[39m, in \u001b[36mismodule\u001b[39m\u001b[34m(object)\u001b[39m\n\u001b[32m    294\u001b[39m     \u001b[38;5;28;01mreturn\u001b[39;00m return_value\n\u001b[32m    297\u001b[39m \u001b[38;5;66;03m# ----------------------------------------------------------- type-checking\u001b[39;00m\n\u001b[32m--> \u001b[39m\u001b[32m298\u001b[39m \u001b[38;5;28;01mdef\u001b[39;00m\u001b[38;5;250m \u001b[39m\u001b[34mismodule\u001b[39m(\u001b[38;5;28mobject\u001b[39m):\n\u001b[32m    299\u001b[39m \u001b[38;5;250m    \u001b[39m\u001b[33;03m\"\"\"Return true if the object is a module.\"\"\"\u001b[39;00m\n\u001b[32m    300\u001b[39m     \u001b[38;5;28;01mreturn\u001b[39;00m \u001b[38;5;28misinstance\u001b[39m(\u001b[38;5;28mobject\u001b[39m, types.ModuleType)\n",
      "\u001b[31mKeyboardInterrupt\u001b[39m: "
     ]
    }
   ],
   "source": [
    "def fraction_A_won_ratio_sweep(total_pop, **kwargs):\n",
    "    fractions = {}\n",
    "    for A0 in tqdm.tqdm(range(total_pop+1)):\n",
    "        B0 = total_pop - A0\n",
    "                \n",
    "        fractions[A0/total_pop] = fraction_won(A0, B0, **kwargs)['A']\n",
    "\n",
    "    return fractions\n",
    "\n",
    "ratio_sweep = fraction_A_won_ratio_sweep(100, reps=100, mu=1.0, delta=1.0, duration=3)"
   ]
  },
  {
   "cell_type": "code",
   "execution_count": null,
   "metadata": {},
   "outputs": [
    {
     "data": {
      "image/png": "[encoded data removed]",
      "text/plain": [
       "<Figure size 500x400 with 1 Axes>"
      ]
     },
     "metadata": {},
     "output_type": "display_data"
    }
   ],
   "source": [
    "plt.figure(figsize=figsize)\n",
    "plt.xlabel('$A(0)/(A(0)+B(0))$')\n",
    "plt.ylabel('fraction of $A$ wins')\n",
    "plt.plot(ratio_sweep.keys(), ratio_sweep.values())\n",
    "plt.show()"
   ]
  },
  {
   "cell_type": "markdown",
   "metadata": {},
   "source": [
    "That's a very steep amplification! Let's zoom in:"
   ]
  },
  {
   "cell_type": "code",
   "execution_count": null,
   "metadata": {},
   "outputs": [
    {
     "name": "stderr",
     "output_type": "stream",
     "text": [
      "100%|██████████| 21/21 [00:23<00:00,  1.10s/it]\n"
     ]
    }
   ],
   "source": [
    "def fraction_A_won_diff_sweep(total_pop, max_diff, **kwargs):\n",
    "    fractions = {}\n",
    "    for A0 in tqdm.tqdm(range(total_pop//2-max_diff, total_pop//2+max_diff+1)):\n",
    "        B0 = total_pop - A0\n",
    "                \n",
    "        fractions[A0-B0] = fraction_won(A0, B0, **kwargs)['A']\n",
    "\n",
    "    return fractions\n",
    "\n",
    "diff_sweep = fraction_A_won_diff_sweep(1000, 10, reps=100, mu=1.0, delta=1.0, duration=3)"
   ]
  },
  {
   "cell_type": "code",
   "execution_count": null,
   "metadata": {},
   "outputs": [
    {
     "data": {
      "image/png": "[encoded data removed]",
      "text/plain": [
       "<Figure size 500x400 with 1 Axes>"
      ]
     },
     "metadata": {},
     "output_type": "display_data"
    }
   ],
   "source": [
    "plt.figure(figsize=figsize)\n",
    "plt.xlabel('$A(0) - B(0)$  [$n=1000$]')\n",
    "plt.ylabel('fraction of $A$ wins')\n",
    "plt.plot(diff_sweep.keys(), diff_sweep.values())\n",
    "plt.show()"
   ]
  },
  {
   "cell_type": "markdown",
   "metadata": {},
   "source": [
    "## Theoretical Analysis\n",
    "\n",
    "**Theorem.**\n",
    "For initial population $n = A(0) + B(0)$ and initial gap $\\Delta = \\lvert A(0)-B(0)\\rvert$,\n",
    "the Pairwise Annihilation protocol reaches consensus in expected time  $O(1)$ and in time  $O(\\log n)$ with high probability.\n",
    "It reaches majority consensus with probability\n",
    "$1 - e^{-\\Omega(\\Delta^2/n)}$.\n",
    "\n",
    "If $\\Delta = \\Omega\\left(\\sqrt{n \\log n}\\right)$, then the  Pairwise Annihilation protocol reaches majority consensus with high probability.\n",
    "\n",
    "### Birth Protocols\n",
    "\n",
    "A *protocol for a birth system*, or protocol, with input species $\\mathcal{I}$ and\n",
    "  output species $\\mathcal{O}$, for finite, not necessarily disjoint, sets $\\mathcal{I}$ and $\\mathcal{O}$\n",
    "  is a CRN specified as follows.\n",
    "Its set of species $\\mathcal{S}$ comprises input/output\n",
    "  species $\\mathcal{I} \\cup \\mathcal{O}$ and a finite set of internal species $\\mathcal{L}$.\n",
    "Further, the protocol defines the initial\n",
    "  species counts $X_0$ for internal and output species $X \\in \\mathcal{L} \\cup \\mathcal{O}$ and a\n",
    "  finite set of reactions $\\mathcal{R}$ on the species in $\\mathcal{S}$.\n",
    "For each species $X \\in \\mathcal{S}$, there is a duplication reaction of the form\n",
    "  $X \\xrightarrow{\\mu} 2X$.\n",
    "All duplication reactions have the same rate constant $\\mu>0$.\n",
    "\n",
    "Given a protocol and an initial species count for its inputs,\n",
    "an execution of the protocol is given by the stochastic process of the CRN with species $\\mathcal{S}$,\n",
    "reactions $\\mathcal{R}$, and respective initial species counts."
   ]
  },
  {
   "cell_type": "markdown",
   "metadata": {},
   "source": [
    "### Markov-Chain Model\n",
    "\n",
    "The evolution of the Pairwise Annihilation protocol is described by a continuous-time Markov chain with state space $S = \\mathbb{N}^2$.\n",
    "Its state-transition rates are:\n",
    "\\begin{equation}\n",
    "\\begin{split}\n",
    "\\qquad \\qquad \\qquad Q\\big( (A,B) \\,,\\, (A+1,B) \\big) & = \\mu A\\\\\n",
    "Q\\big( (A,B) \\,,\\, (A,B+1) \\big) & = \\mu B\\\\\n",
    "Q\\big( (A,B) \\,,\\, (A-1,B-1) \\big) & = \\delta A B\n",
    "\\end{split}\n",
    "\\end{equation}\n",
    "Note that the death transition $(A,B) \\to (A-1,B-1)$ has rate zero if $A=0$ or $B=0$.\n",
    "Both axes $\\{0\\}\\times\\mathbb{N}$ and $\\mathbb{N}\\times\\{0\\}$ are absorbing, and so is the state  $(A,B)=(0,0)$.\n",
    "This chain is regular, i.e., its sequence of transition times is unbounded with probability $1$.\n",
    "Indeed, as we will show,  the discrete-time chain reaches consensus with probability $1$, from which time on the chain is equal to a linear pure-birth process, which is regular.\n",
    "\n",
    "The corresponding discrete-time jump chain has the same state space $S=\\mathbb{N}^2$ and the state-transition probabilities\n",
    "\\begin{equation}\n",
    "\\begin{split}\n",
    "P\\big( (A,B) \\,,\\, (A+1,B) \\big) & = \\frac{\\mu A}{\\mu(A+B) + \\delta AB}\\\\\n",
    "P\\big( (A,B) \\,,\\, (A,B+1) \\big) & = \\frac{\\mu B}{\\mu(A+B) + \\delta AB}\\\\\n",
    "P\\big( (A,B) \\,,\\, (A-1,B-1) \\big) & = \\frac{\\delta AB}{\\mu(A+B) + \\delta AB}\n",
    "\\end{split}\n",
    "\\end{equation}\n",
    "if $A>0$ or $B>0$.\n",
    "The axes as well as state $(A,B)=(0,0)$ is absorbing, as in the continuous-time chain.\n",
    "\n",
    "As a convention, we will write $X(t)$ for the state of the continuous-time process $X$ at time $t$, and $X_k$ for the state of the discrete-time jump process after $k$ state transitions.\n",
    "The time to reach consensus is the earliest time $T$ such that $A(T)=0$ or $B(T)=0$.\n",
    "\n",
    "\n",
    "\n",
    "\n"
   ]
  },
  {
   "cell_type": "markdown",
   "metadata": {},
   "source": [
    "\n",
    "### Probability of Reaching Majority Consensus\n",
    "\n",
    "We now turn to the proof of the bound on the probability to achieve majority consensus.\n",
    "We use a coupling of the Pairwise Annihilation protocol chain with a different process than for the time bound.\n",
    "Namely we couple it with two parallel independent Yule processes.\n",
    "A Yule process, also known as a pure birth process, has this single state-transition rule $X\\to X+1$ with linear transition rate $\\mu X$.\n",
    "Since we already showed the upper bound on the time until consensus, it suffices to look at the discrete-time jump process.\n",
    "In particular, the coupling we define is discrete-time.\n",
    "\n",
    "#### Discrete-time coupling.\n",
    "\n",
    "For an i.i.d. sequence $(\\xi_k)_{k\\geq 1}$ of uniformly distributed random variables in the unit interval $[0,1)$, we\n",
    "define the coupling as the process $(A_k,B_k,X_k,Y_k)$ with\n",
    "$A_0=X_0$, $B_0=Y_0$\n",
    "such that $(A_{k+1},B_{k+1})$ is equal to\n",
    "\n",
    "- $(A_k-1,B_k-1)$ if $\\xi_{k+1} < \\frac{\\delta A_k B_k}{\\mu(A_k+B_k)+\\delta A_k B_k}$\n",
    "- $(A_k+1,B_k)$ if $\\xi_{k+1} \\geq \\frac{\\delta A_k B_k}{\\mu(A_k+B_k)+\\delta A_k B_k}$ and $\\xi_{k+1} < 1 -  \\frac{\\mu B_k}{\\mu(A_k+B_k)+\\delta A_k B_k}$\n",
    "- $(A_k,B_k+1)$ if $\\xi_{k+1} \\geq 1 - \\frac{\\mu B_k}{\\mu(A_k+B_k)+\\delta A_k B_k}$\n",
    "\n",
    "and $(X_{k+1},Y_{k+1})$ is equal to\n",
    "\n",
    "- $(X_k,Y_k)$ if $\\xi_{k+1} < \\frac{\\delta A_k B_k}{\\mu(A_k+B_k)+\\delta A_k B_k}$\n",
    "- $(X_k+1,Y_k)$ if $\\xi_{k+1} \\geq \\frac{\\delta A_k B_k}{\\mu(A_k+B_k)+\\delta A_k B_k}$ and $\\xi_{k+1} < 1 - \\frac{\\mu (A_k+B_k)}{\\mu(A_k+B_k)+\\delta A_k B_k} \\cdot \\frac{Y_k}{X_k+Y_k}$\n",
    "- $(X_k,Y_k+1)$ if $\\xi_{k+1} \\geq 1 - \\frac{\\mu (A_k+B_k)}{\\mu(A_k+B_k)+\\delta A_k B_k} \\cdot \\frac{Y_k}{X_k+Y_k}$\n",
    "\n",
    "if $\\max\\{A_k,B_k\\}>0$ and $\\max\\{X_k,Y_k\\}>0$.\n",
    "Otherwise the process remains constant.\n",
    "\n",
    "\n",
    "<div style=\"width: 800px; margin: auto;\">\n",
    "    \n",
    "<figure style=\"width: 100%; margin: auto; padding: 20px;\">\n",
    "  <img src=\"figs/DiscCoupling.png\" alt=\"Discrete-time coupling\">\n",
    "</figure>\n",
    "\n",
    "</div>\n",
    "\n",
    "*Discrete-time coupling of the Pairwise Annihilation (PA) chain and two Yule processes X and Y with $\\lambda(A_k,B_k) = \\gamma(A_k + B_k) + \\delta A_k B_k$. Cases for $\\xi_{k+1}$ that lead to stuttering steps are shown in blue. The interval relations indicated by the dotted lines are proven by induction.*\n",
    "\n",
    "\n",
    "#### Analysis of probability of reaching majority consensus\n",
    "\n",
    "\n",
    "The crucial property of this coupling is that the initial minority in the Pairwise Annihilation process cannot overtake the initial majority before the initial minority overtakes the initial majority in the parallel Yule processes.\n",
    "We now prove that our construction indeed has this property.\n",
    "\n",
    "**Lemma.** If $X_0 = A_0 \\geq B_0 = Y_0$ and $X_k \\geq Y_k$ for all $0\\leq k\\leq K$, then\n",
    "$X_k - Y_k \\leq A_k - B_k$ for all $0\\leq k\\leq K$.\n",
    "\n",
    "\n",
    "**Corollary.**\n",
    "If $A_0=X_0$ and $B_0=Y_0$, then\n",
    "\\begin{align*}\n",
    "\\mathbb{P}(\\exists k\\colon A_k = B_k) \\leq \\mathbb{P}(\\exists k\\colon X_k = Y_k).\n",
    "\\end{align*}\n",
    "\n",
    "\n",
    "As defined in the coupling the parallel Yule processes $(X_k,Y_k)$ can have stuttering steps where \n",
    "\\begin{align*}\\qquad \\qquad \\qquad  (X_{k+1},Y_{k+1})=(X_k,Y_k).\n",
    "\\end{align*}\n",
    "However, this happens only finitely often almost surely.\n",
    "This allows us to analyze a version of  the process $(X_k,Y_k)$ without stuttering steps in the rest of the proof.\n",
    "\n",
    "**Lemma.**\n",
    "If $(\\tilde{X}_k, \\tilde{Y}_k)$ is the product of two independent pure-birth processes with $\\tilde{X}_0 = X_0$ and $\\tilde{Y}_0 = Y_0$, then $\\mathbb{P}(\\exists k\\colon \\tilde{X}_k = \\tilde{Y}_k) = \\mathbb{P}(\\exists k \\colon X_k = Y_k)$.\n",
    "\n",
    "*Proof.*\n",
    "There are only finitely many deaths in the coupled chain almost surely.\n",
    "There are hence only finitely many stuttering steps in $(X_k,Y_k)$ almost surely.\n",
    "\n",
    "\n",
    "\n",
    "By slight abuse of notation, we will use $(X_k,Y_k)$ to refer to the parallel Yule processes without any stuttering steps.\n",
    "\n",
    "Two parallel independent Yule processes are known to be related to a beta distribution, which we will use below.\n",
    "The regularized incomplete beta function $I_z(\\alpha,\\beta)$ is defined as\n",
    "\n",
    "\\begin{equation}\n",
    "I_z(\\alpha,\\beta)\n",
    "=\n",
    "\\int_0^z t^{\\alpha-1} (1-t)^{\\beta-1}\\,dt\n",
    "\\ \\Big/\n",
    "\\int_0^1 t^{\\alpha-1} (1-t)^{\\beta-1}\\,dt\n",
    "\\enspace.\n",
    "\\end{equation}\n",
    "\n",
    "**Lemma.**\n",
    "If $X_0 > Y_0$,\n",
    "then\n",
    "$\\mathbb{P}\\left(\\exists k\\colon X_k = Y_k\\right) = 2\\cdot I_{1/2}(X_0,Y_0)$.\n",
    "\n",
    "*Proof.*\n",
    "The sequence of ratios $\\frac{X_k}{X_k+Y_k}$ converges with probability $1$ and the limit is distributed according to a beta distribution with parameters $\\alpha = X_0$ and $\\beta = Y_0$.\n",
    "In particular, the probability that the limit is less than $1/2$ is equal to the beta distribution's cumulative distribution function evaluated at $1/2$, i.e., equal to $I_{1/2}(X_0,Y_0)$.\n",
    "Because initially we have $X_0>Y_0$, the law of total probability gives:\n",
    "\\begin{equation}\n",
    "\\begin{aligned}\n",
    "I_{1/2}(X_0,Y_0)\n",
    "&=\n",
    "\\mathbb{P}\\left( \\lim_{k\\to\\infty} \\frac{X_k}{X_k+Y_k} < \\frac{1}{2} \\right)\n",
    "\\\\ & =\n",
    "\\mathbb{P}\\left( \\lim_{k\\to\\infty} \\frac{X_k}{X_k+Y_k} < \\frac{1}{2}  \\Big| \\exists k\\colon X_k=Y_k \\right) \\cdot \\mathbb{P}\\left( \\exists k\\colon X_k=Y_k \\right) +\n",
    "\\mathbb{P}\\left( \\lim_{k\\to\\infty} \\frac{X_k}{X_k+Y_k} < \\frac{1}{2}  \\wedge  \\forall k\\colon X_k > Y_k \\right)\n",
    "\\end{aligned}\n",
    "\\end{equation}\n",
    "Now, if $\\forall k\\colon X_k > Y_k$, then $\\lim_k \\frac{X_k}{X_k+Y_k} \\geq {1}/{2}$, which shows that the second term in the sum is zero.\n",
    "Further, under the condition $\\exists k\\colon X_k=Y_k$, it is equiprobable for the limit of $\\frac{X_k}{X_k+Y_k}$ to be larger or smaller than $1/2$ by symmetry and the strong Markov property.\n",
    "This shows that the right-hand side is equal to $\\frac{1}{2}\\cdot\\mathbb{P}\\left(\\exists k\\colon X_k = Y_k\\right)$, which concludes the proof.\n",
    "\n",
    "\n",
    "We define the event \"$B$ wins\" as $A$ eventually becoming extinct.\n",
    "Then, we have:\n",
    "\n",
    "**Lemma.** If $A_0 > B_0$, then $\\mathbb{P}\\left(\\exists k\\colon A_k = B_k\\right) = 2\\cdot \\mathbb{P}(\\text{$B$ wins})$.\n",
    "\n",
    "*Proof.* By the law of total probability, we have:\n",
    "\\begin{equation}\n",
    "\\mathbb{P}\\left( \\text{$B$ wins} \\right) = \\mathbb{P}\\left( \\text{$B$ wins} \\mid \\exists k\\colon A_k=B_k \\right) \\cdot \\mathbb{P}\\left( \\exists k\\colon A_k=B_k \\right) + \\mathbb{P}\\left( \\text{$B$ wins} \\wedge \\forall k\\colon A_k > B_k \\right)\n",
    "\\end{equation}\n",
    "If $\\forall k\\colon A_k > B_k$, then $B$ cannot win, i.e., the second term in the right-hand side of the equation is zero.\n",
    "Also, by symmetry and the strong Markov property, it is\n",
    "\\begin{align*}\n",
    "\\mathbb{P}\\left( \\text{$B$ wins} \\mid \\exists k\\colon A_k=B_k \\right)=1/2 \\enspace.\n",
    "\\end{align*}\n",
    "A simple algebraic manipulation now concludes the proof.\n",
    "\n",
    "\n",
    "Combining the previous two lemmas with the coupling, we get an upper bound on the probability that the Pairwise Annihilation protocol fails to reach majority consensus.\n",
    "This upper bound is in terms of the regularized incomplete beta function.\n",
    "\n",
    "\n",
    "**Lemma.** If $A_0 \\geq B_0$, then\n",
    "the Pairwise Annihilation protocol fails to reach majority consensus with probability at most $I_{1/2}(A_0,B_0)$.\n",
    "\n",
    "*Proof.* Setting $X_0=A_0$ and $Y_0=B_0$, we get\n",
    "$\\mathbb{P}(\\text{$B$ wins}) = \\frac{1}{2}\\cdot \\mathbb{P}(\\exists k\\colon A_k = B_k) \\leq \\frac{1}{2}\\cdot \\mathbb{P}(\\exists k\\colon  X_k = Y_k) = I_{1/2}(A_0,B_0)$.\n",
    "\n",
    "\n",
    "It only remains to upper-bound the term $I_{1/2}(\\alpha,\\beta)$:\n",
    "\n",
    "**Lemma.** For $m,\\Delta \\in \\mathbb{N}$, it holds that\n",
    "\\begin{align*}\n",
    "\\displaystyle I_{1/2}(m+\\Delta,m) = \\exp\\left(-\\Omega\\left (\\frac{\\Delta^2}{m} \\right) \\right)\\enspace.\n",
    "\\end{align*}"
   ]
  },
  {
   "cell_type": "markdown",
   "metadata": {},
   "source": []
  }
 ],
 "metadata": {
  "kernelspec": {
   "display_name": "venv",
   "language": "python",
   "name": "python3"
  },
  "language_info": {
   "codemirror_mode": {
    "name": "ipython",
    "version": 3
   },
   "file_extension": ".py",
   "mimetype": "text/x-python",
   "name": "python",
   "nbconvert_exporter": "python",
   "pygments_lexer": "ipython3",
   "version": "3.12.7"
  }
 },
 "nbformat": 4,
 "nbformat_minor": 4
}
