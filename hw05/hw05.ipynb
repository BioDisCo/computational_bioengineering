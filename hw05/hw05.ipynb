{
 "cells": [
  {
   "cell_type": "markdown",
   "id": "3f4231e4-8aef-4c6e-bd5f-c4b76e686c07",
   "metadata": {},
   "source": [
    "# Homework 3\n",
    "\n",
    "You will model your first **distributed circuit**, an oscillator by\n",
    "[Din et al., Nature'17](https://www.ncbi.nlm.nih.gov/pmc/articles/PMC5048415/).\n",
    "\n",
    "For that purpose:\n",
    "* Read the questions in the problem session.\n",
    "* Check out the paper, and also the supplementary material (the pdf) that contains a model proposition\n",
    "  by the authors.\n",
    "  You may take this model, but answer all the questions in the problem session.\n",
    "* Answer the modeling questions from the problem session.\n",
    "* Simulate the system and write what you observe."
   ]
  },
  {
   "cell_type": "markdown",
   "id": "bf5e3fa6-8791-4b4c-95c8-3fa5c9f5f204",
   "metadata": {},
   "source": [
    "---\n",
    "**License**: © 2025 Matthias Függer and Thomas Nowak. Licensed under [CC BY-NC-SA 4.0](https://creativecommons.org/licenses/by-nc-sa/4.0/)."
   ]
  }
 ],
 "metadata": {
  "kernelspec": {
   "display_name": "Python 3 (ipykernel)",
   "language": "python",
   "name": "python3"
  },
  "language_info": {
   "codemirror_mode": {
    "name": "ipython",
    "version": 3
   },
   "file_extension": ".py",
   "mimetype": "text/x-python",
   "name": "python",
   "nbconvert_exporter": "python",
   "pygments_lexer": "ipython3",
   "version": "3.12.4"
  }
 },
 "nbformat": 4,
 "nbformat_minor": 5
}
